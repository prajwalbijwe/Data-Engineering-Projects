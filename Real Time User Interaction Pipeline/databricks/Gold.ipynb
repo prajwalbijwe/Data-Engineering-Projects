{
 "cells": [
  {
   "cell_type": "code",
   "execution_count": 0,
   "metadata": {
    "application/vnd.databricks.v1+cell": {
     "cellMetadata": {
      "byteLimit": 2048000,
      "rowLimit": 10000
     },
     "inputWidgets": {},
     "nuid": "54b216a4-ac92-4aa7-b2c6-0b7afd48878f",
     "showTitle": false,
     "tableResultSettingsMap": {},
     "title": ""
    }
   },
   "outputs": [],
   "source": [
    "import datetime\n",
    "date_ = datetime.datetime.now().strftime(\"%Y-%m-%d\")\n",
    "silver_path = f\"abfss://projectfiles@practicestorageacc0.dfs.core.windows.net/videostream/silver/{date_}/\"\n",
    "df_silver = spark.read.format(\"parquet\").load(silver_path)\n",
    "# df_silver.display()"
   ]
  },
  {
   "cell_type": "code",
   "execution_count": 0,
   "metadata": {
    "application/vnd.databricks.v1+cell": {
     "cellMetadata": {
      "byteLimit": 2048000,
      "rowLimit": 10000
     },
     "inputWidgets": {},
     "nuid": "15a55b5e-2ee3-45de-a2fb-3e768d34653d",
     "showTitle": true,
     "tableResultSettingsMap": {},
     "title": "Processing"
    }
   },
   "outputs": [],
   "source": [
    "from pyspark.sql.functions import date_trunc, col, hour\n",
    "\n",
    "df_prepared = df_silver.withColumn(\"date\", date_trunc(\"hour\", col(\"created_at\")))\n",
    "# df_prepared.display()"
   ]
  },
  {
   "cell_type": "code",
   "execution_count": 0,
   "metadata": {
    "application/vnd.databricks.v1+cell": {
     "cellMetadata": {
      "byteLimit": 2048000,
      "rowLimit": 10000
     },
     "inputWidgets": {},
     "nuid": "c1c187f7-4db3-430e-8c4c-04ffa1599e02",
     "showTitle": false,
     "tableResultSettingsMap": {},
     "title": ""
    }
   },
   "outputs": [],
   "source": [
    "from pyspark.sql.functions import max, countDistinct, count\n",
    "\n",
    "df_gold_videoByHour = df_prepared.groupBy(\"video_id\", \"date\")\\\n",
    "    .agg(\n",
    "        max(\"viewers_count\").alias(\"peak_views\"),\n",
    "        count(\"chat_message\").alias(\"num_messages\"),\n",
    "        countDistinct(\"user_id\").alias(\"unique_users\")\n",
    "    )"
   ]
  },
  {
   "cell_type": "code",
   "execution_count": 0,
   "metadata": {
    "application/vnd.databricks.v1+cell": {
     "cellMetadata": {
      "byteLimit": 2048000,
      "rowLimit": 10000
     },
     "inputWidgets": {},
     "nuid": "74fba5a9-2fb0-485c-b2d9-fe0f19956e67",
     "showTitle": false,
     "tableResultSettingsMap": {},
     "title": ""
    }
   },
   "outputs": [],
   "source": [
    "df_gold_userActivityByHour = df_prepared.groupBy(\"video_id\", \"user_id\", \"date\")\\\n",
    "    .agg(\n",
    "        count(\"event_type\").alias(\"num_events\"),\n",
    "        count(\"chat_message\").alias(\"num_messages\")\n",
    "    )\n",
    "        \n",
    "    "
   ]
  },
  {
   "cell_type": "code",
   "execution_count": 0,
   "metadata": {
    "application/vnd.databricks.v1+cell": {
     "cellMetadata": {
      "byteLimit": 2048000,
      "rowLimit": 10000
     },
     "inputWidgets": {},
     "nuid": "bd84cd9c-5f72-4a8a-a53f-a733dc378876",
     "showTitle": true,
     "tableResultSettingsMap": {},
     "title": "Writing to Gold"
    }
   },
   "outputs": [],
   "source": [
    "gold_path = f\"abfss://projectfiles@practicestorageacc0.dfs.core.windows.net/videostream/gold/\"\n",
    "videoByHour_path = gold_path + \"/videoByHour/\" + date_ + \"/\"\n",
    "userActivityByHour_path = gold_path + \"/userActivityByHour/\" + date_ + \"/\"\n",
    "\n",
    "# Writing to Delta, to enable time travel, ACID operation functionalitites\n",
    "df_gold_videoByHour.write\\\n",
    "    .mode(\"overwrite\")\\\n",
    "    .format(\"delta\")\\\n",
    "    .save(videoByHour_path)\n",
    "\n",
    "df_gold_userActivityByHour.write\\\n",
    "    .mode(\"overwrite\")\\\n",
    "    .format(\"delta\")\\\n",
    "    .save(userActivityByHour_path)"
   ]
  },
  {
   "cell_type": "code",
   "execution_count": 0,
   "metadata": {
    "application/vnd.databricks.v1+cell": {
     "cellMetadata": {},
     "inputWidgets": {},
     "nuid": "2b8f9058-78be-442e-b790-2597edffcc7f",
     "showTitle": false,
     "tableResultSettingsMap": {},
     "title": ""
    }
   },
   "outputs": [],
   "source": []
  }
 ],
 "metadata": {
  "application/vnd.databricks.v1+notebook": {
   "computePreferences": null,
   "dashboards": [],
   "environmentMetadata": {
    "base_environment": "",
    "environment_version": "2"
   },
   "inputWidgetPreferences": null,
   "language": "python",
   "notebookMetadata": {
    "pythonIndentUnit": 4
   },
   "notebookName": "Silver_to_Gold",
   "widgets": {}
  },
  "language_info": {
   "name": "python"
  }
 },
 "nbformat": 4,
 "nbformat_minor": 0
}
