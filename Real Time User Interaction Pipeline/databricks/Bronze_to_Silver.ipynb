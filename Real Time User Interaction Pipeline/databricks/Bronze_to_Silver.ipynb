{
 "cells": [
  {
   "cell_type": "code",
   "execution_count": 0,
   "metadata": {
    "application/vnd.databricks.v1+cell": {
     "cellMetadata": {
      "byteLimit": 2048000,
      "rowLimit": 10000
     },
     "inputWidgets": {},
     "nuid": "55380f3b-8a7f-461e-b932-968a85ad8af6",
     "showTitle": true,
     "tableResultSettingsMap": {},
     "title": "Read data from Bronze"
    }
   },
   "outputs": [],
   "source": [
    "import datetime\n",
    "date_ = datetime.datetime.now().strftime(\"%Y-%m-%d\")\n",
    "bronze_path = f\"abfss://projectfiles@practicestorageacc0.dfs.core.windows.net/videostream/bronze/{date_}\"\n",
    "df_bronze = spark.read.format(\"parquet\").load(bronze_path)\n"
   ]
  },
  {
   "cell_type": "code",
   "execution_count": 0,
   "metadata": {
    "application/vnd.databricks.v1+cell": {
     "cellMetadata": {
      "byteLimit": 2048000,
      "rowLimit": 10000
     },
     "inputWidgets": {},
     "nuid": "7d69341e-37d2-4949-810a-13765de2e0da",
     "showTitle": true,
     "tableResultSettingsMap": {},
     "title": "Clean, Parse, Enrich"
    }
   },
   "outputs": [],
   "source": [
    "from pyspark.sql.functions import col, from_unixtime, to_timestamp, lit, when, expr\n",
    "numeric_pattern = r'^\\d+(\\.\\d+)?$'\n",
    "df_silver = df_bronze \\\n",
    "    .filter(col(\"user_id\").isNotNull())\\\n",
    "    .withColumn(\"load_date\", lit(date_))\\\n",
    "    .withColumn(\"viewers_count\", when(col(\"message\").rlike(numeric_pattern),  col(\"message\").cast(\"int\")))\\\n",
    "    .withColumn(\"chat_message\", when(~col(\"message\").rlike(numeric_pattern), col(\"message\")))\\\n",
    "    .drop(\"message\")\n",
    "\n",
    "df_silver = df_silver.withColumn(\"timestamp\", to_timestamp(col(\"timestamp\").cast(\"timestamp\"), \"yyyy-MM-dd HH:mm:ss\")).withColumnRenamed(\"timestamp\", \"created_at\")\\\n",
    "    .withColumn(\"user_id\", expr(\"substring(base64(sha1(user_id)), 1, 10)\"))\\\n",
    "    .withColumn(\"video_id\", expr(\"substring(base64(sha1(video_id)),1, 10)\"))\\\n",
    "    \n",
    "\n",
    "# df_silver.display()"
   ]
  },
  {
   "cell_type": "code",
   "execution_count": 0,
   "metadata": {
    "application/vnd.databricks.v1+cell": {
     "cellMetadata": {
      "byteLimit": 2048000,
      "rowLimit": 10000
     },
     "inputWidgets": {},
     "nuid": "aea7b861-46ef-4bd6-ad0c-246eeadc85ae",
     "showTitle": true,
     "tableResultSettingsMap": {},
     "title": "Write to Silver layer"
    }
   },
   "outputs": [],
   "source": [
    "\n",
    "silver_path = f\"abfss://projectfiles@practicestorageacc0.dfs.core.windows.net/videostream/silver/{date_}/\"\n",
    "df_silver.write.mode(\"overwrite\")\\\n",
    "    .format(\"parquet\")\\\n",
    "    .save(silver_path)"
   ]
  },
  {
   "cell_type": "code",
   "execution_count": 0,
   "metadata": {
    "application/vnd.databricks.v1+cell": {
     "cellMetadata": {
      "byteLimit": 2048000,
      "rowLimit": 10000
     },
     "inputWidgets": {},
     "nuid": "3e8bfdf1-6783-4cdd-8614-bc334ebfffc3",
     "showTitle": false,
     "tableResultSettingsMap": {},
     "title": ""
    }
   },
   "outputs": [],
   "source": []
  }
 ],
 "metadata": {
  "application/vnd.databricks.v1+notebook": {
   "computePreferences": null,
   "dashboards": [],
   "environmentMetadata": {
    "base_environment": "",
    "environment_version": "2"
   },
   "inputWidgetPreferences": null,
   "language": "python",
   "notebookMetadata": {
    "pythonIndentUnit": 4
   },
   "notebookName": "Bronze_to_Silver",
   "widgets": {}
  },
  "language_info": {
   "name": "python"
  }
 },
 "nbformat": 4,
 "nbformat_minor": 0
}