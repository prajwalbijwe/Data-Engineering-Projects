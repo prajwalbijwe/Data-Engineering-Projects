{
 "cells": [
  {
   "cell_type": "code",
   "execution_count": 0,
   "metadata": {
    "application/vnd.databricks.v1+cell": {
     "cellMetadata": {
      "byteLimit": 2048000,
      "rowLimit": 10000
     },
     "inputWidgets": {},
     "nuid": "77c1ca76-bfeb-492e-8dba-6c167faf8a42",
     "showTitle": false,
     "tableResultSettingsMap": {},
     "title": ""
    }
   },
   "outputs": [],
   "source": [
    "from pyspark.sql.functions import *\n",
    "from datetime import datetime\n",
    "\n",
    "date_ = datetime.utcnow().strftime(\"%Y-%m-%d\")\n",
    "\n",
    "bronze_path = f\"abfss://projectfiles@practicestorageacc0.dfs.core.windows.net/githublogs/bronze/{date_}\"\n",
    "silver_path = f\"abfss://projectfiles@practicestorageacc0.dfs.core.windows.net/githublogs/silver/{date_}\"\n",
    "df_bronze = spark.readStream.format(\"delta\").load(bronze_path)"
   ]
  },
  {
   "cell_type": "code",
   "execution_count": 0,
   "metadata": {
    "application/vnd.databricks.v1+cell": {
     "cellMetadata": {
      "byteLimit": 2048000,
      "rowLimit": 10000
     },
     "inputWidgets": {},
     "nuid": "72004765-1bff-47d7-838c-59e5397f7a4b",
     "showTitle": false,
     "tableResultSettingsMap": {},
     "title": ""
    }
   },
   "outputs": [],
   "source": [
    "df_silver = df_bronze \\\n",
    "    .filter(\"event_type is not null and timestamp is not null and actor is not null\")  \\\n",
    "    .withColumn(\"event_time\", to_timestamp(col(\"timestamp\"))) \\\n",
    "    .withColumn(\"event_type\", trim(lower(col(\"event_type\")))) \\\n",
    "    .withColumn(\"repo\", trim(col(\"repo\"))) \\\n",
    "    .withColumn(\"actor\", trim(col(\"actor\")))\n",
    "\n",
    "df_silver = df_silver \\\n",
    "    .withColumn(\"org\", split(col(\"repo\"), \"/\").getItem(0)) \\\n",
    "    .withColumn(\"repo_name\", split(col(\"repo\"), \"/\").getItem(1))"
   ]
  },
  {
   "cell_type": "code",
   "execution_count": 0,
   "metadata": {
    "application/vnd.databricks.v1+cell": {
     "cellMetadata": {
      "byteLimit": 2048000,
      "rowLimit": 10000
     },
     "inputWidgets": {},
     "nuid": "c997b60c-b411-48ca-8991-3dfacfa16b1f",
     "showTitle": false,
     "tableResultSettingsMap": {},
     "title": ""
    }
   },
   "outputs": [],
   "source": [
    "query = (\n",
    "    df_silver.writeStream\n",
    "    .format(\"delta\")\n",
    "    .option(\"checkpointLocation\", f\"/temp/checkpoints/githublogs/silver/{date_}\")\n",
    "    .option(\"path\", silver_path)\n",
    "    .trigger(availableNow=True)\n",
    "    .start()\n",
    ")\n",
    "query.awaitTermination()"
   ]
  },
  {
   "cell_type": "code",
   "execution_count": 0,
   "metadata": {
    "application/vnd.databricks.v1+cell": {
     "cellMetadata": {
      "byteLimit": 2048000,
      "rowLimit": 10000
     },
     "inputWidgets": {},
     "nuid": "8c972eb2-9b93-4117-8530-b1b8d539ff7f",
     "showTitle": false,
     "tableResultSettingsMap": {},
     "title": ""
    }
   },
   "outputs": [],
   "source": []
  }
 ],
 "metadata": {
  "application/vnd.databricks.v1+notebook": {
   "computePreferences": null,
   "dashboards": [],
   "environmentMetadata": {
    "base_environment": "",
    "environment_version": "2"
   },
   "inputWidgetPreferences": null,
   "language": "python",
   "notebookMetadata": {
    "pythonIndentUnit": 4
   },
   "notebookName": "bronze_to_silver",
   "widgets": {}
  },
  "language_info": {
   "name": "python"
  }
 },
 "nbformat": 4,
 "nbformat_minor": 0
}