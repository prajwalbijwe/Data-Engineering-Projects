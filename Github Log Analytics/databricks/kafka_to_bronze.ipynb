{
 "cells": [
  {
   "cell_type": "code",
   "execution_count": 0,
   "metadata": {
    "application/vnd.databricks.v1+cell": {
     "cellMetadata": {
      "byteLimit": 2048000,
      "rowLimit": 10000
     },
     "inputWidgets": {},
     "nuid": "0e85d491-16c6-443e-ba44-2767575c7ef7",
     "showTitle": false,
     "tableResultSettingsMap": {},
     "title": ""
    }
   },
   "outputs": [],
   "source": [
    "from pyspark.sql.types import *\n",
    "from pyspark.sql.functions import *\n",
    "from datetime import datetime\n",
    "\n",
    "kafka_bootstrap_servers = \"pkc-56d1g.eastus.azure.confluent.cloud:9092\"\n",
    "kafka_topic = 'github_logs'\n",
    "api_key = 'LLPDTJOM6HZMVVEK'\n",
    "api_secret = 'M35bZlxNWayWwn8p8F/4nxbBrsdt3TOhSAM5BTCK48C4FZjiFeHckPhD2ZCOBWiF'\n",
    "\n",
    "date_ = datetime.utcnow().strftime(\"%Y-%m-%d\")\n",
    "bronze_path = f\"abfss://projectfiles@practicestorageacc0.dfs.core.windows.net/githublogs/bronze/{date_}\""
   ]
  },
  {
   "cell_type": "code",
   "execution_count": 0,
   "metadata": {
    "application/vnd.databricks.v1+cell": {
     "cellMetadata": {
      "byteLimit": 2048000,
      "rowLimit": 10000
     },
     "inputWidgets": {},
     "nuid": "ce842e75-b216-42bd-b624-7885e72a1100",
     "showTitle": false,
     "tableResultSettingsMap": {},
     "title": ""
    }
   },
   "outputs": [],
   "source": [
    "df_raw = spark.readStream.format('kafka') \\\n",
    "    .option(\"kafka.bootstrap.servers\", kafka_bootstrap_servers)  \\\n",
    "    .option(\"subscribe\", kafka_topic) \\\n",
    "    .option(\"kafka.security.protocol\", \"SASL_SSL\") \\\n",
    "    .option(\"kafka.sasl.mechanism\", \"PLAIN\") \\\n",
    "    .option(\"kafka.sasl.jaas.config\", f'kafkashaded.org.apache.kafka.common.security.plain.PlainLoginModule required username=\"{api_key}\" password=\"{api_secret}\";') \\\n",
    "    .option(\"startingOffsets\", 'earliest') \\\n",
    "    .load()\n",
    "\n",
    "df_raw = df_raw.selectExpr(\"CAST(value as STRING) as json_str\") "
   ]
  },
  {
   "cell_type": "code",
   "execution_count": 0,
   "metadata": {
    "application/vnd.databricks.v1+cell": {
     "cellMetadata": {
      "byteLimit": 2048000,
      "rowLimit": 10000
     },
     "inputWidgets": {},
     "nuid": "99221fde-8e4a-4b04-804d-3aee97f7a039",
     "showTitle": false,
     "tableResultSettingsMap": {},
     "title": ""
    }
   },
   "outputs": [],
   "source": [
    "df_schema = StructType() \\\n",
    "    .add(\"timestamp\", StringType()) \\\n",
    "    .add(\"event_type\", StringType()) \\\n",
    "    .add(\"repo\", StringType()) \\\n",
    "    .add(\"actor\", StringType()) \\\n",
    "    .add(\"raw\", StringType())\n",
    "\n",
    "df_bronze = df_raw.select(\n",
    "    from_json(col(\"json_str\"), df_schema).alias(\"data\")\n",
    "    ).select(\"data.*\")"
   ]
  },
  {
   "cell_type": "code",
   "execution_count": 0,
   "metadata": {
    "application/vnd.databricks.v1+cell": {
     "cellMetadata": {
      "byteLimit": 2048000,
      "rowLimit": 10000
     },
     "inputWidgets": {},
     "nuid": "301e65fe-e6e5-400f-8ff7-dd340a8bfb67",
     "showTitle": false,
     "tableResultSettingsMap": {},
     "title": ""
    }
   },
   "outputs": [],
   "source": [
    "checkpoint_path = f\"/tmp/checkpoints/github_logs/{date_}\"\n",
    "\n",
    "dbutils.fs.rm(\"/tmp/checkpoints/githublogs-bronze/\", True)\n",
    "\n",
    "query = df_bronze.writeStream \\\n",
    "    .format(\"delta\") \\\n",
    "    .option(\"checkpointLocation\", f\"/tmp/checkpoints/githublogs-bronze/{date_}/\")\\\n",
    "    .option(\"path\", bronze_path) \\\n",
    "    .trigger(availableNow=True) \\\n",
    "    .start()\n",
    "query.awaitTermination()\n"
   ]
  },
  {
   "cell_type": "code",
   "execution_count": 0,
   "metadata": {
    "application/vnd.databricks.v1+cell": {
     "cellMetadata": {
      "byteLimit": 2048000,
      "rowLimit": 10000
     },
     "inputWidgets": {},
     "nuid": "17b5de96-2c29-45f2-810c-e1b8a07bacf7",
     "showTitle": false,
     "tableResultSettingsMap": {},
     "title": ""
    }
   },
   "outputs": [],
   "source": []
  }
 ],
 "metadata": {
  "application/vnd.databricks.v1+notebook": {
   "computePreferences": null,
   "dashboards": [],
   "environmentMetadata": {
    "base_environment": "",
    "environment_version": "2"
   },
   "inputWidgetPreferences": null,
   "language": "python",
   "notebookMetadata": {
    "pythonIndentUnit": 4
   },
   "notebookName": "kafka_to_bronze",
   "widgets": {}
  },
  "language_info": {
   "name": "python"
  }
 },
 "nbformat": 4,
 "nbformat_minor": 0
}