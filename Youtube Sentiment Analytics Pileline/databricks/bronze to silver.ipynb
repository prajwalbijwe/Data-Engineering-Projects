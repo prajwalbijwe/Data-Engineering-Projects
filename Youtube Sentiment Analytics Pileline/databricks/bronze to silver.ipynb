{
 "cells": [
  {
   "cell_type": "code",
   "execution_count": 0,
   "metadata": {
    "application/vnd.databricks.v1+cell": {
     "cellMetadata": {
      "byteLimit": 2048000,
      "rowLimit": 10000
     },
     "inputWidgets": {},
     "nuid": "a6fe10ea-c217-44b9-8f3e-c121d221f80e",
     "showTitle": false,
     "tableResultSettingsMap": {},
     "title": ""
    }
   },
   "outputs": [],
   "source": [
    "from pyspark.sql.functions import to_timestamp, col, lit\n",
    "from datetime import datetime\n",
    "date_ = datetime.today().strftime('%Y-%m-%d')\n",
    "\n",
    "bronze_path = f\"abfss://projectfiles@practicestorageacc0.dfs.core.windows.net/commentsentiment/bronze/{date_}/\"\n",
    "silver_path = f\"abfss://projectfiles@practicestorageacc0.dfs.core.windows.net/commentsentiment/silver/{date_}/\"\n"
   ]
  },
  {
   "cell_type": "code",
   "execution_count": 0,
   "metadata": {
    "application/vnd.databricks.v1+cell": {
     "cellMetadata": {
      "byteLimit": 2048000,
      "rowLimit": 10000
     },
     "inputWidgets": {},
     "nuid": "ec0f0813-e9e2-4767-91b2-1bbf3c8488b8",
     "showTitle": true,
     "tableResultSettingsMap": {},
     "title": "Read from Bronze"
    }
   },
   "outputs": [
    {
     "output_type": "display_data",
     "data": {
      "text/html": [
       "<style scoped>\n",
       "  .table-result-container {\n",
       "    max-height: 300px;\n",
       "    overflow: auto;\n",
       "  }\n",
       "  table, th, td {\n",
       "    border: 1px solid black;\n",
       "    border-collapse: collapse;\n",
       "  }\n",
       "  th, td {\n",
       "    padding: 5px;\n",
       "  }\n",
       "  th {\n",
       "    text-align: left;\n",
       "  }\n",
       "</style><div class='table-result-container'><table class='table-result'><thead style='background-color: white'><tr><th>video_id</th><th>user</th><th>text</th><th>published_at</th><th>like_count</th></tr></thead><tbody><tr><td>RgKAFK5djSk</td><td>@EvilenDossantos</td><td>\uD83D\uDE2D</td><td>2025-07-13T17:03:55Z</td><td>0</td></tr><tr><td>RgKAFK5djSk</td><td>@Ice-x4q4n</td><td>See you again Ahmed ❤</td><td>2025-07-13T17:03:02Z</td><td>0</td></tr><tr><td>RgKAFK5djSk</td><td>@alufasimuzonda6310</td><td>\uD83D\uDE22\uD83D\uDE22\uD83D\uDE22\uD83D\uDE22 this pains who is with me in this song \uD83C\uDFB5 \uD83D\uDE2D \uD83D\uDE29 \uD83D\uDE2B  RIP to all our beloved ones \uD83D\uDC94 \uD83D\uDE22</td><td>2025-07-13T17:02:51Z</td><td>0</td></tr><tr><td>RgKAFK5djSk</td><td>@Sam-g8t9j</td><td>We miss u paul</td><td>2025-07-13T16:50:29Z</td><td>1</td></tr><tr><td>RgKAFK5djSk</td><td>@babuvlogs8818</td><td>Anyone in July 2025\uD83D\uDE05</td><td>2025-07-13T16:50:08Z</td><td>0</td></tr><tr><td>RgKAFK5djSk</td><td>@selenavive4603</td><td>Alguém em 2025?</td><td>2025-07-13T16:48:27Z</td><td>0</td></tr><tr><td>RgKAFK5djSk</td><td>@hoangtucibidi</td><td>R.I.P Diogo Jota \uD83D\uDD4A️\uD83C\uDDF5\uD83C\uDDF9</td><td>2025-07-13T16:36:15Z</td><td>2</td></tr><tr><td>RgKAFK5djSk</td><td>@orishampdah1886</td><td>❤</td><td>2025-07-13T16:31:02Z</td><td>0</td></tr><tr><td>RgKAFK5djSk</td><td>@RivaldoEtienne-h4q8x</td><td>R.i.p jota \uD83D\uDE07</td><td>2025-07-13T16:20:22Z</td><td>0</td></tr><tr><td>RgKAFK5djSk</td><td>@KevenCosmo</td><td>I love ❤❤❤❤you</td><td>2025-07-13T16:06:58Z</td><td>0</td></tr><tr><td>RgKAFK5djSk</td><td>@BHN-h6c</td><td>Diogo Jota\uD83D\uDE22\uD83D\uDD4A</td><td>2025-07-13T15:47:17Z</td><td>2</td></tr><tr><td>RgKAFK5djSk</td><td>@OseaKapaiter</td><td>Jota\uD83E\uDD7A❤\uD83E\uDD0D</td><td>2025-07-13T15:45:23Z</td><td>0</td></tr><tr><td>RgKAFK5djSk</td><td>@IlohAyang-v8w</td><td>For paul</td><td>2025-07-13T15:41:30Z</td><td>0</td></tr><tr><td>RgKAFK5djSk</td><td>@wanderson1112morais</td><td>Alguém em 2025</td><td>2025-07-13T15:17:38Z</td><td>0</td></tr><tr><td>RgKAFK5djSk</td><td>@lifeofshy20</td><td>See you again my best friend \uD83D\uDC10\uD83D\uDD4A️✨\uD83E\uDD40</td><td>2025-07-13T15:17:25Z</td><td>0</td></tr><tr><td>RgKAFK5djSk</td><td>@NinjaJunior567</td><td>See you again Andre Silva and Diogo Jota\uD83D\uDE2D✝️\uD83C\uDDF5\uD83C\uDDF9</td><td>2025-07-13T15:12:33Z</td><td>0</td></tr><tr><td>RgKAFK5djSk</td><td>@skyhigh6089</td><td>Let's face it, the song is legendary for the Charlie Puth chorus. The rap is forgettable.</td><td>2025-07-13T15:10:16Z</td><td>0</td></tr><tr><td>RgKAFK5djSk</td><td>@RhadigerDanoninho</td><td>To conhecendo uma mulher que Deus abençoe eu é ela \uD83E\uDD79</td><td>2025-07-13T15:08:42Z</td><td>0</td></tr><tr><td>RgKAFK5djSk</td><td>@alisonbayliss735</td><td>Yeah</td><td>2025-07-13T14:59:33Z</td><td>0</td></tr><tr><td>RgKAFK5djSk</td><td>@RAJA_SHORTS_36</td><td>Hii guys I'm from India \uD83C\uDDEE\uD83C\uDDF3\uD83C\uDDEE\uD83C\uDDF3\uD83C\uDDEE\uD83C\uDDF3\uD83C\uDDEE\uD83C\uDDF3\uD83C\uDDEE\uD83C\uDDF3\uD83C\uDDEE\uD83C\uDDF3\uD83C\uDDEE\uD83C\uDDF3\uD83C\uDDEE\uD83C\uDDF3\uD83C\uDDEE\uD83C\uDDF3\uD83C\uDDEE\uD83C\uDDF3\uD83C\uDDEE\uD83C\uDDF3\uD83C\uDDEE\uD83C\uDDF3\uD83C\uDDEE\uD83C\uDDF3\uD83C\uDDEE\uD83C\uDDF3\uD83C\uDDEE\uD83C\uDDF3\uD83C\uDDEE\uD83C\uDDF3</td><td>2025-07-13T14:53:26Z</td><td>0</td></tr><tr><td>RgKAFK5djSk</td><td>@AUNGKO-cn2fr</td><td>See you again</td><td>2025-07-13T14:40:41Z</td><td>0</td></tr><tr><td>RgKAFK5djSk</td><td>@LakainduAnjanalakindu</td><td>❤</td><td>2025-07-13T14:19:01Z</td><td>0</td></tr><tr><td>RgKAFK5djSk</td><td>@Ashanef</td><td>See you agian dile\uD83D\uDE22</td><td>2025-07-13T14:16:24Z</td><td>1</td></tr><tr><td>RgKAFK5djSk</td><td>@jatikusumasihombing3152</td><td>Hi guys \n",
       "I am from Indonesian</td><td>2025-07-13T14:06:37Z</td><td>0</td></tr><tr><td>RgKAFK5djSk</td><td>@danalee2355</td><td>this reminds me of when me and my dad used to drive in the car and play this song all the time memories were now 11 and 39</td><td>2025-07-13T13:55:27Z</td><td>0</td></tr><tr><td>RgKAFK5djSk</td><td>@PRËMÃÑÃÑDÃ-r6m</td><td>Full support for Wiz Khalifa❤\uD83D\uDE0A</td><td>2025-07-13T13:39:56Z</td><td>1</td></tr><tr><td>RgKAFK5djSk</td><td>@PRËMÃÑÃÑDÃ-r6m</td><td>Full support for Wiz Kalifa❤</td><td>2025-07-13T13:39:01Z</td><td>0</td></tr><tr><td>RgKAFK5djSk</td><td>@pfog</td><td>Paul Walker was my ultimate man crush. BJJ brown belt and was a straight gear head. Dude seemed humble and just like a the dude anybody would enjoy kickin’ it. Remember hearing of his passing and it still brings tears to my eyes to this day. 6B views tells makes me realize I’m not the only one that felt this way.</td><td>2025-07-13T13:33:42Z</td><td>0</td></tr><tr><td>RgKAFK5djSk</td><td>@Keneid2007Masengesho</td><td>\uD83D\uDE2D\uD83D\uDE2D\uD83D\uDE2D\uD83D\uDE2D\uD83D\uDE2D\uD83D\uDE2D\uD83D\uDE2D\uD83D\uDE2D\uD83D\uDE2D\uD83D\uDE2D\uD83D\uDE2D\uD83D\uDE2D\uD83D\uDE2D\uD83D\uDE2D\uD83D\uDE2D\uD83D\uDE2D\uD83D\uDE2D\uD83D\uDE2D\uD83D\uDE2D\uD83D\uDE2D\uD83D\uDE2D\uD83D\uDE2D\uD83D\uDE2D\uD83D\uDE2D\uD83D\uDE2D\uD83D\uDE2D\uD83D\uDE2D\uD83D\uDE2D\uD83D\uDE2D\uD83D\uDE2D\uD83D\uDE2D</td><td>2025-07-13T13:26:59Z</td><td>0</td></tr><tr><td>RgKAFK5djSk</td><td>@MariaIone-h6o</td><td>Melhor música que tem no mundo ❤❤\uD83D\uDE22\uD83D\uDE22❤</td><td>2025-07-13T13:18:38Z</td><td>0</td></tr><tr><td>RgKAFK5djSk</td><td>@Tirox._zfr</td><td>0:47 0:51 0:51 0:51 0:52 0:52 0:53 0:53 0:53 0:53 0:55 0:55 0:55 0:55 0:57 0:57 0:58 0:58 0:58 0:58 0:59 0:59 0:59 0:59 0:59 1:00 1:00 1:00 \uD83D\uDE22 Paul</td><td>2025-07-13T13:17:24Z</td><td>0</td></tr><tr><td>RgKAFK5djSk</td><td>@Rabin_8</td><td>See you again paul walker and diogo jota\uD83D\uDE22❤\n",
       "Love you forever ❤</td><td>2025-07-13T13:16:48Z</td><td>0</td></tr><tr><td>RgKAFK5djSk</td><td>@Manjeshkumar-i1y</td><td>Love you soug.  Massg</td><td>2025-07-13T13:01:32Z</td><td>1</td></tr><tr><td>RgKAFK5djSk</td><td>@AlhajiMbah-w7d</td><td>Another super star gone jota \uD83E\uDD7A</td><td>2025-07-13T13:00:28Z</td><td>1</td></tr><tr><td>RgKAFK5djSk</td><td>@jayeshrore2307</td><td>July 2025 \n",
       "Pls Attendance Here</td><td>2025-07-13T12:54:19Z</td><td>0</td></tr><tr><td>RgKAFK5djSk</td><td>@johnpaulhermida492</td><td>17 years without paul walker we miss you RIP 1973-2013</td><td>2025-07-13T12:50:57Z</td><td>0</td></tr><tr><td>RgKAFK5djSk</td><td>@SophieWalker-h6x</td><td>Is be lo bay</td><td>2025-07-13T12:50:24Z</td><td>0</td></tr><tr><td>RgKAFK5djSk</td><td>@Whisper-7-o4c</td><td>Best song</td><td>2025-07-13T12:46:06Z</td><td>1</td></tr><tr><td>RgKAFK5djSk</td><td>@MARCOSGomesdocanto</td><td>\uD83D\uDE22\uD83D\uDE22\uD83D\uDE22❤</td><td>2025-07-13T12:42:12Z</td><td>0</td></tr><tr><td>RgKAFK5djSk</td><td>@LeonardoMucci-s2m</td><td>See you again</td><td>2025-07-13T12:40:06Z</td><td>0</td></tr><tr><td>RgKAFK5djSk</td><td>@soulmate648</td><td>From heaven ✨️</td><td>2025-07-13T12:36:41Z</td><td>0</td></tr><tr><td>RgKAFK5djSk</td><td>@芦澤清隆恵</td><td>素晴らしい曲に出会えました\uD83C\uDF40\n",
       "心癒されます❣️\n",
       "ありがとうございます\uD83D\uDE0A\n",
       "3ヶ月前にGlobal  ATOMYと出会いました✨️\n",
       "それからGlobal\uD83C\uDF40に興味を持つようになりました✨️✨️</td><td>2025-07-13T12:32:37Z</td><td>0</td></tr><tr><td>RgKAFK5djSk</td><td>@Khimlal95</td><td>2025 \uD83D\uDE2E Anyone?</td><td>2025-07-13T12:26:59Z</td><td>4</td></tr><tr><td>RgKAFK5djSk</td><td>@pacewaras6929</td><td>Rip diogo Jota \uD83D\uDE22</td><td>2025-07-13T12:21:24Z</td><td>1</td></tr><tr><td>RgKAFK5djSk</td><td>@Roshanrana123-s1t</td><td>Sad song</td><td>2025-07-13T12:21:07Z</td><td>0</td></tr><tr><td>RgKAFK5djSk</td><td>@pacewaras6929</td><td>13 juli 2025</td><td>2025-07-13T12:20:31Z</td><td>0</td></tr><tr><td>RgKAFK5djSk</td><td>@Rahulvasavaa</td><td>Kon-kon India \uD83C\uDDEE\uD83C\uDDF3se like Karen \n",
       "❤Dil Ko chhune wala song ❤</td><td>2025-07-13T12:19:20Z</td><td>1</td></tr><tr><td>RgKAFK5djSk</td><td>@thanikaorawanchaikul4573</td><td>Any one in 2025 ?</td><td>2025-07-13T12:18:48Z</td><td>1</td></tr><tr><td>RgKAFK5djSk</td><td>@K4YL3B</td><td>Rest in peace Diogo Jota, you will truly never walk alone...\n",
       "\n",
       "We love you my guy, we will tell you all about it when we see you again. <3\n",
       "\n",
       "1997-2025</td><td>2025-07-13T12:06:39Z</td><td>0</td></tr><tr><td>RgKAFK5djSk</td><td>@Deepshikha-rx5zp</td><td>Diogo jota rip\uD83E\uDD7A</td><td>2025-07-13T11:58:21Z</td><td>0</td></tr><tr><td>RgKAFK5djSk</td><td>@IbrahimChocoGana</td><td>Rest in piece❤❤❤</td><td>2025-07-13T11:48:05Z</td><td>1</td></tr><tr><td>RgKAFK5djSk</td><td>@AtlehangPhalane</td><td>I love this song that I'm singing I love it I love it I love it it's just like I can't stop thinking listening to it bye it's just like the best thing that I ever had to because it's just like your members me of my friend who died❤❤❤</td><td>2025-07-13T11:40:50Z</td><td>1</td></tr><tr><td>RgKAFK5djSk</td><td>@purplebacon-401</td><td>Kobe</td><td>2025-07-13T11:39:04Z</td><td>1</td></tr><tr><td>RgKAFK5djSk</td><td>@christianoooooo7</td><td>This fukin song still touches my heart ❤️❤️</td><td>2025-07-13T11:32:57Z</td><td>0</td></tr><tr><td>RgKAFK5djSk</td><td>@youtube_gmz</td><td>3:16 best part \uD83D\uDE0E rip pual walker</td><td>2025-07-13T11:27:17Z</td><td>0</td></tr><tr><td>RgKAFK5djSk</td><td>@山之口海斗</td><td>これが10年前とは\uD83D\uDE22</td><td>2025-07-13T11:23:03Z</td><td>0</td></tr><tr><td>RgKAFK5djSk</td><td>@yasinpro9522</td><td>jos</td><td>2025-07-13T11:02:40Z</td><td>0</td></tr><tr><td>RgKAFK5djSk</td><td>@ZinMyo-n5r</td><td>Sea you again u.z.y.t\uD83D\uDE22</td><td>2025-07-13T10:59:36Z</td><td>0</td></tr><tr><td>RgKAFK5djSk</td><td>@surenteran1631</td><td>13/725 \uD83D\uDE22</td><td>2025-07-13T10:58:31Z</td><td>0</td></tr><tr><td>RgKAFK5djSk</td><td>@izzykidyt6394</td><td>who watch this video on 2025?</td><td>2025-07-13T10:55:15Z</td><td>3</td></tr><tr><td>RgKAFK5djSk</td><td>@PkKumarasiri</td><td>❤❤ Forever Paul Walker  \uD83D\uDD4A</td><td>2025-07-13T10:40:23Z</td><td>0</td></tr><tr><td>RgKAFK5djSk</td><td>@norbilmaxamed3888</td><td>RIP see you again Diogo jota he based away in before 9 days\uD83D\uDE22</td><td>2025-07-13T10:39:06Z</td><td>0</td></tr><tr><td>RgKAFK5djSk</td><td>@GauravGc-d9p</td><td>Anyone from Nepal?</td><td>2025-07-13T10:17:33Z</td><td>0</td></tr><tr><td>RgKAFK5djSk</td><td>@jayshriramjayshriram_99</td><td>jab milenge dobara\uD83D\uDE02</td><td>2025-07-13T10:04:22Z</td><td>0</td></tr><tr><td>RgKAFK5djSk</td><td>@AnnyHahan</td><td>My old teacher  and my best friend  see you again</td><td>2025-07-13T10:02:02Z</td><td>0</td></tr><tr><td>RgKAFK5djSk</td><td>@Suparji03-w6t</td><td>I came here to remember Paul Walker, Diogo Jota, and Andre Silva. May they rest in peace. \uD83D\uDE22\uD83E\uDD79</td><td>2025-07-13T09:57:48Z</td><td>0</td></tr><tr><td>RgKAFK5djSk</td><td>@AdikiCidijua</td><td>See you Again ajano\uD83D\uDE22</td><td>2025-07-13T09:55:52Z</td><td>0</td></tr><tr><td>RgKAFK5djSk</td><td>@bhagirtom</td><td>anyonye 2025</td><td>2025-07-13T09:54:30Z</td><td>1</td></tr><tr><td>RgKAFK5djSk</td><td>@GeorgeJovin-y3w</td><td>R.l.P Diogo jota</td><td>2025-07-13T09:52:10Z</td><td>0</td></tr><tr><td>RgKAFK5djSk</td><td>@Jacobzz14</td><td>R.I.P Diogo Jota we will miss you with this song in mind</td><td>2025-07-13T09:51:09Z</td><td>0</td></tr><tr><td>RgKAFK5djSk</td><td>@AbuIsidro-ko5sm</td><td>See you again my father and Mother \uD83D\uDE22\uD83C\uDDF2\uD83C\uDDFF</td><td>2025-07-13T09:39:48Z</td><td>0</td></tr><tr><td>RgKAFK5djSk</td><td>@Antsuli05</td><td>❤\uD83C\uDDEB\uD83C\uDDEE</td><td>2025-07-13T09:38:58Z</td><td>0</td></tr><tr><td>RgKAFK5djSk</td><td>@Fynn-y8v</td><td>[__€^*>__]</td><td>2025-07-13T09:35:12Z</td><td>0</td></tr><tr><td>RgKAFK5djSk</td><td>@User9472-l4k</td><td>La familia es primero \uD83E\uDD75\uD83D\uDE0E\uD83D\uDDFF\uD83D\uDD25\uD83D\uDD25\uD83D\uDCAF</td><td>2025-07-13T09:33:27Z</td><td>0</td></tr><tr><td>RgKAFK5djSk</td><td>@Nidalwas_4</td><td>Not like being rude but is he married to Mia kalifah</td><td>2025-07-13T09:10:22Z</td><td>0</td></tr><tr><td>RgKAFK5djSk</td><td>@SonawayinouCarmel</td><td>Mes parents repose en paix ☮️ Diego jota \uD83D\uDE22\uD83D\uDE2D\uD83D\uDE2D</td><td>2025-07-13T08:46:59Z</td><td>0</td></tr><tr><td>RgKAFK5djSk</td><td>@RCRaihan-l2y</td><td>2025... \uD83E\uDD72\uD83E\uDEF6</td><td>2025-07-13T08:45:15Z</td><td>0</td></tr><tr><td>RgKAFK5djSk</td><td>@dawidq7807</td><td>[*]</td><td>2025-07-13T08:31:30Z</td><td>0</td></tr><tr><td>RgKAFK5djSk</td><td>@ElaSafitri-t5t</td><td>Anyone in july 2025 ❤</td><td>2025-07-13T08:11:59Z</td><td>1</td></tr><tr><td>RgKAFK5djSk</td><td>@ajaythakur1785</td><td>Se you again ❤❤❤</td><td>2025-07-13T08:10:26Z</td><td>0</td></tr><tr><td>RgKAFK5djSk</td><td>@MagmaAka</td><td>Rest in peace Diogo jota\uD83C\uDDF5\uD83C\uDDF9\uD83D\uDD4A</td><td>2025-07-13T07:37:15Z</td><td>0</td></tr><tr><td>RgKAFK5djSk</td><td>@kajalbaruah2637</td><td>Anyone Here July \uD83D\uDE0C❤️\uD83E\uDDFF✨️</td><td>2025-07-13T06:55:08Z</td><td>3</td></tr><tr><td>RgKAFK5djSk</td><td>@JoseEduardoZavalaRomero</td><td>Paul And Diogo \uD83C\uDDFA\uD83C\uDDF2\uD83E\uDD1D\uD83C\uDFFB\uD83C\uDDF5\uD83C\uDDF9 Together In Heaven And Always Never Gets Old Before 2026❤️\uD83C\uDF8A\uD83C\uDDF2\uD83C\uDDFD❤️\uD83C\uDF8A\uD83C\uDDFA\uD83C\uDDF2\n",
       "Before The World Cup</td><td>2025-07-13T06:48:18Z</td><td>2</td></tr><tr><td>RgKAFK5djSk</td><td>@Aik-sy9zo</td><td>2025 Who is listening?\uD83C\uDF89\uD83C\uDF89\uD83C\uDF89</td><td>2025-07-13T06:24:22Z</td><td>4</td></tr><tr><td>RgKAFK5djSk</td><td>@mahudeleon8806</td><td>Paul</td><td>2025-07-13T06:20:47Z</td><td>0</td></tr><tr><td>RgKAFK5djSk</td><td>@MayamikoMasangano-g4z</td><td>And diego</td><td>2025-07-13T06:09:39Z</td><td>0</td></tr><tr><td>RgKAFK5djSk</td><td>@MayamikoMasangano-g4z</td><td>Rip Paul walker</td><td>2025-07-13T06:09:27Z</td><td>0</td></tr><tr><td>RgKAFK5djSk</td><td>@SarojBc-61690</td><td>Rip dogo jota RIP \uD83D\uDE22⚰⚰\uD83E\uDD7A\uD83E\uDD7A\uD83E\uDD7A\uD83D\uDC94\uD83D\uDC94\uD83D\uDC94\uD83D\uDC94\uD83D\uDC94\uD83D\uDC94\uD83D\uDC94</td><td>2025-07-13T06:08:10Z</td><td>0</td></tr><tr><td>RgKAFK5djSk</td><td>@Elza-m9x</td><td>i’ll always be here for him no matter where the future has for us\uD83E\uDD79\uD83E\uDD79’23\uD83D\uDC9B\uD83E\uDD0E\uD83D\uDC9B\uD83E\uDD0E\uD83D\uDE4F\uD83D\uDE4F!!</td><td>2025-07-13T06:04:41Z</td><td>0</td></tr><tr><td>RgKAFK5djSk</td><td>@TanjibTarek-c8y</td><td>Diago jota miss you \uD83D\uDE22\uD83D\uDE22\uD83D\uDE22\uD83C\uDDE7\uD83C\uDDE9</td><td>2025-07-13T05:50:37Z</td><td>0</td></tr><tr><td>RgKAFK5djSk</td><td>@LuisTorres-t9w</td><td>Hey\uD83D\uDE22</td><td>2025-07-13T05:46:43Z</td><td>0</td></tr><tr><td>RgKAFK5djSk</td><td>@Mark1986</td><td>Paul \uD83D\uDE4F\uD83D\uDE22</td><td>2025-07-13T05:43:58Z</td><td>0</td></tr><tr><td>RgKAFK5djSk</td><td>@maduradileesha7058</td><td>2025 any one.</td><td>2025-07-13T05:36:59Z</td><td>0</td></tr><tr><td>RgKAFK5djSk</td><td>@abir_the_stormBorn33</td><td>Anyone here from 2035? ✨\uD83D\uDDA4</td><td>2025-07-13T05:24:47Z</td><td>0</td></tr><tr><td>RgKAFK5djSk</td><td>@DaRealAntGotti</td><td>Wiz helps P.Walk live on 4ever!!!\uD83D\uDCAF\uD83D\uDC4D\uD83C\uDFFD\uD83D\uDE4F\uD83C\uDFFC</td><td>2025-07-13T05:18:37Z</td><td>1</td></tr><tr><td>RgKAFK5djSk</td><td>@lazzyut</td><td>ISOLAAAAAAAADOOOOOS</td><td>2025-07-13T05:01:15Z</td><td>0</td></tr><tr><td>RgKAFK5djSk</td><td>@ThịĐiềnNguyễn-n3q4n</td><td>Seeyouagain ban</td><td>2025-07-13T04:43:22Z</td><td>0</td></tr><tr><td>RgKAFK5djSk</td><td>@Jouns_life</td><td>Pour tout ceux partis très tôt \n",
       "On pense à vous\uD83D\uDE4F\uD83C\uDFFD</td><td>2025-07-13T04:41:37Z</td><td>0</td></tr><tr><td>RgKAFK5djSk</td><td>@Talhaezlen</td><td>\"Even though you're no longer here,\n",
       "a part of you still lives in every quiet moment I feel.\n",
       "I don’t hate you — I just miss you in silence.\"</td><td>2025-07-13T04:15:30Z</td><td>0</td></tr><tr><td>RgKAFK5djSk</td><td>@azraqeyra2866</td><td>nangis bangettttt</td><td>2025-07-13T03:56:42Z</td><td>0</td></tr><tr><td>X1Fqn9du7xo</td><td>@fernandobunguele2018</td><td>Moçambique 2025 toco muito essa música na Radio</td><td>2025-07-13T16:39:37Z</td><td>0</td></tr><tr><td>X1Fqn9du7xo</td><td>@mattsantiago6714</td><td>2025 \uD83E\uDD73</td><td>2025-07-13T09:24:31Z</td><td>2</td></tr><tr><td>X1Fqn9du7xo</td><td>@SooHaaacked</td><td>Who came from key of awesome parody \uD83D\uDE02\uD83D\uDE02</td><td>2025-07-13T07:44:08Z</td><td>2</td></tr><tr><td>X1Fqn9du7xo</td><td>@aishaamrenova7351</td><td>\uD83E\uDEF6\uD83E\uDEF6\uD83E\uDEF6 2025</td><td>2025-07-12T20:22:05Z</td><td>1</td></tr><tr><td>X1Fqn9du7xo</td><td>@anapatterson8301</td><td>❤</td><td>2025-07-12T16:08:59Z</td><td>2</td></tr><tr><td>X1Fqn9du7xo</td><td>@LordHakier</td><td>He’s solo career sucks but hes a great volalist. He made more cucess in Europe with his pop efforts .. still had some great covers ..</td><td>2025-07-12T08:51:23Z</td><td>1</td></tr><tr><td>X1Fqn9du7xo</td><td>@HulkHogan-x8l</td><td>\uD83D\uDE0A</td><td>2025-07-12T08:18:23Z</td><td>0</td></tr><tr><td>X1Fqn9du7xo</td><td>@brittanyc4241</td><td>i love his style now but i loved his emo style back then !!</td><td>2025-07-12T07:49:11Z</td><td>1</td></tr><tr><td>X1Fqn9du7xo</td><td>@brandymiller4904</td><td>God i am 27 and I have not heard this song i 10 years and yes he is my idol</td><td>2025-07-12T03:03:03Z</td><td>1</td></tr><tr><td>X1Fqn9du7xo</td><td>@ChristineNewton-u5j</td><td>Love to Ivy</td><td>2025-07-11T16:25:25Z</td><td>1</td></tr><tr><td>X1Fqn9du7xo</td><td>@ChristineNewton-u5j</td><td>Save everyone's life if we all singing from the same page of Lyrics!</td><td>2025-07-11T16:24:10Z</td><td>1</td></tr><tr><td>X1Fqn9du7xo</td><td>@ChristineNewton-u5j</td><td>Money is the route of EVERY Evil</td><td>2025-07-11T16:23:23Z</td><td>1</td></tr><tr><td>X1Fqn9du7xo</td><td>@ChristineNewton-u5j</td><td>Much love to Mitchell even tho I don't approve of most he gets up to.</td><td>2025-07-11T16:22:40Z</td><td>1</td></tr><tr><td>X1Fqn9du7xo</td><td>@deoncuba2305</td><td>\uD83D\uDE0E\uD83D\uDC492025ADAM LAMBERT IS AWESOME\uD83C\uDF89..HIS VOICE ALWAYS GETS ME PUMPED UP..THIS GUY'S VOICE IS INCREDIBLE JUST BEAUTIFULLY POWERFUL I LOVE THIS SONG\uD83E\uDD0E\uD83C\uDF39\uD83D\uDC4F</td><td>2025-07-11T01:59:58Z</td><td>1</td></tr><tr><td>X1Fqn9du7xo</td><td>@deoncuba2305</td><td>\uD83D\uDE0E\uD83D\uDC492025ADAM LAMBERT IS AWESOME\uD83C\uDF89..HIS VOICE ALWAYS GETS ME PUMPED UP..THIS GUY'S VOICE IS INCREDIBLE JUST BEAUTIFULLY POWERFUL I LOVE THIS SONG\uD83E\uDD0E\uD83C\uDF39\uD83D\uDC4F</td><td>2025-07-11T01:59:44Z</td><td>1</td></tr><tr><td>X1Fqn9du7xo</td><td>@RopertPenuela</td><td>I liked this song but he's gay now</td><td>2025-07-10T15:38:17Z</td><td>2</td></tr><tr><td>X1Fqn9du7xo</td><td>@Skydeeppearls</td><td>First time after long time, 2025 ✌️\uD83D\uDCAF</td><td>2025-07-10T14:34:00Z</td><td>1</td></tr><tr><td>X1Fqn9du7xo</td><td>@egoist36</td><td>This is a masterpice of 2010's music video.</td><td>2025-07-09T23:22:53Z</td><td>1</td></tr><tr><td>X1Fqn9du7xo</td><td>@mattcorcoran1397</td><td>The fact this was Pink's song and she gave it to him.. She knew.. \uD83D\uDD25\uD83D\uDD25.. 13..</td><td>2025-07-09T22:43:38Z</td><td>3</td></tr><tr><td>X1Fqn9du7xo</td><td>@JenniferHollyCole</td><td>Love❤️ this! Great video!\uD83D\uDE0E\uD83D\uDC4D</td><td>2025-07-09T21:51:20Z</td><td>1</td></tr><tr><td>X1Fqn9du7xo</td><td>@GabrielaBonska-Sosnicka-pn5cx</td><td>❤\uD83E\uDDF8</td><td>2025-07-09T17:18:29Z</td><td>1</td></tr><tr><td>X1Fqn9du7xo</td><td>@LiaDe-y1o</td><td>Adam is gorgeous</td><td>2025-07-09T16:27:48Z</td><td>1</td></tr><tr><td>X1Fqn9du7xo</td><td>@lenamusina4386</td><td>No one will touch me anymore until the end of my death!\uD83D\uDC80☠️\uD83D\uDCAF\uD83D\uDCA5\uD83D\uDDA4\uD83D\uDC8BAdam, you understand me!</td><td>2025-07-09T13:44:25Z</td><td>2</td></tr><tr><td>X1Fqn9du7xo</td><td>@TimBoy-w3e7h</td><td>Mussss</td><td>2025-07-09T02:59:56Z</td><td>1</td></tr><tr><td>X1Fqn9du7xo</td><td>@FaithMazivanhanga-q2e</td><td>It's now 15 years but this song will always be my favourite❤❤❤</td><td>2025-07-08T17:51:54Z</td><td>1</td></tr><tr><td>X1Fqn9du7xo</td><td>@QUARTERJACKmusic</td><td>Crazy that P!nk passed on this song..he killed it</td><td>2025-07-08T05:41:48Z</td><td>1</td></tr><tr><td>X1Fqn9du7xo</td><td>@Seby-d6w</td><td>❤❤❤</td><td>2025-07-07T11:58:46Z</td><td>1</td></tr><tr><td>X1Fqn9du7xo</td><td>@еленасапожникова-х8р</td><td>Pictures... . Q... .</td><td>2025-07-07T07:48:12Z</td><td>1</td></tr><tr><td>X1Fqn9du7xo</td><td>@منوعاتيوتيوبرية-س1م</td><td>لينا الامورة \uD83D\uDE22</td><td>2025-07-07T02:28:47Z</td><td>1</td></tr><tr><td>X1Fqn9du7xo</td><td>@aminasiahmed8455</td><td>This song need to hit the 1Md views \uD83D\uDE22\uD83D\uDE22</td><td>2025-07-07T00:58:47Z</td><td>2</td></tr><tr><td>X1Fqn9du7xo</td><td>@AnasAbbas-uj6dw</td><td>Aged like fine wine</td><td>2025-07-05T22:15:39Z</td><td>1</td></tr><tr><td>X1Fqn9du7xo</td><td>@CultureofMusic.-2</td><td>Still2025\uD83D\uDE0D</td><td>2025-07-05T21:17:55Z</td><td>1</td></tr><tr><td>X1Fqn9du7xo</td><td>@Shel-o4l</td><td>this song forever has a special place in my heart. miss the young Adam and the good old days~\uD83D\uDC99\uD83D\uDDA4</td><td>2025-07-05T14:19:29Z</td><td>6</td></tr><tr><td>X1Fqn9du7xo</td><td>@BafanaSibolake</td><td>Am working it owt\uD83D\uDE0A</td><td>2025-07-05T10:43:21Z</td><td>2</td></tr><tr><td>X1Fqn9du7xo</td><td>@gamezie3734</td><td>Tax inspection: Good morning. \n",
       "Adam: Whataya Want from Me?!</td><td>2025-07-05T08:40:05Z</td><td>4</td></tr><tr><td>X1Fqn9du7xo</td><td>@codilawrence9721</td><td>I wouldn’t even try but I think you could save my liiiiiiiiife \uD83D\uDE29</td><td>2025-07-05T03:35:31Z</td><td>3</td></tr><tr><td>X1Fqn9du7xo</td><td>@futurenostalgiatv3305</td><td>July 5, 2025 \uD83E\uDD1A</td><td>2025-07-05T02:03:25Z</td><td>1</td></tr><tr><td>X1Fqn9du7xo</td><td>@SathyaSharvan-eh3gw</td><td>Adam voice ❤</td><td>2025-07-04T17:30:00Z</td><td>1</td></tr><tr><td>X1Fqn9du7xo</td><td>@purplezen4261</td><td>July 3 2025 -  fireworks!</td><td>2025-07-04T02:37:18Z</td><td>2</td></tr><tr><td>X1Fqn9du7xo</td><td>@shaniawiggs7171</td><td>❤❤❤❤</td><td>2025-07-03T22:58:40Z</td><td>1</td></tr><tr><td>X1Fqn9du7xo</td><td>@tumelomolefe3329</td><td>I miss my college days friend Moorosi\uD83D\uDE22</td><td>2025-07-02T13:55:47Z</td><td>1</td></tr><tr><td>X1Fqn9du7xo</td><td>@Miriam.B.Borges</td><td>Anyone here for this masterpiece?</td><td>2025-07-02T12:20:19Z</td><td>3</td></tr><tr><td>X1Fqn9du7xo</td><td>@Amy_11163</td><td>Any concerts of this artist in the USA? I wanna go</td><td>2025-07-02T04:38:13Z</td><td>2</td></tr><tr><td>X1Fqn9du7xo</td><td>@elistanley89</td><td>calming</td><td>2025-07-01T09:03:28Z</td><td>1</td></tr><tr><td>X1Fqn9du7xo</td><td>@MasequaCollier</td><td>Life</td><td>2025-07-01T04:40:24Z</td><td>1</td></tr><tr><td>X1Fqn9du7xo</td><td>@madaradefender8008</td><td>Still searching on july 2025 ;))</td><td>2025-07-01T03:37:05Z</td><td>1</td></tr><tr><td>X1Fqn9du7xo</td><td>@ernestonovele8602</td><td>2025</td><td>2025-06-30T18:45:07Z</td><td>1</td></tr><tr><td>X1Fqn9du7xo</td><td>@bingbird77</td><td>To Teal Swan, Madonna, and Kristina.  Marines don't like to get pegged.</td><td>2025-06-30T14:29:14Z</td><td>1</td></tr><tr><td>X1Fqn9du7xo</td><td>@daraesentertainment7346</td><td>99fm favorite jam..</td><td>2025-06-30T13:01:05Z</td><td>1</td></tr><tr><td>X1Fqn9du7xo</td><td>@XianSparda</td><td>i dont like it tobe sasuke</td><td>2025-06-30T10:59:42Z</td><td>1</td></tr><tr><td>X1Fqn9du7xo</td><td>@XianSparda</td><td>hello</td><td>2025-06-30T10:59:31Z</td><td>1</td></tr><tr><td>X1Fqn9du7xo</td><td>@ImanTahaAtallah</td><td>My childhood ❤</td><td>2025-06-29T19:18:10Z</td><td>2</td></tr><tr><td>X1Fqn9du7xo</td><td>@JumanSamsung</td><td>\uD83D\uDE22\uD83D\uDE22\uD83D\uDE22\uD83D\uDE22\uD83D\uDE22\uD83C\uDF89\uD83C\uDF89\uD83C\uDF89\uD83C\uDF89</td><td>2025-06-29T14:56:09Z</td><td>1</td></tr><tr><td>X1Fqn9du7xo</td><td>@LilassHd-ev3md</td><td>Stay on the ground</td><td>2025-06-29T14:13:59Z</td><td>1</td></tr><tr><td>X1Fqn9du7xo</td><td>@juninhosampaio503</td><td>This song brings me such a great inner peace!</td><td>2025-06-29T02:37:38Z</td><td>1</td></tr><tr><td>X1Fqn9du7xo</td><td>@lifew-oscar</td><td>Still listening, 29th June 2025 ❤</td><td>2025-06-29T01:35:59Z</td><td>1</td></tr><tr><td>X1Fqn9du7xo</td><td>@blessingchamburuka3269</td><td>I thought Pink sang this song.</td><td>2025-06-29T01:14:35Z</td><td>1</td></tr><tr><td>X1Fqn9du7xo</td><td>@Michael-p5b6y</td><td>Still 2026</td><td>2025-06-29T00:57:38Z</td><td>1</td></tr><tr><td>X1Fqn9du7xo</td><td>@kateandersen2221</td><td>This and a wide open desert!</td><td>2025-06-28T22:29:03Z</td><td>1</td></tr><tr><td>X1Fqn9du7xo</td><td>@edsonnluiss</td><td>150M ✔</td><td>2025-06-28T19:41:26Z</td><td>1</td></tr><tr><td>X1Fqn9du7xo</td><td>@miganisan</td><td>Nostalgia</td><td>2025-06-28T19:20:03Z</td><td>1</td></tr><tr><td>X1Fqn9du7xo</td><td>@thesisterhoodhub</td><td>He wants a relationship with you. Every life matters, and you are deeply loved by God. He cares for each of us—from the womb to the tomb. Life is fragile, and we’ve been given free will to choose between right and wrong—choices that impact not only us, but those around us, for better or worse.\n",
       "\n",
       "One day, we will each give an account of our lives—our thoughts, actions, words, and motives. Who can stand before a holy and just God? Jesus came to save us from our sinful nature. He is the way, the truth, and the life. No one comes to the Father except through Him. He alone is the mediator between God and man—and only He can forgive sins.\n",
       "\n",
       "Sin is knowing what’s right and choosing not to do it. It includes things like sexual immorality, idolatry, addiction, drunkenness, lying, hatred, and unforgiveness—anything that separates us from God. But the call to salvation is for everyone, regardless of your past, background, or identity. Jesus invites you to turn from sin and receive His free gift of salvation. It cannot be earned—salvation is by grace alone. Jesus paid the price for our sins on the cross to reconcile us to God.\n",
       "\n",
       "He was crucified—nails through His hands and feet, a crown of thorns on His head—and He died for our sins. But on the third day, He rose from the dead. Jesus is alive! Now is the time to respond. Romans 10:9 says, “If you declare with your mouth, ‘Jesus is Lord,’ and believe in your heart that God raised Him from the dead, you will be saved.” It’s not just saying a prayer that saves—it’s real belief, repentance, and a surrendered heart.\n",
       "\n",
       "Ask God to forgive your sins. Turn from your old life and begin a new one, walking daily with Jesus. Ask the Holy Spirit to guide you. Read the Bible, obey it, and stay close to God in prayer—seeking His wisdom, strength, and direction.\n",
       "\n",
       "Embrace this good news and pray:\n",
       "\n",
       "“Dear God, thank You for loving me. I confess that I have sinned against You. I believe that Jesus, Your Son, died on the cross for my sins and rose from the dead. Please forgive me. I confess that Jesus is my Lord and Savior. Thank You for the gift of eternal life. In Jesus’ name, Amen.”\n",
       "\n",
       "It’s not just a prayer—it’s the surrender of your heart and life to Jesus that brings salvation. Now is the time. Step out of darkness and into His light. He’s waiting with open arms. Receive His love and His gift of eternal life today.</td><td>2025-06-28T19:04:11Z</td><td>2</td></tr><tr><td>X1Fqn9du7xo</td><td>@Riyu-23</td><td>1:47\"but i think you could save my life\"\n",
       "These lyrics give one meaning in my life</td><td>2025-06-28T17:38:29Z</td><td>10</td></tr><tr><td>X1Fqn9du7xo</td><td>@AlaynaBell-k2v7l</td><td>wait…. is this song for emos only?</td><td>2025-06-28T04:38:29Z</td><td>1</td></tr><tr><td>X1Fqn9du7xo</td><td>@skolopendrra08</td><td>Просто Супер!\n",
       "Очень жаль, что сейчас конкурс Евровидение превратился в политику....., а этой песне  реально повезло успеть не коснуться всего этого....</td><td>2025-06-28T01:26:37Z</td><td>1</td></tr><tr><td>X1Fqn9du7xo</td><td>@shives1866</td><td>WWE fans might know this is the guy that married Alexa Bliss. lucky rascal</td><td>2025-06-27T23:52:18Z</td><td>1</td></tr><tr><td>X1Fqn9du7xo</td><td>@shives1866</td><td>I sing the chorus to my 5 year old daughter when she starts the dad dad dad. I'll hit her with a \"whata want from me\" but the whole song is so great for us . i just keep trying and hope she doesn't give up on me and she definitely saved my life</td><td>2025-06-27T23:49:57Z</td><td>3</td></tr><tr><td>X1Fqn9du7xo</td><td>@Jacob_C_Jones</td><td>I just randomly started singing this song at work damnnnn I miss this era\uD83D\uDE29❤️</td><td>2025-06-27T22:22:39Z</td><td>2</td></tr><tr><td>X1Fqn9du7xo</td><td>@benlloyd3216</td><td>Just GO AWAY!!!!</td><td>2025-06-27T15:06:15Z</td><td>1</td></tr><tr><td>X1Fqn9du7xo</td><td>@goldenleaf1599</td><td>\uD83D\uDE0D\uD83D\uDE0D\uD83D\uDE0D\uD83D\uDE0D\uD83D\uDE0D\uD83D\uDE0D\uD83D\uDE0D</td><td>2025-06-27T08:29:35Z</td><td>2</td></tr><tr><td>X1Fqn9du7xo</td><td>@ElenaSorelle</td><td>If you’ve ever felt not enough for someone, this song cuts deep. It’s the sound of trying your hardest, and still losing.</td><td>2025-06-27T07:15:46Z</td><td>2</td></tr><tr><td>X1Fqn9du7xo</td><td>@lenamusina4386</td><td>A war with Lambert.....we'll fight like dogs!\uD83D\uDE0A❤\uD83D\uDE02</td><td>2025-06-26T12:47:01Z</td><td>2</td></tr><tr><td>X1Fqn9du7xo</td><td>@ridhoammarharahap5540</td><td>:')\n",
       "\n",
       "Aaaah... The good old Times. :') ❤\uD83D\uDCAF\n",
       "\n",
       "I've lost my right thumb couple years ago..\n",
       "\n",
       "October 13th. 2021. Ahahah...\n",
       "\n",
       "And also lost my beloved aunt, her brother, her younger brother, and also my uncle-in-law... :')\n",
       "\n",
       "Even not long ago, months back this year 2024, i've lost one of my closest older cousin... Due to some traffic accident.. :'(\n",
       "\n",
       "Ahahah... Man.. If only..\n",
       "\n",
       "Aaaah... I really miss the good old times... :') ❤\uD83D\uDCAF</td><td>2025-06-26T05:19:23Z</td><td>3</td></tr><tr><td>X1Fqn9du7xo</td><td>@awanthi5950</td><td>I came back! After so many years. To find this song! Adam Lambert had always been a favourite of mine</td><td>2025-06-26T00:56:11Z</td><td>2</td></tr><tr><td>X1Fqn9du7xo</td><td>@Rin-ow3qn</td><td>10 years later and I still know it word for word ❤</td><td>2025-06-26T00:13:11Z</td><td>1</td></tr><tr><td>X1Fqn9du7xo</td><td>@carollaia</td><td>2025 novamente ❤</td><td>2025-06-25T22:41:16Z</td><td>1</td></tr><tr><td>X1Fqn9du7xo</td><td>@Anne24499</td><td>Dude is actually fine as fk</td><td>2025-06-24T15:51:36Z</td><td>3</td></tr><tr><td>X1Fqn9du7xo</td><td>@doubledoubleusmokymirror4d405</td><td>I want nothing from others but the best four themselves</td><td>2025-06-24T15:00:24Z</td><td>1</td></tr><tr><td>X1Fqn9du7xo</td><td>@farahrachid4603</td><td>2025</td><td>2025-06-24T12:24:26Z</td><td>1</td></tr><tr><td>X1Fqn9du7xo</td><td>@ballasvideo8431</td><td>Omg, it's my favorite song❤❤❤❤❤❤❤❤❤❤\uD83D\uDE22\uD83D\uDE22\uD83D\uDE22remember  ex</td><td>2025-06-24T11:23:38Z</td><td>1</td></tr><tr><td>X1Fqn9du7xo</td><td>@charlesvire7517</td><td>\uD83C\uDF39\uD83C\uDF39\uD83C\uDF39</td><td>2025-06-24T09:51:18Z</td><td>2</td></tr><tr><td>X1Fqn9du7xo</td><td>@cell_blackz</td><td>I wont let u down\uD83C\uDF89\uD83C\uDF89\uD83C\uDF89</td><td>2025-06-23T23:15:57Z</td><td>4</td></tr><tr><td>X1Fqn9du7xo</td><td>@spookynojutsu</td><td>2025 anyone?</td><td>2025-06-23T22:52:27Z</td><td>6</td></tr><tr><td>X1Fqn9du7xo</td><td>@kokophyo502</td><td>Come back old Adam\uD83C\uDF89\uD83C\uDF89\uD83C\uDF89</td><td>2025-06-23T21:59:49Z</td><td>5</td></tr><tr><td>X1Fqn9du7xo</td><td>@Thatbluegirl2003</td><td>My grandma has to be the biggest fan of his that I've ever met and my grandma is currently 82 years old</td><td>2025-06-23T21:49:16Z</td><td>1</td></tr><tr><td>X1Fqn9du7xo</td><td>@dianapalmeiraa</td><td>2025 \uD83E\uDEF6\uD83C\uDFFB</td><td>2025-06-23T19:20:38Z</td><td>2</td></tr><tr><td>X1Fqn9du7xo</td><td>@NiceMandarine</td><td>stop! please!  im 27 and im still love him and that song</td><td>2025-06-22T22:31:37Z</td><td>2</td></tr><tr><td>X1Fqn9du7xo</td><td>@ridasaadaoui2529</td><td>2025 \uD83D\uDE22</td><td>2025-06-22T16:56:14Z</td><td>2</td></tr><tr><td>X1Fqn9du7xo</td><td>@juliobraz7202</td><td>I was just a teenager when this song first dropped. Now I’m 31, and it still hits me like a freight train.</td><td>2025-06-22T04:51:17Z</td><td>6</td></tr><tr><td>X1Fqn9du7xo</td><td>@Randy-SupermegacyIvyson</td><td>The Nostalgia\uD83D\uDE22❤ \uD83D\uDD25\uD83D\uDD25\uD83D\uDD25</td><td>2025-06-22T01:51:33Z</td><td>1</td></tr><tr><td>X1Fqn9du7xo</td><td>@El_Danix_Experiencias</td><td>❤02:19❤</td><td>2025-06-22T00:42:57Z</td><td>1</td></tr><tr><td>X1Fqn9du7xo</td><td>@isabel_kyr</td><td>Listening 2025❤❤❤❤❤</td><td>2025-06-21T21:21:57Z</td><td>3</td></tr><tr><td>X1Fqn9du7xo</td><td>@Bejojo25</td><td>19h58\n",
       "Sam21juin25❤</td><td>2025-06-21T18:55:58Z</td><td>1</td></tr><tr><td>X1Fqn9du7xo</td><td>@KatongoNganduMubanga</td><td>Could listen to this song some 15 years ago</td><td>2025-06-21T14:50:00Z</td><td>1</td></tr><tr><td>X1Fqn9du7xo</td><td>@zjebanyrekin</td><td><3</td><td>2025-06-21T12:27:06Z</td><td>1</td></tr><tr><td>X1Fqn9du7xo</td><td>@crazyamericanredhead</td><td>Yup</td><td>2025-06-20T18:52:39Z</td><td>1</td></tr><tr><td>X1Fqn9du7xo</td><td>@marcusomowole7456</td><td>i want some meth amphetamine \uD83E\uDD73\uD83E\uDD73\uD83E\uDD73 adam! LOL hahahaha</td><td>2025-06-20T17:24:27Z</td><td>1</td></tr><tr><td>X1Fqn9du7xo</td><td>@dennylen1283</td><td>listen to his every song everyday literally</td><td>2025-06-19T20:13:25Z</td><td>1</td></tr><tr><td>X1Fqn9du7xo</td><td>@KadenLavallee-i3p</td><td>I swear this guys song bin in my head since i was like 7\n",
       "\"\"Hey what you doing? What do u want? from me\"\"</td><td>2025-06-19T19:50:10Z</td><td>4</td></tr><tr><td>X1Fqn9du7xo</td><td>@wailin4424</td><td>2025 June</td><td>2025-06-19T19:43:30Z</td><td>1</td></tr><tr><td>ekr2nIex040</td><td>@bolacha_extreme3461</td><td>Porque eu achava que essa musica tinha mais de 10 anos? Ela deve parecer muito com uma que eu já ouvi e estou me enganando. Não é possível que essa musica foi lançada a 8 meses...</td><td>2025-07-13T17:10:08Z</td><td>0</td></tr><tr><td>ekr2nIex040</td><td>@DevonMays-b1u</td><td>1:18 Bro looked so happy after</td><td>2025-07-13T17:07:58Z</td><td>0</td></tr><tr><td>ekr2nIex040</td><td>@rania-l0ve</td><td>1.812B VIEWS\n",
       "16M LIKES\n",
       "18.5M FOLLOWERS\n",
       "KEEP STREAMING HERE AND ON SPOTIFY!!!</td><td>2025-07-13T17:01:08Z</td><td>1</td></tr><tr><td>ekr2nIex040</td><td>@andresguadalupedelacruzarg577</td><td>Hi❤❤❤❤</td><td>2025-07-13T17:00:46Z</td><td>0</td></tr><tr><td>ekr2nIex040</td><td>@Amina-h7e6l</td><td>\uD83C\uDFA4\uD83E\uDD70 Si</td><td>2025-07-13T17:00:33Z</td><td>0</td></tr><tr><td>ekr2nIex040</td><td>@jeyoungpark911</td><td>GANGNAM STYLE THEN \uD83C\uDF89\n",
       "APT NOW \uD83C\uDF89\uD83C\uDF89\uD83C\uDF89</td><td>2025-07-13T16:58:14Z</td><td>0</td></tr><tr><td>ekr2nIex040</td><td>@RinadAta</td><td>Love you ❤</td><td>2025-07-13T16:50:40Z</td><td>1</td></tr><tr><td>ekr2nIex040</td><td>@EsmelealemMeheretu</td><td>APT❤❤❤❤❤❤❤\uD83D\uDE0A</td><td>2025-07-13T16:41:57Z</td><td>4</td></tr><tr><td>ekr2nIex040</td><td>@BALU91a</td><td>This is going to hit 2 Billion in 1 year ,  Crazy \uD83D\uDDA4\uD83D\uDC93</td><td>2025-07-13T16:41:35Z</td><td>8</td></tr><tr><td>ekr2nIex040</td><td>@grimreaper2606</td><td>She has a beautiful voice ❤</td><td>2025-07-13T16:39:30Z</td><td>5</td></tr><tr><td>ekr2nIex040</td><td>@SrijitaDas-y5s</td><td>Keep streaming guys, let's make it reach 2 billion!!!</td><td>2025-07-13T16:32:15Z</td><td>3</td></tr><tr><td>ekr2nIex040</td><td>@skz_B3</td><td>2b omg</td><td>2025-07-13T16:25:32Z</td><td>2</td></tr><tr><td>ekr2nIex040</td><td>@JENJENJEN-12</td><td>Don't you want me like i want you baby</td><td>2025-07-13T16:21:08Z</td><td>3</td></tr><tr><td>ekr2nIex040</td><td>@ошдаеӡлзошҟ</td><td>Que feoooo</td><td>2025-07-13T16:19:42Z</td><td>0</td></tr><tr><td>ekr2nIex040</td><td>@matthewfeagin3609</td><td>FROM FREE BIRDS (2013) THE WALKING DEAD MGM TOM AND JERRY PETER PAN FROM PUSS IN BOOTS (2011) TOY STORY 3 ICE AGE THE MELTDOWN GNOMEO AND JULIET FROM MISS SPIDER (2004) ICE AGE DAWN OF THE DINOSAURS MONSTERS INC END CREDITS FINDING NEMO FROM FREE BIRDS (2013) MEGAMIND MGM TOM AND JERRY FAMILY GUY FROM RIO (2011) CODENAME KIDS NEXT DOOR ICE AGE THE MELTDOWN ICE AGE A MAMMOTH CHRISTMAS KLASKY CSUPO MONSTERS UNIVERSITY MY SLURP JEOPARDY FROM FREE BIRDS (2013) RATATOUILLE MGM TOM AND JERRY GEICO PAWS LITTLE BABY BUM ICE AGE THE MELTDOWN UP THE PEANUTS MOVIE TANGLED MY SLURP THE GOONIES KUNG FU PANDA HOLIDAY SPECIAL ICE AGE THE MELTDOWN MGM TOM AND JERRY MADAGASCAR ESCAPE 2 AFRICA PAWS MONSTERS VS ALIENS ICE AGE THE MELTDOWN CARS FROM ICE AGE COLLISION COURSE (2016) MEET THE ROBINSONS FROM HOW TO TRAIN YOUR DRAGON (2010) SISTER WIVES KUNG FU PANDA 2 TRAILER ICE AGE CONTINENTAL DRIFT MGM TOM AND JERRY TOY STORY HAPPY FEET SLEEPING BEAUTY ICE AGE THE MELTDOWN BRAVE FROM ICE AGE COLLISION COURSE (2016) DC LEAGUE OF SUPER-PETS FROM CARS (2006) DC LEAGUE OF SUPER-PETS GNOMEO AND JULIET DC LEAGUE OF SUPER-PETS FROM SHARK TALE (2004) DC LEAGUE OF SUPER-PETS SESAME STREET DC LEAGUE OF SUPER-PETS MADAGASCAR DC LEAGUE OF SUPER-PETS RIO 2 DC LEAGUE OF SUPER-PETS MONSTERS VS ALIENS DC LEAGUE OF SUPER-PETS CARS DC LEAGUE OF SUPER-PETS MEET THE ROBINSONS DC LEAGUE OF SUPER-PETS SISTER WIVES DC LEAGUE OF SUPER-PETS FROM THE INCREDIBLES (2004) DC LEAGUE OF SUPER-PETS FUZZY DOOR PRODUCTIONS 20TH CENTURY FOX DC LEAGUE OF SUPER-PETS FILM ROMAN STARZ MEDIA 2010 DC LEAGUE OF SUPER-PETS FROM RANGO (2011) DC LEAGUE OF SUPER-PETS FROM SURF UP (2007) DC LEAGUE OF SUPER-PETS FROM PUSS IN BOOTS (2011) DC LEAGUE OF SUPER-PETS DUG SPECIAL MISSION DC LEAGUE OF SUPER-PETS UFM UNIDENTIFIED FLYING MATER DC LEAGUE OF SUPER-PETS FROM KUNG FU PANDA (2008) DC LEAGUE OF SUPER-PETS TOY STORY DC LEAGUE OF SUPER-PETS HEY DUGGEE DC LEAGUE OF SUPER-PETS FROM KUNG FU PANDA (2008) DC LEAGUE OF SUPER-PETS FROM RIO 2 (2014) DC LEAGUE OF SUPER-PETS SESAME STREET DC LEAGUE OF SUPER-PETS MY SLURP DC LEAGUE OF SUPER-PETS HOME DC LEAGUE OF SUPER-PETS DR FRIGHTUNE EEK TURNING RED ARTHUR TURNING RED FROM SURF UP (2007) TURNING RED MONSTERS VS ALIENS HBO TURNING RED FROM SECRETS OF THE FURIOUS FIVE (2008) TURNING RED DORA THE EXPLORER TURNING RED SECRETS OF THE FURIOUS FIVE TURNING RED RIO TURNING RED WARNER BROS ANIMATION TURNING RED THE INCREDIBLES FREEFORM TURNING RED FROM MONSTERS VS ALIENS (2009) TURNING RED THE INCREDIBLES ABC FAMILY TURNING RED SURF UP(2007) END CREDITS. TURNING RED SHARK TALE TURNING RED FROM OPEN SEASON 2 (2008) TURNING RED KUNG FU PANDA 2008 DISNEY XD TURNING RED MY SLURP TURNING RED FROM HOME (2015) TURNING RED THE WONDER PETS TURNING RED EEKSBUSCAMPERS TURNING RED FROM ICE AGE DAWN OF THE DINOSAURS (2009) TURNING RED GNOMEO AND JULIET TURNING RED MY SLURP TURNING RED HAPPY FEET TURNING RED SURF UP TRAILER TURNING RED PAWS TURNING RED FROM OPEN SEASON 2 (2008) TURNING RED COOKIE JAR WGBH TURNING RED CHUGGINGTON TURNING RED FROM THE SPONGEBOB SQUAREPANTS MOVIE (2004) TURNING RED FROM ICE AGE DAWN OF THE DINOSAURS (2009) TURNING RED CHICKEN LITTLE TURNING RED SUNNY BUNNIES BOO TURNING RED FROM FINDING NEMO (2003) TURNING RED MONSTERS INC END CREDITS TURNING RED FRANKLIN THEME SONG TURNING RED</td><td>2025-07-13T16:17:31Z</td><td>0</td></tr><tr><td>ekr2nIex040</td><td>@RhafIlzidy</td><td>❤❤❤❤\uD83D\uDE0A\uD83D\uDE0A❤❤\uD83D\uDE0A\uD83D\uDE2E</td><td>2025-07-13T16:12:23Z</td><td>0</td></tr><tr><td>ekr2nIex040</td><td>@matthewfeagin3609</td><td>FROM HOW TO TRAIN YOUR DRAGON (2010) KUNG FU PANDA KUNG FU PANDA 2 TRAILER RIO MGM TOM AND JERRY KUNG FU PANDA 3 HAPPY FEET PIXAR SHORT FILMS ICE AGE THE MELTDOWN THE PRINCESS AND THE FROG FROM ICE AGE COLLISION COURSE (2016) MADAGASCAR FROM CARS (2006) ICE AGE GNOMEO AND JULIET SHREK FOREVER AFTER FROM SHARK TALE (2004) THE INCREDIBLES SESAME STREET MONSTERS INC MADAGASCAR TOY STORY 2 RIO 2 DESPICABLE ME MONSTERS VS ALIENS THE PATRIOT CARS HOW TO TRAIN YOUR DRAGON MEET THE ROBINSONS KUNG FU PANDA 2 SISTER WIVES KUNG FU PANDA HOLIDAY SPECIAL FROM THE INCREDIBLES (2004) DISNEY PREP & LANDING FUZZY DOOR PRODUCTIONS 20TH CENTURY FOX SHARK TALE FILM ROMAN STARZ MEDIA 2010 THE LITTLE MERMAID FROM RANGO (2011) THE INCREDIBLES FROM SURF UP (2007) WALL-E FROM PUSS IN BOOTS (2011) THE WALKING DEAD DUG SPECIAL MISSION PETER PAN UFM UNIDENTIFIED FLYING MATER TOY STORY 3 FROM KUNG FU PANDA (2008) GNOMEO AND JULIET TOY STORY ICE AGE DAWN OF THE DINOSAURS HEY DUGGEE FINDING NEMO FROM KUNG FU PANDA (2008) MEGAMIND FROM RIO 2 (2014) FAMILY GUY SESAME STREET ICE AGE A MAMMOTH CHRISTMAS MY SLURP OVER THE HEDGE HOME MONSTERS UNIVERSITY DR FRIGHTUNE EEK JEOPARDY ARTHUR RATATOUILLE FROM SURF UP (2007) GEICO MONSTERS VS ALIENS HBO LITTLE BABY BUM FROM SECRETS OF THE FURIOUS FIVE (2008) UP DORA THE EXPLORER TANGLED SECRETS OF THE FURIOUS FIVE HOME ON THE RANGE RIO ICE AGE THE MELTDOWN WARNER BROS ANIMATION MADAGASCAR ESCAPE 2 AFRICA THE INCREDIBLES FREEFORM MONSTERS VS ALIENS FROM MONSTERS VS ALIENS (2009) CARS THE INCREDIBLES ABC FAMILY MEET THE ROBINSONS SURF UP(2007) END CREDITS. SISTER WIVES SHARK TALE ICE AGE CONTINENTAL DRIFT FROM OPEN SEASON 2 (2008) TOY STORY KUNG FU PANDA 2008 DISNEY XD GEICO INSURANCE MY SLURP BRAVE FROM HOME (2015) KUNG FU PANDA THE WONDER PETS RIO EEKSBUSCAMPERS KUNG FU PANDA 3 FROM ICE AGE DAWN OF THE DINOSAURS (2009) PIXAR SHORT FILMS GNOMEO AND JULIET THE PRINCESS AND THE FROG MY SLURP MADAGASCAR HAPPY FEET ICE AGE SURF UP TRAILER SHREK FOREVER AFTER PAWS THE INCREDIBLES FROM OPEN SEASON 2 (2008) MONSTERS INC COOKIE JAR WGBH TOY STORY 2 CHUGGINGTON DESPICABLE ME FROM THE SPONGEBOB SQUAREPANTS MOVIE (2004) TOM AND JERRY FROM ICE AGE DAWN OF THE DINOSAURS (2009) HOW TO TRAIN YOUR DRAGON CHICKEN LITTLE KUNG FU PANDA 2 SUNNY BUNNIES BOO AMERICA DAD FROM FINDING NEMO (2003) CARTOON NETWORK HARVEY MONSTERS INC END CREDITS SAVAGE STUDIOS LTD FRANKLIN THEME SONG CARTOON NETWORK DEXTER LABORATORY DR FRIGHTUNE EEK DEEPLE DOO FROM MADAGASCAR ESCAPE 2 AFRICA (2008) UNDERDOG PRODUCTIONS OPENING TO MADAGASCAR 3 EUROPE MOST WANTED 2012 DVD ICE AGE SMALL POTATOES PETER PAN MY SLURP TOY STORY 3 ICE AGE 2 TRAILER GNOMEO AND JULIET DR FRIGHTUNE EEK ICE AGE DAWN OF THE DINOSAURS CARS ENDING FINDING NEMO FREE BIRDS. MEGAMIND FROM RIO  (2011) MERRY MADAGASCAR MY SLURP ICE AGE A MAMMOTH CHRISTMAS THE LION GUARD BESTHE OVER THE HEDGE</td><td>2025-07-13T16:10:46Z</td><td>0</td></tr><tr><td>ekr2nIex040</td><td>@treasuregama</td><td>❤\uD83C\uDDFB\uD83C\uDDF3\uD83C\uDDFB\uD83C\uDDF3\uD83C\uDDF8\uD83C\uDDFF\uD83C\uDE35\uD83C\uDE39\uD83C\uDE34</td><td>2025-07-13T16:10:20Z</td><td>0</td></tr><tr><td>ekr2nIex040</td><td>@szotlankima-w9j</td><td>Can't believe it is already 8 months ago i swear my class was singing it yesterday but it was actually 8 months ago\uD83D\uDE2E</td><td>2025-07-13T16:09:41Z</td><td>3</td></tr><tr><td>ekr2nIex040</td><td>@SamLioren</td><td>Crazzy</td><td>2025-07-13T16:01:04Z</td><td>3</td></tr><tr><td>ekr2nIex040</td><td>@Bacon_yahya</td><td>Apt+arabe=\uD83C\uDF49</td><td>2025-07-13T15:58:56Z</td><td>1</td></tr><tr><td>ekr2nIex040</td><td>@ArenSrapyan</td><td>0:54</td><td>2025-07-13T15:57:22Z</td><td>0</td></tr><tr><td>ekr2nIex040</td><td>@Glseries29</td><td>1.8 billion in 8 months?? Crazyyyyy</td><td>2025-07-13T15:56:41Z</td><td>4</td></tr><tr><td>ekr2nIex040</td><td>@Mliracle_rl</td><td>다시는 나오지않을 최고의 가수..❤\uD83C\uDF39</td><td>2025-07-13T15:53:49Z</td><td>4</td></tr><tr><td>ekr2nIex040</td><td>@darkomiloswvljevic7245</td><td>i love this song!definrtly recomend it!!</td><td>2025-07-13T15:52:22Z</td><td>3</td></tr><tr><td>ekr2nIex040</td><td>@Sadeem-t7k</td><td>1B !!\n",
       "\n",
       "\n",
       "Wowwwww</td><td>2025-07-13T15:52:00Z</td><td>1</td></tr><tr><td>ekr2nIex040</td><td>@danielaferreira7230</td><td>Me. Gusto\uD83D\uDE0A\uD83D\uDE0A</td><td>2025-07-13T15:45:44Z</td><td>0</td></tr><tr><td>ekr2nIex040</td><td>@MariaLuiza-is2ro</td><td>Nelson musica  do nundo</td><td>2025-07-13T15:36:16Z</td><td>0</td></tr><tr><td>ekr2nIex040</td><td>@Seanfam147</td><td>Anyone listening to this in July 2025?</td><td>2025-07-13T15:35:50Z</td><td>3</td></tr><tr><td>ekr2nIex040</td><td>@DNikesh-t8z</td><td>It's been 8 months but still can't get over this song!!!</td><td>2025-07-13T15:35:21Z</td><td>0</td></tr><tr><td>ekr2nIex040</td><td>@rubabliyeva1483</td><td>I love BLACK PINK</td><td>2025-07-13T15:33:30Z</td><td>0</td></tr><tr><td>ekr2nIex040</td><td>@rubabliyeva1483</td><td>I love Rośe❤</td><td>2025-07-13T15:32:52Z</td><td>1</td></tr><tr><td>ekr2nIex040</td><td>@LEOF-k1s</td><td>❤</td><td>2025-07-13T15:27:50Z</td><td>0</td></tr><tr><td>ekr2nIex040</td><td>@JosiasClassic</td><td>https://youtube.com/shorts/lmWkskk1Bt8?si=K2IOfQBSgxe4Ow_M</td><td>2025-07-13T15:23:38Z</td><td>0</td></tr><tr><td>ekr2nIex040</td><td>@СергейБелый-ц8и</td><td>2:52</td><td>2025-07-13T15:22:12Z</td><td>1</td></tr><tr><td>ekr2nIex040</td><td>@monaliemonalie</td><td>❤❤❤</td><td>2025-07-13T15:20:19Z</td><td>1</td></tr><tr><td>ekr2nIex040</td><td>@alagesanramanathan4598</td><td>Dude this has perfect middle school couple vibes and i love it</td><td>2025-07-13T15:19:32Z</td><td>5</td></tr><tr><td>ekr2nIex040</td><td>@JulissaBotendo</td><td>Luik\n",
       "❤❤❤❤❤❤❤❤❤❤❤❤ kus kus</td><td>2025-07-13T15:16:14Z</td><td>0</td></tr><tr><td>ekr2nIex040</td><td>@prinsi2</td><td>181.....❤❤</td><td>2025-07-13T15:16:06Z</td><td>1</td></tr><tr><td>ekr2nIex040</td><td>@أيڤࢪين-7</td><td>هذا كتبته الباࢪحة الفجࢪ، لذا توجد اخطأء املائية\uD83E\uDD8B</td><td>2025-07-13T15:12:17Z</td><td>1</td></tr><tr><td>ekr2nIex040</td><td>@evaxd_fanıolmusumm</td><td>1,8 Mr reaction.. \uD83D\uDE31\uD83D\uDE31</td><td>2025-07-13T15:08:45Z</td><td>2</td></tr><tr><td>ekr2nIex040</td><td>@IolandaPereira-v9m</td><td>\uD83D\uDE0A\uD83D\uDE0A\uD83D\uDE0A\uD83D\uDE0A\uD83D\uDE0A\uD83D\uDE0A\uD83D\uDE0A\uD83C\uDF89\uD83C\uDF89\uD83C\uDF89\uD83C\uDF89\uD83C\uDF89\uD83C\uDF89\uD83C\uDF89❤❤❤❤❤❤❤</td><td>2025-07-13T15:06:06Z</td><td>0</td></tr><tr><td>ekr2nIex040</td><td>@shakeelrahmani1806</td><td>Its 2 Billion congratulations \uD83D\uDC4F\uD83C\uDFFB BLINKS</td><td>2025-07-13T15:05:07Z</td><td>2</td></tr><tr><td>ekr2nIex040</td><td>@RoxanaPerez-hp8xz</td><td>Hi say something if u love apt ❤❤❤</td><td>2025-07-13T15:01:35Z</td><td>1</td></tr><tr><td>ekr2nIex040</td><td>@KingofLondon261</td><td>Love from Jalalabad \uD83C\uDDE6\uD83C\uDDEB i hope get 2 billion views \uD83C\uDDE6\uD83C\uDDEB\uD83C\uDDF0\uD83C\uDDF7</td><td>2025-07-13T15:01:28Z</td><td>2</td></tr><tr><td>ekr2nIex040</td><td>@Jump_Deadline</td><td>All you gotta do is just meet me at the</td><td>2025-07-13T14:57:58Z</td><td>1</td></tr><tr><td>ekr2nIex040</td><td>@blink_army_129</td><td>Let's go 2B??</td><td>2025-07-13T14:50:56Z</td><td>0</td></tr><tr><td>ekr2nIex040</td><td>@Achmeat</td><td>I’m telling you the real creator of this song — the guy lives in Turkey. @ahmet.yon</td><td>2025-07-13T14:48:19Z</td><td>0</td></tr><tr><td>ekr2nIex040</td><td>@darshanadevi8297</td><td>She looks like a angel ❤❤❤❤❤❤❤❤❤❤❤❤❤❤❤❤</td><td>2025-07-13T14:48:13Z</td><td>0</td></tr><tr><td>ekr2nIex040</td><td>@ranjanasingla</td><td>Your every song is perfect ❤</td><td>2025-07-13T14:45:53Z</td><td>1</td></tr><tr><td>ekr2nIex040</td><td>@mokgethigugu864</td><td>❤❤❤</td><td>2025-07-13T14:43:56Z</td><td>0</td></tr><tr><td>ekr2nIex040</td><td>@KingofLondon261</td><td>Let's go 2 billion \uD83C\uDDE6\uD83C\uDDEB\uD83C\uDDF0\uD83C\uDDF7</td><td>2025-07-13T14:36:23Z</td><td>6</td></tr><tr><td>ekr2nIex040</td><td>@DraGlisflores</td><td>Ay loveyu apt❤❤❤❤❤❤\uD83D\uDE0A</td><td>2025-07-13T14:34:20Z</td><td>1</td></tr><tr><td>ekr2nIex040</td><td>@alianaparkk</td><td>Let's get 2 billion views. \uD83C\uDF80</td><td>2025-07-13T14:33:28Z</td><td>3</td></tr><tr><td>ekr2nIex040</td><td>@อรัญญาฮาดดา-ห9พ</td><td>สปอร์ตแฟนSPORTFAN</td><td>2025-07-13T14:24:17Z</td><td>0</td></tr><tr><td>ekr2nIex040</td><td>@Bilkis15</td><td>APT all the way \uD83D\uDE0C✨</td><td>2025-07-13T14:23:12Z</td><td>2</td></tr><tr><td>ekr2nIex040</td><td>@อรัญญาฮาดดา-ห9พ</td><td>SPORTFAN</td><td>2025-07-13T14:23:08Z</td><td>0</td></tr><tr><td>ekr2nIex040</td><td>@อรัญญาฮาดดา-ห9พ</td><td>สปอร์ตแฟน</td><td>2025-07-13T14:22:58Z</td><td>0</td></tr><tr><td>ekr2nIex040</td><td>@อรัญญาฮาดดา-ห9พ</td><td>TAEKWONDO</td><td>2025-07-13T14:21:38Z</td><td>0</td></tr><tr><td>ekr2nIex040</td><td>@อรัญญาฮาดดา-ห9พ</td><td>BOWLING</td><td>2025-07-13T14:21:30Z</td><td>0</td></tr><tr><td>ekr2nIex040</td><td>@อรัญญาฮาดดา-ห9พ</td><td>BADMINTON</td><td>2025-07-13T14:21:21Z</td><td>0</td></tr><tr><td>ekr2nIex040</td><td>@อรัญญาฮาดดา-ห9พ</td><td>SANOOKER</td><td>2025-07-13T14:21:15Z</td><td>0</td></tr><tr><td>ekr2nIex040</td><td>@อรัญญาฮาดดา-ห9พ</td><td>BASKETBALL</td><td>2025-07-13T14:21:06Z</td><td>0</td></tr><tr><td>ekr2nIex040</td><td>@อรัญญาฮาดดา-ห9พ</td><td>GYMNASTICS</td><td>2025-07-13T14:20:57Z</td><td>0</td></tr><tr><td>ekr2nIex040</td><td>@อรัญญาฮาดดา-ห9พ</td><td>FOOTBALL</td><td>2025-07-13T14:20:46Z</td><td>0</td></tr><tr><td>ekr2nIex040</td><td>@อรัญญาฮาดดา-ห9พ</td><td>SWIMMING</td><td>2025-07-13T14:20:33Z</td><td>0</td></tr><tr><td>ekr2nIex040</td><td>@อรัญญาฮาดดา-ห9พ</td><td>VOLLEYBALL</td><td>2025-07-13T14:20:06Z</td><td>0</td></tr><tr><td>ekr2nIex040</td><td>@อรัญญาฮาดดา-ห9พ</td><td>BASKETBALL</td><td>2025-07-13T14:19:53Z</td><td>0</td></tr><tr><td>ekr2nIex040</td><td>@อรัญญาฮาดดา-ห9พ</td><td>MOTOCROSS</td><td>2025-07-13T14:19:43Z</td><td>0</td></tr><tr><td>ekr2nIex040</td><td>@อรัญญาฮาดดา-ห9พ</td><td>JETSKI</td><td>2025-07-13T14:19:32Z</td><td>0</td></tr><tr><td>ekr2nIex040</td><td>@อรัญญาฮาดดา-ห9พ</td><td>TAEKWONDO</td><td>2025-07-13T14:19:24Z</td><td>0</td></tr><tr><td>ekr2nIex040</td><td>@อรัญญาฮาดดา-ห9พ</td><td>BOXING</td><td>2025-07-13T14:19:18Z</td><td>0</td></tr><tr><td>ekr2nIex040</td><td>@อรัญญาฮาดดา-ห9พ</td><td>BADMINTON</td><td>2025-07-13T14:19:12Z</td><td>0</td></tr><tr><td>ekr2nIex040</td><td>@อรัญญาฮาดดา-ห9พ</td><td>SNOOKER</td><td>2025-07-13T14:18:47Z</td><td>0</td></tr><tr><td>ekr2nIex040</td><td>@อรัญญาฮาดดา-ห9พ</td><td>RACING</td><td>2025-07-13T14:18:03Z</td><td>0</td></tr><tr><td>ekr2nIex040</td><td>@อรัญญาฮาดดา-ห9พ</td><td>GOLF</td><td>2025-07-13T14:17:55Z</td><td>0</td></tr><tr><td>ekr2nIex040</td><td>@อรัญญาฮาดดา-ห9พ</td><td>TENNIS</td><td>2025-07-13T14:17:48Z</td><td>0</td></tr><tr><td>ekr2nIex040</td><td>@อรัญญาฮาดดา-ห9พ</td><td>FOOTBALL</td><td>2025-07-13T14:17:43Z</td><td>0</td></tr><tr><td>ekr2nIex040</td><td>@อรัญญาฮาดดา-ห9พ</td><td>BIKEBMX</td><td>2025-07-13T14:17:37Z</td><td>0</td></tr><tr><td>ekr2nIex040</td><td>@อรัญญาฮาดดา-ห9พ</td><td>RACING</td><td>2025-07-13T14:17:30Z</td><td>0</td></tr><tr><td>ekr2nIex040</td><td>@FreyaEmmerson-q7h</td><td>amazing love this collab</td><td>2025-07-13T14:16:44Z</td><td>0</td></tr><tr><td>ekr2nIex040</td><td>@AberteMariz</td><td>2B</td><td>2025-07-13T14:16:03Z</td><td>0</td></tr><tr><td>ekr2nIex040</td><td>@LevysRST</td><td>Brazilian \n",
       "H</td><td>2025-07-13T14:15:04Z</td><td>0</td></tr><tr><td>ekr2nIex040</td><td>@faisalmalik1147</td><td>Who is here after blackpink come back</td><td>2025-07-13T14:08:24Z</td><td>6</td></tr><tr><td>ekr2nIex040</td><td>@firsttogojd</td><td>2B</td><td>2025-07-13T14:08:19Z</td><td>1</td></tr><tr><td>ekr2nIex040</td><td>@firsttogojd</td><td>HIT</td><td>2025-07-13T14:08:10Z</td><td>0</td></tr><tr><td>ekr2nIex040</td><td>@jojikanovi2688</td><td>THE KISS?  \uD83D\uDE02❤</td><td>2025-07-13T14:00:11Z</td><td>2</td></tr><tr><td>ekr2nIex040</td><td>@BLACKPİNK2016JLRJ-BP</td><td>2 mr olur mu</td><td>2025-07-13T13:59:23Z</td><td>0</td></tr><tr><td>ekr2nIex040</td><td>@NomboFF</td><td>Ing</td><td>2025-07-13T13:59:23Z</td><td>0</td></tr><tr><td>ekr2nIex040</td><td>@wendyangeliacero4275</td><td>2025 anyone? <3</td><td>2025-07-13T13:59:09Z</td><td>2</td></tr><tr><td>ekr2nIex040</td><td>@potaxio-rd4nu</td><td>APT APT APT!!!!</td><td>2025-07-13T13:44:15Z</td><td>1</td></tr><tr><td>ekr2nIex040</td><td>@jenniferyaun5076</td><td>⚡⚡⚡⚡⚡⚡⚡⚡⚡⚡⚡⚡⚡⚡⚡⚡⚡⚡ yehey</td><td>2025-07-13T13:44:11Z</td><td>0</td></tr><tr><td>ekr2nIex040</td><td>@LauraMorgan-p7t</td><td>Apt</td><td>2025-07-13T13:41:04Z</td><td>0</td></tr><tr><td>ekr2nIex040</td><td>@MdMafoz-j5h</td><td>\uD83C\uDF89 good</td><td>2025-07-13T13:37:50Z</td><td>0</td></tr><tr><td>ekr2nIex040</td><td>@feruzesanov1939</td><td>Zõr chiqibdib</td><td>2025-07-13T13:36:01Z</td><td>0</td></tr><tr><td>ekr2nIex040</td><td>@mariaathanasiou4528</td><td>Η</td><td>2025-07-13T13:29:49Z</td><td>0</td></tr><tr><td>ekr2nIex040</td><td>@MaruimMIR</td><td>\uD83D\uDD90</td><td>2025-07-13T13:22:16Z</td><td>1</td></tr><tr><td>ekr2nIex040</td><td>@nthuong2566</td><td>nguyên nài khúc nào cũm hay</td><td>2025-07-13T13:17:55Z</td><td>0</td></tr><tr><td>ekr2nIex040</td><td>@nthuong2566</td><td>vuii</td><td>2025-07-13T13:17:00Z</td><td>0</td></tr><tr><td>ekr2nIex040</td><td>@nthuong2566</td><td>ghiềnn</td><td>2025-07-13T13:16:41Z</td><td>0</td></tr></tbody></table></div>"
      ]
     },
     "metadata": {
      "application/vnd.databricks.v1+output": {
       "addedWidgets": {},
       "aggData": [],
       "aggError": "",
       "aggOverflow": false,
       "aggSchema": [],
       "aggSeriesLimitReached": false,
       "aggType": "",
       "arguments": {},
       "columnCustomDisplayInfos": {},
       "data": [
        [
         "RgKAFK5djSk",
         "@EvilenDossantos",
         "\uD83D\uDE2D",
         "2025-07-13T17:03:55Z",
         0
        ],
        [
         "RgKAFK5djSk",
         "@Ice-x4q4n",
         "See you again Ahmed ❤",
         "2025-07-13T17:03:02Z",
         0
        ],
        [
         "RgKAFK5djSk",
         "@alufasimuzonda6310",
         "\uD83D\uDE22\uD83D\uDE22\uD83D\uDE22\uD83D\uDE22 this pains who is with me in this song \uD83C\uDFB5 \uD83D\uDE2D \uD83D\uDE29 \uD83D\uDE2B  RIP to all our beloved ones \uD83D\uDC94 \uD83D\uDE22",
         "2025-07-13T17:02:51Z",
         0
        ],
        [
         "RgKAFK5djSk",
         "@Sam-g8t9j",
         "We miss u paul",
         "2025-07-13T16:50:29Z",
         1
        ],
        [
         "RgKAFK5djSk",
         "@babuvlogs8818",
         "Anyone in July 2025\uD83D\uDE05",
         "2025-07-13T16:50:08Z",
         0
        ],
        [
         "RgKAFK5djSk",
         "@selenavive4603",
         "Alguém em 2025?",
         "2025-07-13T16:48:27Z",
         0
        ],
        [
         "RgKAFK5djSk",
         "@hoangtucibidi",
         "R.I.P Diogo Jota \uD83D\uDD4A️\uD83C\uDDF5\uD83C\uDDF9",
         "2025-07-13T16:36:15Z",
         2
        ],
        [
         "RgKAFK5djSk",
         "@orishampdah1886",
         "❤",
         "2025-07-13T16:31:02Z",
         0
        ],
        [
         "RgKAFK5djSk",
         "@RivaldoEtienne-h4q8x",
         "R.i.p jota \uD83D\uDE07",
         "2025-07-13T16:20:22Z",
         0
        ],
        [
         "RgKAFK5djSk",
         "@KevenCosmo",
         "I love ❤❤❤❤you",
         "2025-07-13T16:06:58Z",
         0
        ],
        [
         "RgKAFK5djSk",
         "@BHN-h6c",
         "Diogo Jota\uD83D\uDE22\uD83D\uDD4A",
         "2025-07-13T15:47:17Z",
         2
        ],
        [
         "RgKAFK5djSk",
         "@OseaKapaiter",
         "Jota\uD83E\uDD7A❤\uD83E\uDD0D",
         "2025-07-13T15:45:23Z",
         0
        ],
        [
         "RgKAFK5djSk",
         "@IlohAyang-v8w",
         "For paul",
         "2025-07-13T15:41:30Z",
         0
        ],
        [
         "RgKAFK5djSk",
         "@wanderson1112morais",
         "Alguém em 2025",
         "2025-07-13T15:17:38Z",
         0
        ],
        [
         "RgKAFK5djSk",
         "@lifeofshy20",
         "See you again my best friend \uD83D\uDC10\uD83D\uDD4A️✨\uD83E\uDD40",
         "2025-07-13T15:17:25Z",
         0
        ],
        [
         "RgKAFK5djSk",
         "@NinjaJunior567",
         "See you again Andre Silva and Diogo Jota\uD83D\uDE2D✝️\uD83C\uDDF5\uD83C\uDDF9",
         "2025-07-13T15:12:33Z",
         0
        ],
        [
         "RgKAFK5djSk",
         "@skyhigh6089",
         "Let's face it, the song is legendary for the Charlie Puth chorus. The rap is forgettable.",
         "2025-07-13T15:10:16Z",
         0
        ],
        [
         "RgKAFK5djSk",
         "@RhadigerDanoninho",
         "To conhecendo uma mulher que Deus abençoe eu é ela \uD83E\uDD79",
         "2025-07-13T15:08:42Z",
         0
        ],
        [
         "RgKAFK5djSk",
         "@alisonbayliss735",
         "Yeah",
         "2025-07-13T14:59:33Z",
         0
        ],
        [
         "RgKAFK5djSk",
         "@RAJA_SHORTS_36",
         "Hii guys I'm from India \uD83C\uDDEE\uD83C\uDDF3\uD83C\uDDEE\uD83C\uDDF3\uD83C\uDDEE\uD83C\uDDF3\uD83C\uDDEE\uD83C\uDDF3\uD83C\uDDEE\uD83C\uDDF3\uD83C\uDDEE\uD83C\uDDF3\uD83C\uDDEE\uD83C\uDDF3\uD83C\uDDEE\uD83C\uDDF3\uD83C\uDDEE\uD83C\uDDF3\uD83C\uDDEE\uD83C\uDDF3\uD83C\uDDEE\uD83C\uDDF3\uD83C\uDDEE\uD83C\uDDF3\uD83C\uDDEE\uD83C\uDDF3\uD83C\uDDEE\uD83C\uDDF3\uD83C\uDDEE\uD83C\uDDF3\uD83C\uDDEE\uD83C\uDDF3",
         "2025-07-13T14:53:26Z",
         0
        ],
        [
         "RgKAFK5djSk",
         "@AUNGKO-cn2fr",
         "See you again",
         "2025-07-13T14:40:41Z",
         0
        ],
        [
         "RgKAFK5djSk",
         "@LakainduAnjanalakindu",
         "❤",
         "2025-07-13T14:19:01Z",
         0
        ],
        [
         "RgKAFK5djSk",
         "@Ashanef",
         "See you agian dile\uD83D\uDE22",
         "2025-07-13T14:16:24Z",
         1
        ],
        [
         "RgKAFK5djSk",
         "@jatikusumasihombing3152",
         "Hi guys \nI am from Indonesian",
         "2025-07-13T14:06:37Z",
         0
        ],
        [
         "RgKAFK5djSk",
         "@danalee2355",
         "this reminds me of when me and my dad used to drive in the car and play this song all the time memories were now 11 and 39",
         "2025-07-13T13:55:27Z",
         0
        ],
        [
         "RgKAFK5djSk",
         "@PRËMÃÑÃÑDÃ-r6m",
         "Full support for Wiz Khalifa❤\uD83D\uDE0A",
         "2025-07-13T13:39:56Z",
         1
        ],
        [
         "RgKAFK5djSk",
         "@PRËMÃÑÃÑDÃ-r6m",
         "Full support for Wiz Kalifa❤",
         "2025-07-13T13:39:01Z",
         0
        ],
        [
         "RgKAFK5djSk",
         "@pfog",
         "Paul Walker was my ultimate man crush. BJJ brown belt and was a straight gear head. Dude seemed humble and just like a the dude anybody would enjoy kickin’ it. Remember hearing of his passing and it still brings tears to my eyes to this day. 6B views tells makes me realize I’m not the only one that felt this way.",
         "2025-07-13T13:33:42Z",
         0
        ],
        [
         "RgKAFK5djSk",
         "@Keneid2007Masengesho",
         "\uD83D\uDE2D\uD83D\uDE2D\uD83D\uDE2D\uD83D\uDE2D\uD83D\uDE2D\uD83D\uDE2D\uD83D\uDE2D\uD83D\uDE2D\uD83D\uDE2D\uD83D\uDE2D\uD83D\uDE2D\uD83D\uDE2D\uD83D\uDE2D\uD83D\uDE2D\uD83D\uDE2D\uD83D\uDE2D\uD83D\uDE2D\uD83D\uDE2D\uD83D\uDE2D\uD83D\uDE2D\uD83D\uDE2D\uD83D\uDE2D\uD83D\uDE2D\uD83D\uDE2D\uD83D\uDE2D\uD83D\uDE2D\uD83D\uDE2D\uD83D\uDE2D\uD83D\uDE2D\uD83D\uDE2D\uD83D\uDE2D",
         "2025-07-13T13:26:59Z",
         0
        ],
        [
         "RgKAFK5djSk",
         "@MariaIone-h6o",
         "Melhor música que tem no mundo ❤❤\uD83D\uDE22\uD83D\uDE22❤",
         "2025-07-13T13:18:38Z",
         0
        ],
        [
         "RgKAFK5djSk",
         "@Tirox._zfr",
         "0:47 0:51 0:51 0:51 0:52 0:52 0:53 0:53 0:53 0:53 0:55 0:55 0:55 0:55 0:57 0:57 0:58 0:58 0:58 0:58 0:59 0:59 0:59 0:59 0:59 1:00 1:00 1:00 \uD83D\uDE22 Paul",
         "2025-07-13T13:17:24Z",
         0
        ],
        [
         "RgKAFK5djSk",
         "@Rabin_8",
         "See you again paul walker and diogo jota\uD83D\uDE22❤\nLove you forever ❤",
         "2025-07-13T13:16:48Z",
         0
        ],
        [
         "RgKAFK5djSk",
         "@Manjeshkumar-i1y",
         "Love you soug.  Massg",
         "2025-07-13T13:01:32Z",
         1
        ],
        [
         "RgKAFK5djSk",
         "@AlhajiMbah-w7d",
         "Another super star gone jota \uD83E\uDD7A",
         "2025-07-13T13:00:28Z",
         1
        ],
        [
         "RgKAFK5djSk",
         "@jayeshrore2307",
         "July 2025 \nPls Attendance Here",
         "2025-07-13T12:54:19Z",
         0
        ],
        [
         "RgKAFK5djSk",
         "@johnpaulhermida492",
         "17 years without paul walker we miss you RIP 1973-2013",
         "2025-07-13T12:50:57Z",
         0
        ],
        [
         "RgKAFK5djSk",
         "@SophieWalker-h6x",
         "Is be lo bay",
         "2025-07-13T12:50:24Z",
         0
        ],
        [
         "RgKAFK5djSk",
         "@Whisper-7-o4c",
         "Best song",
         "2025-07-13T12:46:06Z",
         1
        ],
        [
         "RgKAFK5djSk",
         "@MARCOSGomesdocanto",
         "\uD83D\uDE22\uD83D\uDE22\uD83D\uDE22❤",
         "2025-07-13T12:42:12Z",
         0
        ],
        [
         "RgKAFK5djSk",
         "@LeonardoMucci-s2m",
         "See you again",
         "2025-07-13T12:40:06Z",
         0
        ],
        [
         "RgKAFK5djSk",
         "@soulmate648",
         "From heaven ✨️",
         "2025-07-13T12:36:41Z",
         0
        ],
        [
         "RgKAFK5djSk",
         "@芦澤清隆恵",
         "素晴らしい曲に出会えました\uD83C\uDF40\n心癒されます❣️\nありがとうございます\uD83D\uDE0A\n3ヶ月前にGlobal  ATOMYと出会いました✨️\nそれからGlobal\uD83C\uDF40に興味を持つようになりました✨️✨️",
         "2025-07-13T12:32:37Z",
         0
        ],
        [
         "RgKAFK5djSk",
         "@Khimlal95",
         "2025 \uD83D\uDE2E Anyone?",
         "2025-07-13T12:26:59Z",
         4
        ],
        [
         "RgKAFK5djSk",
         "@pacewaras6929",
         "Rip diogo Jota \uD83D\uDE22",
         "2025-07-13T12:21:24Z",
         1
        ],
        [
         "RgKAFK5djSk",
         "@Roshanrana123-s1t",
         "Sad song",
         "2025-07-13T12:21:07Z",
         0
        ],
        [
         "RgKAFK5djSk",
         "@pacewaras6929",
         "13 juli 2025",
         "2025-07-13T12:20:31Z",
         0
        ],
        [
         "RgKAFK5djSk",
         "@Rahulvasavaa",
         "Kon-kon India \uD83C\uDDEE\uD83C\uDDF3se like Karen \n❤Dil Ko chhune wala song ❤",
         "2025-07-13T12:19:20Z",
         1
        ],
        [
         "RgKAFK5djSk",
         "@thanikaorawanchaikul4573",
         "Any one in 2025 ?",
         "2025-07-13T12:18:48Z",
         1
        ],
        [
         "RgKAFK5djSk",
         "@K4YL3B",
         "Rest in peace Diogo Jota, you will truly never walk alone...\n\nWe love you my guy, we will tell you all about it when we see you again. <3\n\n1997-2025",
         "2025-07-13T12:06:39Z",
         0
        ],
        [
         "RgKAFK5djSk",
         "@Deepshikha-rx5zp",
         "Diogo jota rip\uD83E\uDD7A",
         "2025-07-13T11:58:21Z",
         0
        ],
        [
         "RgKAFK5djSk",
         "@IbrahimChocoGana",
         "Rest in piece❤❤❤",
         "2025-07-13T11:48:05Z",
         1
        ],
        [
         "RgKAFK5djSk",
         "@AtlehangPhalane",
         "I love this song that I'm singing I love it I love it I love it it's just like I can't stop thinking listening to it bye it's just like the best thing that I ever had to because it's just like your members me of my friend who died❤❤❤",
         "2025-07-13T11:40:50Z",
         1
        ],
        [
         "RgKAFK5djSk",
         "@purplebacon-401",
         "Kobe",
         "2025-07-13T11:39:04Z",
         1
        ],
        [
         "RgKAFK5djSk",
         "@christianoooooo7",
         "This fukin song still touches my heart ❤️❤️",
         "2025-07-13T11:32:57Z",
         0
        ],
        [
         "RgKAFK5djSk",
         "@youtube_gmz",
         "3:16 best part \uD83D\uDE0E rip pual walker",
         "2025-07-13T11:27:17Z",
         0
        ],
        [
         "RgKAFK5djSk",
         "@山之口海斗",
         "これが10年前とは\uD83D\uDE22",
         "2025-07-13T11:23:03Z",
         0
        ],
        [
         "RgKAFK5djSk",
         "@yasinpro9522",
         "jos",
         "2025-07-13T11:02:40Z",
         0
        ],
        [
         "RgKAFK5djSk",
         "@ZinMyo-n5r",
         "Sea you again u.z.y.t\uD83D\uDE22",
         "2025-07-13T10:59:36Z",
         0
        ],
        [
         "RgKAFK5djSk",
         "@surenteran1631",
         "13/725 \uD83D\uDE22",
         "2025-07-13T10:58:31Z",
         0
        ],
        [
         "RgKAFK5djSk",
         "@izzykidyt6394",
         "who watch this video on 2025?",
         "2025-07-13T10:55:15Z",
         3
        ],
        [
         "RgKAFK5djSk",
         "@PkKumarasiri",
         "❤❤ Forever Paul Walker  \uD83D\uDD4A",
         "2025-07-13T10:40:23Z",
         0
        ],
        [
         "RgKAFK5djSk",
         "@norbilmaxamed3888",
         "RIP see you again Diogo jota he based away in before 9 days\uD83D\uDE22",
         "2025-07-13T10:39:06Z",
         0
        ],
        [
         "RgKAFK5djSk",
         "@GauravGc-d9p",
         "Anyone from Nepal?",
         "2025-07-13T10:17:33Z",
         0
        ],
        [
         "RgKAFK5djSk",
         "@jayshriramjayshriram_99",
         "jab milenge dobara\uD83D\uDE02",
         "2025-07-13T10:04:22Z",
         0
        ],
        [
         "RgKAFK5djSk",
         "@AnnyHahan",
         "My old teacher  and my best friend  see you again",
         "2025-07-13T10:02:02Z",
         0
        ],
        [
         "RgKAFK5djSk",
         "@Suparji03-w6t",
         "I came here to remember Paul Walker, Diogo Jota, and Andre Silva. May they rest in peace. \uD83D\uDE22\uD83E\uDD79",
         "2025-07-13T09:57:48Z",
         0
        ],
        [
         "RgKAFK5djSk",
         "@AdikiCidijua",
         "See you Again ajano\uD83D\uDE22",
         "2025-07-13T09:55:52Z",
         0
        ],
        [
         "RgKAFK5djSk",
         "@bhagirtom",
         "anyonye 2025",
         "2025-07-13T09:54:30Z",
         1
        ],
        [
         "RgKAFK5djSk",
         "@GeorgeJovin-y3w",
         "R.l.P Diogo jota",
         "2025-07-13T09:52:10Z",
         0
        ],
        [
         "RgKAFK5djSk",
         "@Jacobzz14",
         "R.I.P Diogo Jota we will miss you with this song in mind",
         "2025-07-13T09:51:09Z",
         0
        ],
        [
         "RgKAFK5djSk",
         "@AbuIsidro-ko5sm",
         "See you again my father and Mother \uD83D\uDE22\uD83C\uDDF2\uD83C\uDDFF",
         "2025-07-13T09:39:48Z",
         0
        ],
        [
         "RgKAFK5djSk",
         "@Antsuli05",
         "❤\uD83C\uDDEB\uD83C\uDDEE",
         "2025-07-13T09:38:58Z",
         0
        ],
        [
         "RgKAFK5djSk",
         "@Fynn-y8v",
         "[__€^*>__]",
         "2025-07-13T09:35:12Z",
         0
        ],
        [
         "RgKAFK5djSk",
         "@User9472-l4k",
         "La familia es primero \uD83E\uDD75\uD83D\uDE0E\uD83D\uDDFF\uD83D\uDD25\uD83D\uDD25\uD83D\uDCAF",
         "2025-07-13T09:33:27Z",
         0
        ],
        [
         "RgKAFK5djSk",
         "@Nidalwas_4",
         "Not like being rude but is he married to Mia kalifah",
         "2025-07-13T09:10:22Z",
         0
        ],
        [
         "RgKAFK5djSk",
         "@SonawayinouCarmel",
         "Mes parents repose en paix ☮️ Diego jota \uD83D\uDE22\uD83D\uDE2D\uD83D\uDE2D",
         "2025-07-13T08:46:59Z",
         0
        ],
        [
         "RgKAFK5djSk",
         "@RCRaihan-l2y",
         "2025... \uD83E\uDD72\uD83E\uDEF6",
         "2025-07-13T08:45:15Z",
         0
        ],
        [
         "RgKAFK5djSk",
         "@dawidq7807",
         "[*]",
         "2025-07-13T08:31:30Z",
         0
        ],
        [
         "RgKAFK5djSk",
         "@ElaSafitri-t5t",
         "Anyone in july 2025 ❤",
         "2025-07-13T08:11:59Z",
         1
        ],
        [
         "RgKAFK5djSk",
         "@ajaythakur1785",
         "Se you again ❤❤❤",
         "2025-07-13T08:10:26Z",
         0
        ],
        [
         "RgKAFK5djSk",
         "@MagmaAka",
         "Rest in peace Diogo jota\uD83C\uDDF5\uD83C\uDDF9\uD83D\uDD4A",
         "2025-07-13T07:37:15Z",
         0
        ],
        [
         "RgKAFK5djSk",
         "@kajalbaruah2637",
         "Anyone Here July \uD83D\uDE0C❤️\uD83E\uDDFF✨️",
         "2025-07-13T06:55:08Z",
         3
        ],
        [
         "RgKAFK5djSk",
         "@JoseEduardoZavalaRomero",
         "Paul And Diogo \uD83C\uDDFA\uD83C\uDDF2\uD83E\uDD1D\uD83C\uDFFB\uD83C\uDDF5\uD83C\uDDF9 Together In Heaven And Always Never Gets Old Before 2026❤️\uD83C\uDF8A\uD83C\uDDF2\uD83C\uDDFD❤️\uD83C\uDF8A\uD83C\uDDFA\uD83C\uDDF2\nBefore The World Cup",
         "2025-07-13T06:48:18Z",
         2
        ],
        [
         "RgKAFK5djSk",
         "@Aik-sy9zo",
         "2025 Who is listening?\uD83C\uDF89\uD83C\uDF89\uD83C\uDF89",
         "2025-07-13T06:24:22Z",
         4
        ],
        [
         "RgKAFK5djSk",
         "@mahudeleon8806",
         "Paul",
         "2025-07-13T06:20:47Z",
         0
        ],
        [
         "RgKAFK5djSk",
         "@MayamikoMasangano-g4z",
         "And diego",
         "2025-07-13T06:09:39Z",
         0
        ],
        [
         "RgKAFK5djSk",
         "@MayamikoMasangano-g4z",
         "Rip Paul walker",
         "2025-07-13T06:09:27Z",
         0
        ],
        [
         "RgKAFK5djSk",
         "@SarojBc-61690",
         "Rip dogo jota RIP \uD83D\uDE22⚰⚰\uD83E\uDD7A\uD83E\uDD7A\uD83E\uDD7A\uD83D\uDC94\uD83D\uDC94\uD83D\uDC94\uD83D\uDC94\uD83D\uDC94\uD83D\uDC94\uD83D\uDC94",
         "2025-07-13T06:08:10Z",
         0
        ],
        [
         "RgKAFK5djSk",
         "@Elza-m9x",
         "i’ll always be here for him no matter where the future has for us\uD83E\uDD79\uD83E\uDD79’23\uD83D\uDC9B\uD83E\uDD0E\uD83D\uDC9B\uD83E\uDD0E\uD83D\uDE4F\uD83D\uDE4F!!",
         "2025-07-13T06:04:41Z",
         0
        ],
        [
         "RgKAFK5djSk",
         "@TanjibTarek-c8y",
         "Diago jota miss you \uD83D\uDE22\uD83D\uDE22\uD83D\uDE22\uD83C\uDDE7\uD83C\uDDE9",
         "2025-07-13T05:50:37Z",
         0
        ],
        [
         "RgKAFK5djSk",
         "@LuisTorres-t9w",
         "Hey\uD83D\uDE22",
         "2025-07-13T05:46:43Z",
         0
        ],
        [
         "RgKAFK5djSk",
         "@Mark1986",
         "Paul \uD83D\uDE4F\uD83D\uDE22",
         "2025-07-13T05:43:58Z",
         0
        ],
        [
         "RgKAFK5djSk",
         "@maduradileesha7058",
         "2025 any one.",
         "2025-07-13T05:36:59Z",
         0
        ],
        [
         "RgKAFK5djSk",
         "@abir_the_stormBorn33",
         "Anyone here from 2035? ✨\uD83D\uDDA4",
         "2025-07-13T05:24:47Z",
         0
        ],
        [
         "RgKAFK5djSk",
         "@DaRealAntGotti",
         "Wiz helps P.Walk live on 4ever!!!\uD83D\uDCAF\uD83D\uDC4D\uD83C\uDFFD\uD83D\uDE4F\uD83C\uDFFC",
         "2025-07-13T05:18:37Z",
         1
        ],
        [
         "RgKAFK5djSk",
         "@lazzyut",
         "ISOLAAAAAAAADOOOOOS",
         "2025-07-13T05:01:15Z",
         0
        ],
        [
         "RgKAFK5djSk",
         "@ThịĐiềnNguyễn-n3q4n",
         "Seeyouagain ban",
         "2025-07-13T04:43:22Z",
         0
        ],
        [
         "RgKAFK5djSk",
         "@Jouns_life",
         "Pour tout ceux partis très tôt \nOn pense à vous\uD83D\uDE4F\uD83C\uDFFD",
         "2025-07-13T04:41:37Z",
         0
        ],
        [
         "RgKAFK5djSk",
         "@Talhaezlen",
         "\"Even though you're no longer here,\na part of you still lives in every quiet moment I feel.\nI don’t hate you — I just miss you in silence.\"",
         "2025-07-13T04:15:30Z",
         0
        ],
        [
         "RgKAFK5djSk",
         "@azraqeyra2866",
         "nangis bangettttt",
         "2025-07-13T03:56:42Z",
         0
        ],
        [
         "X1Fqn9du7xo",
         "@fernandobunguele2018",
         "Moçambique 2025 toco muito essa música na Radio",
         "2025-07-13T16:39:37Z",
         0
        ],
        [
         "X1Fqn9du7xo",
         "@mattsantiago6714",
         "2025 \uD83E\uDD73",
         "2025-07-13T09:24:31Z",
         2
        ],
        [
         "X1Fqn9du7xo",
         "@SooHaaacked",
         "Who came from key of awesome parody \uD83D\uDE02\uD83D\uDE02",
         "2025-07-13T07:44:08Z",
         2
        ],
        [
         "X1Fqn9du7xo",
         "@aishaamrenova7351",
         "\uD83E\uDEF6\uD83E\uDEF6\uD83E\uDEF6 2025",
         "2025-07-12T20:22:05Z",
         1
        ],
        [
         "X1Fqn9du7xo",
         "@anapatterson8301",
         "❤",
         "2025-07-12T16:08:59Z",
         2
        ],
        [
         "X1Fqn9du7xo",
         "@LordHakier",
         "He’s solo career sucks but hes a great volalist. He made more cucess in Europe with his pop efforts .. still had some great covers ..",
         "2025-07-12T08:51:23Z",
         1
        ],
        [
         "X1Fqn9du7xo",
         "@HulkHogan-x8l",
         "\uD83D\uDE0A",
         "2025-07-12T08:18:23Z",
         0
        ],
        [
         "X1Fqn9du7xo",
         "@brittanyc4241",
         "i love his style now but i loved his emo style back then !!",
         "2025-07-12T07:49:11Z",
         1
        ],
        [
         "X1Fqn9du7xo",
         "@brandymiller4904",
         "God i am 27 and I have not heard this song i 10 years and yes he is my idol",
         "2025-07-12T03:03:03Z",
         1
        ],
        [
         "X1Fqn9du7xo",
         "@ChristineNewton-u5j",
         "Love to Ivy",
         "2025-07-11T16:25:25Z",
         1
        ],
        [
         "X1Fqn9du7xo",
         "@ChristineNewton-u5j",
         "Save everyone's life if we all singing from the same page of Lyrics!",
         "2025-07-11T16:24:10Z",
         1
        ],
        [
         "X1Fqn9du7xo",
         "@ChristineNewton-u5j",
         "Money is the route of EVERY Evil",
         "2025-07-11T16:23:23Z",
         1
        ],
        [
         "X1Fqn9du7xo",
         "@ChristineNewton-u5j",
         "Much love to Mitchell even tho I don't approve of most he gets up to.",
         "2025-07-11T16:22:40Z",
         1
        ],
        [
         "X1Fqn9du7xo",
         "@deoncuba2305",
         "\uD83D\uDE0E\uD83D\uDC492025ADAM LAMBERT IS AWESOME\uD83C\uDF89..HIS VOICE ALWAYS GETS ME PUMPED UP..THIS GUY'S VOICE IS INCREDIBLE JUST BEAUTIFULLY POWERFUL I LOVE THIS SONG\uD83E\uDD0E\uD83C\uDF39\uD83D\uDC4F",
         "2025-07-11T01:59:58Z",
         1
        ],
        [
         "X1Fqn9du7xo",
         "@deoncuba2305",
         "\uD83D\uDE0E\uD83D\uDC492025ADAM LAMBERT IS AWESOME\uD83C\uDF89..HIS VOICE ALWAYS GETS ME PUMPED UP..THIS GUY'S VOICE IS INCREDIBLE JUST BEAUTIFULLY POWERFUL I LOVE THIS SONG\uD83E\uDD0E\uD83C\uDF39\uD83D\uDC4F",
         "2025-07-11T01:59:44Z",
         1
        ],
        [
         "X1Fqn9du7xo",
         "@RopertPenuela",
         "I liked this song but he's gay now",
         "2025-07-10T15:38:17Z",
         2
        ],
        [
         "X1Fqn9du7xo",
         "@Skydeeppearls",
         "First time after long time, 2025 ✌️\uD83D\uDCAF",
         "2025-07-10T14:34:00Z",
         1
        ],
        [
         "X1Fqn9du7xo",
         "@egoist36",
         "This is a masterpice of 2010's music video.",
         "2025-07-09T23:22:53Z",
         1
        ],
        [
         "X1Fqn9du7xo",
         "@mattcorcoran1397",
         "The fact this was Pink's song and she gave it to him.. She knew.. \uD83D\uDD25\uD83D\uDD25.. 13..",
         "2025-07-09T22:43:38Z",
         3
        ],
        [
         "X1Fqn9du7xo",
         "@JenniferHollyCole",
         "Love❤️ this! Great video!\uD83D\uDE0E\uD83D\uDC4D",
         "2025-07-09T21:51:20Z",
         1
        ],
        [
         "X1Fqn9du7xo",
         "@GabrielaBonska-Sosnicka-pn5cx",
         "❤\uD83E\uDDF8",
         "2025-07-09T17:18:29Z",
         1
        ],
        [
         "X1Fqn9du7xo",
         "@LiaDe-y1o",
         "Adam is gorgeous",
         "2025-07-09T16:27:48Z",
         1
        ],
        [
         "X1Fqn9du7xo",
         "@lenamusina4386",
         "No one will touch me anymore until the end of my death!\uD83D\uDC80☠️\uD83D\uDCAF\uD83D\uDCA5\uD83D\uDDA4\uD83D\uDC8BAdam, you understand me!",
         "2025-07-09T13:44:25Z",
         2
        ],
        [
         "X1Fqn9du7xo",
         "@TimBoy-w3e7h",
         "Mussss",
         "2025-07-09T02:59:56Z",
         1
        ],
        [
         "X1Fqn9du7xo",
         "@FaithMazivanhanga-q2e",
         "It's now 15 years but this song will always be my favourite❤❤❤",
         "2025-07-08T17:51:54Z",
         1
        ],
        [
         "X1Fqn9du7xo",
         "@QUARTERJACKmusic",
         "Crazy that P!nk passed on this song..he killed it",
         "2025-07-08T05:41:48Z",
         1
        ],
        [
         "X1Fqn9du7xo",
         "@Seby-d6w",
         "❤❤❤",
         "2025-07-07T11:58:46Z",
         1
        ],
        [
         "X1Fqn9du7xo",
         "@еленасапожникова-х8р",
         "Pictures... . Q... .",
         "2025-07-07T07:48:12Z",
         1
        ],
        [
         "X1Fqn9du7xo",
         "@منوعاتيوتيوبرية-س1م",
         "لينا الامورة \uD83D\uDE22",
         "2025-07-07T02:28:47Z",
         1
        ],
        [
         "X1Fqn9du7xo",
         "@aminasiahmed8455",
         "This song need to hit the 1Md views \uD83D\uDE22\uD83D\uDE22",
         "2025-07-07T00:58:47Z",
         2
        ],
        [
         "X1Fqn9du7xo",
         "@AnasAbbas-uj6dw",
         "Aged like fine wine",
         "2025-07-05T22:15:39Z",
         1
        ],
        [
         "X1Fqn9du7xo",
         "@CultureofMusic.-2",
         "Still2025\uD83D\uDE0D",
         "2025-07-05T21:17:55Z",
         1
        ],
        [
         "X1Fqn9du7xo",
         "@Shel-o4l",
         "this song forever has a special place in my heart. miss the young Adam and the good old days~\uD83D\uDC99\uD83D\uDDA4",
         "2025-07-05T14:19:29Z",
         6
        ],
        [
         "X1Fqn9du7xo",
         "@BafanaSibolake",
         "Am working it owt\uD83D\uDE0A",
         "2025-07-05T10:43:21Z",
         2
        ],
        [
         "X1Fqn9du7xo",
         "@gamezie3734",
         "Tax inspection: Good morning. \nAdam: Whataya Want from Me?!",
         "2025-07-05T08:40:05Z",
         4
        ],
        [
         "X1Fqn9du7xo",
         "@codilawrence9721",
         "I wouldn’t even try but I think you could save my liiiiiiiiife \uD83D\uDE29",
         "2025-07-05T03:35:31Z",
         3
        ],
        [
         "X1Fqn9du7xo",
         "@futurenostalgiatv3305",
         "July 5, 2025 \uD83E\uDD1A",
         "2025-07-05T02:03:25Z",
         1
        ],
        [
         "X1Fqn9du7xo",
         "@SathyaSharvan-eh3gw",
         "Adam voice ❤",
         "2025-07-04T17:30:00Z",
         1
        ],
        [
         "X1Fqn9du7xo",
         "@purplezen4261",
         "July 3 2025 -  fireworks!",
         "2025-07-04T02:37:18Z",
         2
        ],
        [
         "X1Fqn9du7xo",
         "@shaniawiggs7171",
         "❤❤❤❤",
         "2025-07-03T22:58:40Z",
         1
        ],
        [
         "X1Fqn9du7xo",
         "@tumelomolefe3329",
         "I miss my college days friend Moorosi\uD83D\uDE22",
         "2025-07-02T13:55:47Z",
         1
        ],
        [
         "X1Fqn9du7xo",
         "@Miriam.B.Borges",
         "Anyone here for this masterpiece?",
         "2025-07-02T12:20:19Z",
         3
        ],
        [
         "X1Fqn9du7xo",
         "@Amy_11163",
         "Any concerts of this artist in the USA? I wanna go",
         "2025-07-02T04:38:13Z",
         2
        ],
        [
         "X1Fqn9du7xo",
         "@elistanley89",
         "calming",
         "2025-07-01T09:03:28Z",
         1
        ],
        [
         "X1Fqn9du7xo",
         "@MasequaCollier",
         "Life",
         "2025-07-01T04:40:24Z",
         1
        ],
        [
         "X1Fqn9du7xo",
         "@madaradefender8008",
         "Still searching on july 2025 ;))",
         "2025-07-01T03:37:05Z",
         1
        ],
        [
         "X1Fqn9du7xo",
         "@ernestonovele8602",
         "2025",
         "2025-06-30T18:45:07Z",
         1
        ],
        [
         "X1Fqn9du7xo",
         "@bingbird77",
         "To Teal Swan, Madonna, and Kristina.  Marines don't like to get pegged.",
         "2025-06-30T14:29:14Z",
         1
        ],
        [
         "X1Fqn9du7xo",
         "@daraesentertainment7346",
         "99fm favorite jam..",
         "2025-06-30T13:01:05Z",
         1
        ],
        [
         "X1Fqn9du7xo",
         "@XianSparda",
         "i dont like it tobe sasuke",
         "2025-06-30T10:59:42Z",
         1
        ],
        [
         "X1Fqn9du7xo",
         "@XianSparda",
         "hello",
         "2025-06-30T10:59:31Z",
         1
        ],
        [
         "X1Fqn9du7xo",
         "@ImanTahaAtallah",
         "My childhood ❤",
         "2025-06-29T19:18:10Z",
         2
        ],
        [
         "X1Fqn9du7xo",
         "@JumanSamsung",
         "\uD83D\uDE22\uD83D\uDE22\uD83D\uDE22\uD83D\uDE22\uD83D\uDE22\uD83C\uDF89\uD83C\uDF89\uD83C\uDF89\uD83C\uDF89",
         "2025-06-29T14:56:09Z",
         1
        ],
        [
         "X1Fqn9du7xo",
         "@LilassHd-ev3md",
         "Stay on the ground",
         "2025-06-29T14:13:59Z",
         1
        ],
        [
         "X1Fqn9du7xo",
         "@juninhosampaio503",
         "This song brings me such a great inner peace!",
         "2025-06-29T02:37:38Z",
         1
        ],
        [
         "X1Fqn9du7xo",
         "@lifew-oscar",
         "Still listening, 29th June 2025 ❤",
         "2025-06-29T01:35:59Z",
         1
        ],
        [
         "X1Fqn9du7xo",
         "@blessingchamburuka3269",
         "I thought Pink sang this song.",
         "2025-06-29T01:14:35Z",
         1
        ],
        [
         "X1Fqn9du7xo",
         "@Michael-p5b6y",
         "Still 2026",
         "2025-06-29T00:57:38Z",
         1
        ],
        [
         "X1Fqn9du7xo",
         "@kateandersen2221",
         "This and a wide open desert!",
         "2025-06-28T22:29:03Z",
         1
        ],
        [
         "X1Fqn9du7xo",
         "@edsonnluiss",
         "150M ✔",
         "2025-06-28T19:41:26Z",
         1
        ],
        [
         "X1Fqn9du7xo",
         "@miganisan",
         "Nostalgia",
         "2025-06-28T19:20:03Z",
         1
        ],
        [
         "X1Fqn9du7xo",
         "@thesisterhoodhub",
         "He wants a relationship with you. Every life matters, and you are deeply loved by God. He cares for each of us—from the womb to the tomb. Life is fragile, and we’ve been given free will to choose between right and wrong—choices that impact not only us, but those around us, for better or worse.\n\nOne day, we will each give an account of our lives—our thoughts, actions, words, and motives. Who can stand before a holy and just God? Jesus came to save us from our sinful nature. He is the way, the truth, and the life. No one comes to the Father except through Him. He alone is the mediator between God and man—and only He can forgive sins.\n\nSin is knowing what’s right and choosing not to do it. It includes things like sexual immorality, idolatry, addiction, drunkenness, lying, hatred, and unforgiveness—anything that separates us from God. But the call to salvation is for everyone, regardless of your past, background, or identity. Jesus invites you to turn from sin and receive His free gift of salvation. It cannot be earned—salvation is by grace alone. Jesus paid the price for our sins on the cross to reconcile us to God.\n\nHe was crucified—nails through His hands and feet, a crown of thorns on His head—and He died for our sins. But on the third day, He rose from the dead. Jesus is alive! Now is the time to respond. Romans 10:9 says, “If you declare with your mouth, ‘Jesus is Lord,’ and believe in your heart that God raised Him from the dead, you will be saved.” It’s not just saying a prayer that saves—it’s real belief, repentance, and a surrendered heart.\n\nAsk God to forgive your sins. Turn from your old life and begin a new one, walking daily with Jesus. Ask the Holy Spirit to guide you. Read the Bible, obey it, and stay close to God in prayer—seeking His wisdom, strength, and direction.\n\nEmbrace this good news and pray:\n\n“Dear God, thank You for loving me. I confess that I have sinned against You. I believe that Jesus, Your Son, died on the cross for my sins and rose from the dead. Please forgive me. I confess that Jesus is my Lord and Savior. Thank You for the gift of eternal life. In Jesus’ name, Amen.”\n\nIt’s not just a prayer—it’s the surrender of your heart and life to Jesus that brings salvation. Now is the time. Step out of darkness and into His light. He’s waiting with open arms. Receive His love and His gift of eternal life today.",
         "2025-06-28T19:04:11Z",
         2
        ],
        [
         "X1Fqn9du7xo",
         "@Riyu-23",
         "1:47\"but i think you could save my life\"\nThese lyrics give one meaning in my life",
         "2025-06-28T17:38:29Z",
         10
        ],
        [
         "X1Fqn9du7xo",
         "@AlaynaBell-k2v7l",
         "wait…. is this song for emos only?",
         "2025-06-28T04:38:29Z",
         1
        ],
        [
         "X1Fqn9du7xo",
         "@skolopendrra08",
         "Просто Супер!\nОчень жаль, что сейчас конкурс Евровидение превратился в политику....., а этой песне  реально повезло успеть не коснуться всего этого....",
         "2025-06-28T01:26:37Z",
         1
        ],
        [
         "X1Fqn9du7xo",
         "@shives1866",
         "WWE fans might know this is the guy that married Alexa Bliss. lucky rascal",
         "2025-06-27T23:52:18Z",
         1
        ],
        [
         "X1Fqn9du7xo",
         "@shives1866",
         "I sing the chorus to my 5 year old daughter when she starts the dad dad dad. I'll hit her with a \"whata want from me\" but the whole song is so great for us . i just keep trying and hope she doesn't give up on me and she definitely saved my life",
         "2025-06-27T23:49:57Z",
         3
        ],
        [
         "X1Fqn9du7xo",
         "@Jacob_C_Jones",
         "I just randomly started singing this song at work damnnnn I miss this era\uD83D\uDE29❤️",
         "2025-06-27T22:22:39Z",
         2
        ],
        [
         "X1Fqn9du7xo",
         "@benlloyd3216",
         "Just GO AWAY!!!!",
         "2025-06-27T15:06:15Z",
         1
        ],
        [
         "X1Fqn9du7xo",
         "@goldenleaf1599",
         "\uD83D\uDE0D\uD83D\uDE0D\uD83D\uDE0D\uD83D\uDE0D\uD83D\uDE0D\uD83D\uDE0D\uD83D\uDE0D",
         "2025-06-27T08:29:35Z",
         2
        ],
        [
         "X1Fqn9du7xo",
         "@ElenaSorelle",
         "If you’ve ever felt not enough for someone, this song cuts deep. It’s the sound of trying your hardest, and still losing.",
         "2025-06-27T07:15:46Z",
         2
        ],
        [
         "X1Fqn9du7xo",
         "@lenamusina4386",
         "A war with Lambert.....we'll fight like dogs!\uD83D\uDE0A❤\uD83D\uDE02",
         "2025-06-26T12:47:01Z",
         2
        ],
        [
         "X1Fqn9du7xo",
         "@ridhoammarharahap5540",
         ":')\n\nAaaah... The good old Times. :') ❤\uD83D\uDCAF\n\nI've lost my right thumb couple years ago..\n\nOctober 13th. 2021. Ahahah...\n\nAnd also lost my beloved aunt, her brother, her younger brother, and also my uncle-in-law... :')\n\nEven not long ago, months back this year 2024, i've lost one of my closest older cousin... Due to some traffic accident.. :'(\n\nAhahah... Man.. If only..\n\nAaaah... I really miss the good old times... :') ❤\uD83D\uDCAF",
         "2025-06-26T05:19:23Z",
         3
        ],
        [
         "X1Fqn9du7xo",
         "@awanthi5950",
         "I came back! After so many years. To find this song! Adam Lambert had always been a favourite of mine",
         "2025-06-26T00:56:11Z",
         2
        ],
        [
         "X1Fqn9du7xo",
         "@Rin-ow3qn",
         "10 years later and I still know it word for word ❤",
         "2025-06-26T00:13:11Z",
         1
        ],
        [
         "X1Fqn9du7xo",
         "@carollaia",
         "2025 novamente ❤",
         "2025-06-25T22:41:16Z",
         1
        ],
        [
         "X1Fqn9du7xo",
         "@Anne24499",
         "Dude is actually fine as fk",
         "2025-06-24T15:51:36Z",
         3
        ],
        [
         "X1Fqn9du7xo",
         "@doubledoubleusmokymirror4d405",
         "I want nothing from others but the best four themselves",
         "2025-06-24T15:00:24Z",
         1
        ],
        [
         "X1Fqn9du7xo",
         "@farahrachid4603",
         "2025",
         "2025-06-24T12:24:26Z",
         1
        ],
        [
         "X1Fqn9du7xo",
         "@ballasvideo8431",
         "Omg, it's my favorite song❤❤❤❤❤❤❤❤❤❤\uD83D\uDE22\uD83D\uDE22\uD83D\uDE22remember  ex",
         "2025-06-24T11:23:38Z",
         1
        ],
        [
         "X1Fqn9du7xo",
         "@charlesvire7517",
         "\uD83C\uDF39\uD83C\uDF39\uD83C\uDF39",
         "2025-06-24T09:51:18Z",
         2
        ],
        [
         "X1Fqn9du7xo",
         "@cell_blackz",
         "I wont let u down\uD83C\uDF89\uD83C\uDF89\uD83C\uDF89",
         "2025-06-23T23:15:57Z",
         4
        ],
        [
         "X1Fqn9du7xo",
         "@spookynojutsu",
         "2025 anyone?",
         "2025-06-23T22:52:27Z",
         6
        ],
        [
         "X1Fqn9du7xo",
         "@kokophyo502",
         "Come back old Adam\uD83C\uDF89\uD83C\uDF89\uD83C\uDF89",
         "2025-06-23T21:59:49Z",
         5
        ],
        [
         "X1Fqn9du7xo",
         "@Thatbluegirl2003",
         "My grandma has to be the biggest fan of his that I've ever met and my grandma is currently 82 years old",
         "2025-06-23T21:49:16Z",
         1
        ],
        [
         "X1Fqn9du7xo",
         "@dianapalmeiraa",
         "2025 \uD83E\uDEF6\uD83C\uDFFB",
         "2025-06-23T19:20:38Z",
         2
        ],
        [
         "X1Fqn9du7xo",
         "@NiceMandarine",
         "stop! please!  im 27 and im still love him and that song",
         "2025-06-22T22:31:37Z",
         2
        ],
        [
         "X1Fqn9du7xo",
         "@ridasaadaoui2529",
         "2025 \uD83D\uDE22",
         "2025-06-22T16:56:14Z",
         2
        ],
        [
         "X1Fqn9du7xo",
         "@juliobraz7202",
         "I was just a teenager when this song first dropped. Now I’m 31, and it still hits me like a freight train.",
         "2025-06-22T04:51:17Z",
         6
        ],
        [
         "X1Fqn9du7xo",
         "@Randy-SupermegacyIvyson",
         "The Nostalgia\uD83D\uDE22❤ \uD83D\uDD25\uD83D\uDD25\uD83D\uDD25",
         "2025-06-22T01:51:33Z",
         1
        ],
        [
         "X1Fqn9du7xo",
         "@El_Danix_Experiencias",
         "❤02:19❤",
         "2025-06-22T00:42:57Z",
         1
        ],
        [
         "X1Fqn9du7xo",
         "@isabel_kyr",
         "Listening 2025❤❤❤❤❤",
         "2025-06-21T21:21:57Z",
         3
        ],
        [
         "X1Fqn9du7xo",
         "@Bejojo25",
         "19h58\nSam21juin25❤",
         "2025-06-21T18:55:58Z",
         1
        ],
        [
         "X1Fqn9du7xo",
         "@KatongoNganduMubanga",
         "Could listen to this song some 15 years ago",
         "2025-06-21T14:50:00Z",
         1
        ],
        [
         "X1Fqn9du7xo",
         "@zjebanyrekin",
         "<3",
         "2025-06-21T12:27:06Z",
         1
        ],
        [
         "X1Fqn9du7xo",
         "@crazyamericanredhead",
         "Yup",
         "2025-06-20T18:52:39Z",
         1
        ],
        [
         "X1Fqn9du7xo",
         "@marcusomowole7456",
         "i want some meth amphetamine \uD83E\uDD73\uD83E\uDD73\uD83E\uDD73 adam! LOL hahahaha",
         "2025-06-20T17:24:27Z",
         1
        ],
        [
         "X1Fqn9du7xo",
         "@dennylen1283",
         "listen to his every song everyday literally",
         "2025-06-19T20:13:25Z",
         1
        ],
        [
         "X1Fqn9du7xo",
         "@KadenLavallee-i3p",
         "I swear this guys song bin in my head since i was like 7\n\"\"Hey what you doing? What do u want? from me\"\"",
         "2025-06-19T19:50:10Z",
         4
        ],
        [
         "X1Fqn9du7xo",
         "@wailin4424",
         "2025 June",
         "2025-06-19T19:43:30Z",
         1
        ],
        [
         "ekr2nIex040",
         "@bolacha_extreme3461",
         "Porque eu achava que essa musica tinha mais de 10 anos? Ela deve parecer muito com uma que eu já ouvi e estou me enganando. Não é possível que essa musica foi lançada a 8 meses...",
         "2025-07-13T17:10:08Z",
         0
        ],
        [
         "ekr2nIex040",
         "@DevonMays-b1u",
         "1:18 Bro looked so happy after",
         "2025-07-13T17:07:58Z",
         0
        ],
        [
         "ekr2nIex040",
         "@rania-l0ve",
         "1.812B VIEWS\n16M LIKES\n18.5M FOLLOWERS\nKEEP STREAMING HERE AND ON SPOTIFY!!!",
         "2025-07-13T17:01:08Z",
         1
        ],
        [
         "ekr2nIex040",
         "@andresguadalupedelacruzarg577",
         "Hi❤❤❤❤",
         "2025-07-13T17:00:46Z",
         0
        ],
        [
         "ekr2nIex040",
         "@Amina-h7e6l",
         "\uD83C\uDFA4\uD83E\uDD70 Si",
         "2025-07-13T17:00:33Z",
         0
        ],
        [
         "ekr2nIex040",
         "@jeyoungpark911",
         "GANGNAM STYLE THEN \uD83C\uDF89\nAPT NOW \uD83C\uDF89\uD83C\uDF89\uD83C\uDF89",
         "2025-07-13T16:58:14Z",
         0
        ],
        [
         "ekr2nIex040",
         "@RinadAta",
         "Love you ❤",
         "2025-07-13T16:50:40Z",
         1
        ],
        [
         "ekr2nIex040",
         "@EsmelealemMeheretu",
         "APT❤❤❤❤❤❤❤\uD83D\uDE0A",
         "2025-07-13T16:41:57Z",
         4
        ],
        [
         "ekr2nIex040",
         "@BALU91a",
         "This is going to hit 2 Billion in 1 year ,  Crazy \uD83D\uDDA4\uD83D\uDC93",
         "2025-07-13T16:41:35Z",
         8
        ],
        [
         "ekr2nIex040",
         "@grimreaper2606",
         "She has a beautiful voice ❤",
         "2025-07-13T16:39:30Z",
         5
        ],
        [
         "ekr2nIex040",
         "@SrijitaDas-y5s",
         "Keep streaming guys, let's make it reach 2 billion!!!",
         "2025-07-13T16:32:15Z",
         3
        ],
        [
         "ekr2nIex040",
         "@skz_B3",
         "2b omg",
         "2025-07-13T16:25:32Z",
         2
        ],
        [
         "ekr2nIex040",
         "@JENJENJEN-12",
         "Don't you want me like i want you baby",
         "2025-07-13T16:21:08Z",
         3
        ],
        [
         "ekr2nIex040",
         "@ошдаеӡлзошҟ",
         "Que feoooo",
         "2025-07-13T16:19:42Z",
         0
        ],
        [
         "ekr2nIex040",
         "@matthewfeagin3609",
         "FROM FREE BIRDS (2013) THE WALKING DEAD MGM TOM AND JERRY PETER PAN FROM PUSS IN BOOTS (2011) TOY STORY 3 ICE AGE THE MELTDOWN GNOMEO AND JULIET FROM MISS SPIDER (2004) ICE AGE DAWN OF THE DINOSAURS MONSTERS INC END CREDITS FINDING NEMO FROM FREE BIRDS (2013) MEGAMIND MGM TOM AND JERRY FAMILY GUY FROM RIO (2011) CODENAME KIDS NEXT DOOR ICE AGE THE MELTDOWN ICE AGE A MAMMOTH CHRISTMAS KLASKY CSUPO MONSTERS UNIVERSITY MY SLURP JEOPARDY FROM FREE BIRDS (2013) RATATOUILLE MGM TOM AND JERRY GEICO PAWS LITTLE BABY BUM ICE AGE THE MELTDOWN UP THE PEANUTS MOVIE TANGLED MY SLURP THE GOONIES KUNG FU PANDA HOLIDAY SPECIAL ICE AGE THE MELTDOWN MGM TOM AND JERRY MADAGASCAR ESCAPE 2 AFRICA PAWS MONSTERS VS ALIENS ICE AGE THE MELTDOWN CARS FROM ICE AGE COLLISION COURSE (2016) MEET THE ROBINSONS FROM HOW TO TRAIN YOUR DRAGON (2010) SISTER WIVES KUNG FU PANDA 2 TRAILER ICE AGE CONTINENTAL DRIFT MGM TOM AND JERRY TOY STORY HAPPY FEET SLEEPING BEAUTY ICE AGE THE MELTDOWN BRAVE FROM ICE AGE COLLISION COURSE (2016) DC LEAGUE OF SUPER-PETS FROM CARS (2006) DC LEAGUE OF SUPER-PETS GNOMEO AND JULIET DC LEAGUE OF SUPER-PETS FROM SHARK TALE (2004) DC LEAGUE OF SUPER-PETS SESAME STREET DC LEAGUE OF SUPER-PETS MADAGASCAR DC LEAGUE OF SUPER-PETS RIO 2 DC LEAGUE OF SUPER-PETS MONSTERS VS ALIENS DC LEAGUE OF SUPER-PETS CARS DC LEAGUE OF SUPER-PETS MEET THE ROBINSONS DC LEAGUE OF SUPER-PETS SISTER WIVES DC LEAGUE OF SUPER-PETS FROM THE INCREDIBLES (2004) DC LEAGUE OF SUPER-PETS FUZZY DOOR PRODUCTIONS 20TH CENTURY FOX DC LEAGUE OF SUPER-PETS FILM ROMAN STARZ MEDIA 2010 DC LEAGUE OF SUPER-PETS FROM RANGO (2011) DC LEAGUE OF SUPER-PETS FROM SURF UP (2007) DC LEAGUE OF SUPER-PETS FROM PUSS IN BOOTS (2011) DC LEAGUE OF SUPER-PETS DUG SPECIAL MISSION DC LEAGUE OF SUPER-PETS UFM UNIDENTIFIED FLYING MATER DC LEAGUE OF SUPER-PETS FROM KUNG FU PANDA (2008) DC LEAGUE OF SUPER-PETS TOY STORY DC LEAGUE OF SUPER-PETS HEY DUGGEE DC LEAGUE OF SUPER-PETS FROM KUNG FU PANDA (2008) DC LEAGUE OF SUPER-PETS FROM RIO 2 (2014) DC LEAGUE OF SUPER-PETS SESAME STREET DC LEAGUE OF SUPER-PETS MY SLURP DC LEAGUE OF SUPER-PETS HOME DC LEAGUE OF SUPER-PETS DR FRIGHTUNE EEK TURNING RED ARTHUR TURNING RED FROM SURF UP (2007) TURNING RED MONSTERS VS ALIENS HBO TURNING RED FROM SECRETS OF THE FURIOUS FIVE (2008) TURNING RED DORA THE EXPLORER TURNING RED SECRETS OF THE FURIOUS FIVE TURNING RED RIO TURNING RED WARNER BROS ANIMATION TURNING RED THE INCREDIBLES FREEFORM TURNING RED FROM MONSTERS VS ALIENS (2009) TURNING RED THE INCREDIBLES ABC FAMILY TURNING RED SURF UP(2007) END CREDITS. TURNING RED SHARK TALE TURNING RED FROM OPEN SEASON 2 (2008) TURNING RED KUNG FU PANDA 2008 DISNEY XD TURNING RED MY SLURP TURNING RED FROM HOME (2015) TURNING RED THE WONDER PETS TURNING RED EEKSBUSCAMPERS TURNING RED FROM ICE AGE DAWN OF THE DINOSAURS (2009) TURNING RED GNOMEO AND JULIET TURNING RED MY SLURP TURNING RED HAPPY FEET TURNING RED SURF UP TRAILER TURNING RED PAWS TURNING RED FROM OPEN SEASON 2 (2008) TURNING RED COOKIE JAR WGBH TURNING RED CHUGGINGTON TURNING RED FROM THE SPONGEBOB SQUAREPANTS MOVIE (2004) TURNING RED FROM ICE AGE DAWN OF THE DINOSAURS (2009) TURNING RED CHICKEN LITTLE TURNING RED SUNNY BUNNIES BOO TURNING RED FROM FINDING NEMO (2003) TURNING RED MONSTERS INC END CREDITS TURNING RED FRANKLIN THEME SONG TURNING RED",
         "2025-07-13T16:17:31Z",
         0
        ],
        [
         "ekr2nIex040",
         "@RhafIlzidy",
         "❤❤❤❤\uD83D\uDE0A\uD83D\uDE0A❤❤\uD83D\uDE0A\uD83D\uDE2E",
         "2025-07-13T16:12:23Z",
         0
        ],
        [
         "ekr2nIex040",
         "@matthewfeagin3609",
         "FROM HOW TO TRAIN YOUR DRAGON (2010) KUNG FU PANDA KUNG FU PANDA 2 TRAILER RIO MGM TOM AND JERRY KUNG FU PANDA 3 HAPPY FEET PIXAR SHORT FILMS ICE AGE THE MELTDOWN THE PRINCESS AND THE FROG FROM ICE AGE COLLISION COURSE (2016) MADAGASCAR FROM CARS (2006) ICE AGE GNOMEO AND JULIET SHREK FOREVER AFTER FROM SHARK TALE (2004) THE INCREDIBLES SESAME STREET MONSTERS INC MADAGASCAR TOY STORY 2 RIO 2 DESPICABLE ME MONSTERS VS ALIENS THE PATRIOT CARS HOW TO TRAIN YOUR DRAGON MEET THE ROBINSONS KUNG FU PANDA 2 SISTER WIVES KUNG FU PANDA HOLIDAY SPECIAL FROM THE INCREDIBLES (2004) DISNEY PREP & LANDING FUZZY DOOR PRODUCTIONS 20TH CENTURY FOX SHARK TALE FILM ROMAN STARZ MEDIA 2010 THE LITTLE MERMAID FROM RANGO (2011) THE INCREDIBLES FROM SURF UP (2007) WALL-E FROM PUSS IN BOOTS (2011) THE WALKING DEAD DUG SPECIAL MISSION PETER PAN UFM UNIDENTIFIED FLYING MATER TOY STORY 3 FROM KUNG FU PANDA (2008) GNOMEO AND JULIET TOY STORY ICE AGE DAWN OF THE DINOSAURS HEY DUGGEE FINDING NEMO FROM KUNG FU PANDA (2008) MEGAMIND FROM RIO 2 (2014) FAMILY GUY SESAME STREET ICE AGE A MAMMOTH CHRISTMAS MY SLURP OVER THE HEDGE HOME MONSTERS UNIVERSITY DR FRIGHTUNE EEK JEOPARDY ARTHUR RATATOUILLE FROM SURF UP (2007) GEICO MONSTERS VS ALIENS HBO LITTLE BABY BUM FROM SECRETS OF THE FURIOUS FIVE (2008) UP DORA THE EXPLORER TANGLED SECRETS OF THE FURIOUS FIVE HOME ON THE RANGE RIO ICE AGE THE MELTDOWN WARNER BROS ANIMATION MADAGASCAR ESCAPE 2 AFRICA THE INCREDIBLES FREEFORM MONSTERS VS ALIENS FROM MONSTERS VS ALIENS (2009) CARS THE INCREDIBLES ABC FAMILY MEET THE ROBINSONS SURF UP(2007) END CREDITS. SISTER WIVES SHARK TALE ICE AGE CONTINENTAL DRIFT FROM OPEN SEASON 2 (2008) TOY STORY KUNG FU PANDA 2008 DISNEY XD GEICO INSURANCE MY SLURP BRAVE FROM HOME (2015) KUNG FU PANDA THE WONDER PETS RIO EEKSBUSCAMPERS KUNG FU PANDA 3 FROM ICE AGE DAWN OF THE DINOSAURS (2009) PIXAR SHORT FILMS GNOMEO AND JULIET THE PRINCESS AND THE FROG MY SLURP MADAGASCAR HAPPY FEET ICE AGE SURF UP TRAILER SHREK FOREVER AFTER PAWS THE INCREDIBLES FROM OPEN SEASON 2 (2008) MONSTERS INC COOKIE JAR WGBH TOY STORY 2 CHUGGINGTON DESPICABLE ME FROM THE SPONGEBOB SQUAREPANTS MOVIE (2004) TOM AND JERRY FROM ICE AGE DAWN OF THE DINOSAURS (2009) HOW TO TRAIN YOUR DRAGON CHICKEN LITTLE KUNG FU PANDA 2 SUNNY BUNNIES BOO AMERICA DAD FROM FINDING NEMO (2003) CARTOON NETWORK HARVEY MONSTERS INC END CREDITS SAVAGE STUDIOS LTD FRANKLIN THEME SONG CARTOON NETWORK DEXTER LABORATORY DR FRIGHTUNE EEK DEEPLE DOO FROM MADAGASCAR ESCAPE 2 AFRICA (2008) UNDERDOG PRODUCTIONS OPENING TO MADAGASCAR 3 EUROPE MOST WANTED 2012 DVD ICE AGE SMALL POTATOES PETER PAN MY SLURP TOY STORY 3 ICE AGE 2 TRAILER GNOMEO AND JULIET DR FRIGHTUNE EEK ICE AGE DAWN OF THE DINOSAURS CARS ENDING FINDING NEMO FREE BIRDS. MEGAMIND FROM RIO  (2011) MERRY MADAGASCAR MY SLURP ICE AGE A MAMMOTH CHRISTMAS THE LION GUARD BESTHE OVER THE HEDGE",
         "2025-07-13T16:10:46Z",
         0
        ],
        [
         "ekr2nIex040",
         "@treasuregama",
         "❤\uD83C\uDDFB\uD83C\uDDF3\uD83C\uDDFB\uD83C\uDDF3\uD83C\uDDF8\uD83C\uDDFF\uD83C\uDE35\uD83C\uDE39\uD83C\uDE34",
         "2025-07-13T16:10:20Z",
         0
        ],
        [
         "ekr2nIex040",
         "@szotlankima-w9j",
         "Can't believe it is already 8 months ago i swear my class was singing it yesterday but it was actually 8 months ago\uD83D\uDE2E",
         "2025-07-13T16:09:41Z",
         3
        ],
        [
         "ekr2nIex040",
         "@SamLioren",
         "Crazzy",
         "2025-07-13T16:01:04Z",
         3
        ],
        [
         "ekr2nIex040",
         "@Bacon_yahya",
         "Apt+arabe=\uD83C\uDF49",
         "2025-07-13T15:58:56Z",
         1
        ],
        [
         "ekr2nIex040",
         "@ArenSrapyan",
         "0:54",
         "2025-07-13T15:57:22Z",
         0
        ],
        [
         "ekr2nIex040",
         "@Glseries29",
         "1.8 billion in 8 months?? Crazyyyyy",
         "2025-07-13T15:56:41Z",
         4
        ],
        [
         "ekr2nIex040",
         "@Mliracle_rl",
         "다시는 나오지않을 최고의 가수..❤\uD83C\uDF39",
         "2025-07-13T15:53:49Z",
         4
        ],
        [
         "ekr2nIex040",
         "@darkomiloswvljevic7245",
         "i love this song!definrtly recomend it!!",
         "2025-07-13T15:52:22Z",
         3
        ],
        [
         "ekr2nIex040",
         "@Sadeem-t7k",
         "1B !!\n\n\nWowwwww",
         "2025-07-13T15:52:00Z",
         1
        ],
        [
         "ekr2nIex040",
         "@danielaferreira7230",
         "Me. Gusto\uD83D\uDE0A\uD83D\uDE0A",
         "2025-07-13T15:45:44Z",
         0
        ],
        [
         "ekr2nIex040",
         "@MariaLuiza-is2ro",
         "Nelson musica  do nundo",
         "2025-07-13T15:36:16Z",
         0
        ],
        [
         "ekr2nIex040",
         "@Seanfam147",
         "Anyone listening to this in July 2025?",
         "2025-07-13T15:35:50Z",
         3
        ],
        [
         "ekr2nIex040",
         "@DNikesh-t8z",
         "It's been 8 months but still can't get over this song!!!",
         "2025-07-13T15:35:21Z",
         0
        ],
        [
         "ekr2nIex040",
         "@rubabliyeva1483",
         "I love BLACK PINK",
         "2025-07-13T15:33:30Z",
         0
        ],
        [
         "ekr2nIex040",
         "@rubabliyeva1483",
         "I love Rośe❤",
         "2025-07-13T15:32:52Z",
         1
        ],
        [
         "ekr2nIex040",
         "@LEOF-k1s",
         "❤",
         "2025-07-13T15:27:50Z",
         0
        ],
        [
         "ekr2nIex040",
         "@JosiasClassic",
         "https://youtube.com/shorts/lmWkskk1Bt8?si=K2IOfQBSgxe4Ow_M",
         "2025-07-13T15:23:38Z",
         0
        ],
        [
         "ekr2nIex040",
         "@СергейБелый-ц8и",
         "2:52",
         "2025-07-13T15:22:12Z",
         1
        ],
        [
         "ekr2nIex040",
         "@monaliemonalie",
         "❤❤❤",
         "2025-07-13T15:20:19Z",
         1
        ],
        [
         "ekr2nIex040",
         "@alagesanramanathan4598",
         "Dude this has perfect middle school couple vibes and i love it",
         "2025-07-13T15:19:32Z",
         5
        ],
        [
         "ekr2nIex040",
         "@JulissaBotendo",
         "Luik\n❤❤❤❤❤❤❤❤❤❤❤❤ kus kus",
         "2025-07-13T15:16:14Z",
         0
        ],
        [
         "ekr2nIex040",
         "@prinsi2",
         "181.....❤❤",
         "2025-07-13T15:16:06Z",
         1
        ],
        [
         "ekr2nIex040",
         "@أيڤࢪين-7",
         "هذا كتبته الباࢪحة الفجࢪ، لذا توجد اخطأء املائية\uD83E\uDD8B",
         "2025-07-13T15:12:17Z",
         1
        ],
        [
         "ekr2nIex040",
         "@evaxd_fanıolmusumm",
         "1,8 Mr reaction.. \uD83D\uDE31\uD83D\uDE31",
         "2025-07-13T15:08:45Z",
         2
        ],
        [
         "ekr2nIex040",
         "@IolandaPereira-v9m",
         "\uD83D\uDE0A\uD83D\uDE0A\uD83D\uDE0A\uD83D\uDE0A\uD83D\uDE0A\uD83D\uDE0A\uD83D\uDE0A\uD83C\uDF89\uD83C\uDF89\uD83C\uDF89\uD83C\uDF89\uD83C\uDF89\uD83C\uDF89\uD83C\uDF89❤❤❤❤❤❤❤",
         "2025-07-13T15:06:06Z",
         0
        ],
        [
         "ekr2nIex040",
         "@shakeelrahmani1806",
         "Its 2 Billion congratulations \uD83D\uDC4F\uD83C\uDFFB BLINKS",
         "2025-07-13T15:05:07Z",
         2
        ],
        [
         "ekr2nIex040",
         "@RoxanaPerez-hp8xz",
         "Hi say something if u love apt ❤❤❤",
         "2025-07-13T15:01:35Z",
         1
        ],
        [
         "ekr2nIex040",
         "@KingofLondon261",
         "Love from Jalalabad \uD83C\uDDE6\uD83C\uDDEB i hope get 2 billion views \uD83C\uDDE6\uD83C\uDDEB\uD83C\uDDF0\uD83C\uDDF7",
         "2025-07-13T15:01:28Z",
         2
        ],
        [
         "ekr2nIex040",
         "@Jump_Deadline",
         "All you gotta do is just meet me at the",
         "2025-07-13T14:57:58Z",
         1
        ],
        [
         "ekr2nIex040",
         "@blink_army_129",
         "Let's go 2B??",
         "2025-07-13T14:50:56Z",
         0
        ],
        [
         "ekr2nIex040",
         "@Achmeat",
         "I’m telling you the real creator of this song — the guy lives in Turkey. @ahmet.yon",
         "2025-07-13T14:48:19Z",
         0
        ],
        [
         "ekr2nIex040",
         "@darshanadevi8297",
         "She looks like a angel ❤❤❤❤❤❤❤❤❤❤❤❤❤❤❤❤",
         "2025-07-13T14:48:13Z",
         0
        ],
        [
         "ekr2nIex040",
         "@ranjanasingla",
         "Your every song is perfect ❤",
         "2025-07-13T14:45:53Z",
         1
        ],
        [
         "ekr2nIex040",
         "@mokgethigugu864",
         "❤❤❤",
         "2025-07-13T14:43:56Z",
         0
        ],
        [
         "ekr2nIex040",
         "@KingofLondon261",
         "Let's go 2 billion \uD83C\uDDE6\uD83C\uDDEB\uD83C\uDDF0\uD83C\uDDF7",
         "2025-07-13T14:36:23Z",
         6
        ],
        [
         "ekr2nIex040",
         "@DraGlisflores",
         "Ay loveyu apt❤❤❤❤❤❤\uD83D\uDE0A",
         "2025-07-13T14:34:20Z",
         1
        ],
        [
         "ekr2nIex040",
         "@alianaparkk",
         "Let's get 2 billion views. \uD83C\uDF80",
         "2025-07-13T14:33:28Z",
         3
        ],
        [
         "ekr2nIex040",
         "@อรัญญาฮาดดา-ห9พ",
         "สปอร์ตแฟนSPORTFAN",
         "2025-07-13T14:24:17Z",
         0
        ],
        [
         "ekr2nIex040",
         "@Bilkis15",
         "APT all the way \uD83D\uDE0C✨",
         "2025-07-13T14:23:12Z",
         2
        ],
        [
         "ekr2nIex040",
         "@อรัญญาฮาดดา-ห9พ",
         "SPORTFAN",
         "2025-07-13T14:23:08Z",
         0
        ],
        [
         "ekr2nIex040",
         "@อรัญญาฮาดดา-ห9พ",
         "สปอร์ตแฟน",
         "2025-07-13T14:22:58Z",
         0
        ],
        [
         "ekr2nIex040",
         "@อรัญญาฮาดดา-ห9พ",
         "TAEKWONDO",
         "2025-07-13T14:21:38Z",
         0
        ],
        [
         "ekr2nIex040",
         "@อรัญญาฮาดดา-ห9พ",
         "BOWLING",
         "2025-07-13T14:21:30Z",
         0
        ],
        [
         "ekr2nIex040",
         "@อรัญญาฮาดดา-ห9พ",
         "BADMINTON",
         "2025-07-13T14:21:21Z",
         0
        ],
        [
         "ekr2nIex040",
         "@อรัญญาฮาดดา-ห9พ",
         "SANOOKER",
         "2025-07-13T14:21:15Z",
         0
        ],
        [
         "ekr2nIex040",
         "@อรัญญาฮาดดา-ห9พ",
         "BASKETBALL",
         "2025-07-13T14:21:06Z",
         0
        ],
        [
         "ekr2nIex040",
         "@อรัญญาฮาดดา-ห9พ",
         "GYMNASTICS",
         "2025-07-13T14:20:57Z",
         0
        ],
        [
         "ekr2nIex040",
         "@อรัญญาฮาดดา-ห9พ",
         "FOOTBALL",
         "2025-07-13T14:20:46Z",
         0
        ],
        [
         "ekr2nIex040",
         "@อรัญญาฮาดดา-ห9พ",
         "SWIMMING",
         "2025-07-13T14:20:33Z",
         0
        ],
        [
         "ekr2nIex040",
         "@อรัญญาฮาดดา-ห9พ",
         "VOLLEYBALL",
         "2025-07-13T14:20:06Z",
         0
        ],
        [
         "ekr2nIex040",
         "@อรัญญาฮาดดา-ห9พ",
         "BASKETBALL",
         "2025-07-13T14:19:53Z",
         0
        ],
        [
         "ekr2nIex040",
         "@อรัญญาฮาดดา-ห9พ",
         "MOTOCROSS",
         "2025-07-13T14:19:43Z",
         0
        ],
        [
         "ekr2nIex040",
         "@อรัญญาฮาดดา-ห9พ",
         "JETSKI",
         "2025-07-13T14:19:32Z",
         0
        ],
        [
         "ekr2nIex040",
         "@อรัญญาฮาดดา-ห9พ",
         "TAEKWONDO",
         "2025-07-13T14:19:24Z",
         0
        ],
        [
         "ekr2nIex040",
         "@อรัญญาฮาดดา-ห9พ",
         "BOXING",
         "2025-07-13T14:19:18Z",
         0
        ],
        [
         "ekr2nIex040",
         "@อรัญญาฮาดดา-ห9พ",
         "BADMINTON",
         "2025-07-13T14:19:12Z",
         0
        ],
        [
         "ekr2nIex040",
         "@อรัญญาฮาดดา-ห9พ",
         "SNOOKER",
         "2025-07-13T14:18:47Z",
         0
        ],
        [
         "ekr2nIex040",
         "@อรัญญาฮาดดา-ห9พ",
         "RACING",
         "2025-07-13T14:18:03Z",
         0
        ],
        [
         "ekr2nIex040",
         "@อรัญญาฮาดดา-ห9พ",
         "GOLF",
         "2025-07-13T14:17:55Z",
         0
        ],
        [
         "ekr2nIex040",
         "@อรัญญาฮาดดา-ห9พ",
         "TENNIS",
         "2025-07-13T14:17:48Z",
         0
        ],
        [
         "ekr2nIex040",
         "@อรัญญาฮาดดา-ห9พ",
         "FOOTBALL",
         "2025-07-13T14:17:43Z",
         0
        ],
        [
         "ekr2nIex040",
         "@อรัญญาฮาดดา-ห9พ",
         "BIKEBMX",
         "2025-07-13T14:17:37Z",
         0
        ],
        [
         "ekr2nIex040",
         "@อรัญญาฮาดดา-ห9พ",
         "RACING",
         "2025-07-13T14:17:30Z",
         0
        ],
        [
         "ekr2nIex040",
         "@FreyaEmmerson-q7h",
         "amazing love this collab",
         "2025-07-13T14:16:44Z",
         0
        ],
        [
         "ekr2nIex040",
         "@AberteMariz",
         "2B",
         "2025-07-13T14:16:03Z",
         0
        ],
        [
         "ekr2nIex040",
         "@LevysRST",
         "Brazilian \nH",
         "2025-07-13T14:15:04Z",
         0
        ],
        [
         "ekr2nIex040",
         "@faisalmalik1147",
         "Who is here after blackpink come back",
         "2025-07-13T14:08:24Z",
         6
        ],
        [
         "ekr2nIex040",
         "@firsttogojd",
         "2B",
         "2025-07-13T14:08:19Z",
         1
        ],
        [
         "ekr2nIex040",
         "@firsttogojd",
         "HIT",
         "2025-07-13T14:08:10Z",
         0
        ],
        [
         "ekr2nIex040",
         "@jojikanovi2688",
         "THE KISS?  \uD83D\uDE02❤",
         "2025-07-13T14:00:11Z",
         2
        ],
        [
         "ekr2nIex040",
         "@BLACKPİNK2016JLRJ-BP",
         "2 mr olur mu",
         "2025-07-13T13:59:23Z",
         0
        ],
        [
         "ekr2nIex040",
         "@NomboFF",
         "Ing",
         "2025-07-13T13:59:23Z",
         0
        ],
        [
         "ekr2nIex040",
         "@wendyangeliacero4275",
         "2025 anyone? <3",
         "2025-07-13T13:59:09Z",
         2
        ],
        [
         "ekr2nIex040",
         "@potaxio-rd4nu",
         "APT APT APT!!!!",
         "2025-07-13T13:44:15Z",
         1
        ],
        [
         "ekr2nIex040",
         "@jenniferyaun5076",
         "⚡⚡⚡⚡⚡⚡⚡⚡⚡⚡⚡⚡⚡⚡⚡⚡⚡⚡ yehey",
         "2025-07-13T13:44:11Z",
         0
        ],
        [
         "ekr2nIex040",
         "@LauraMorgan-p7t",
         "Apt",
         "2025-07-13T13:41:04Z",
         0
        ],
        [
         "ekr2nIex040",
         "@MdMafoz-j5h",
         "\uD83C\uDF89 good",
         "2025-07-13T13:37:50Z",
         0
        ],
        [
         "ekr2nIex040",
         "@feruzesanov1939",
         "Zõr chiqibdib",
         "2025-07-13T13:36:01Z",
         0
        ],
        [
         "ekr2nIex040",
         "@mariaathanasiou4528",
         "Η",
         "2025-07-13T13:29:49Z",
         0
        ],
        [
         "ekr2nIex040",
         "@MaruimMIR",
         "\uD83D\uDD90",
         "2025-07-13T13:22:16Z",
         1
        ],
        [
         "ekr2nIex040",
         "@nthuong2566",
         "nguyên nài khúc nào cũm hay",
         "2025-07-13T13:17:55Z",
         0
        ],
        [
         "ekr2nIex040",
         "@nthuong2566",
         "vuii",
         "2025-07-13T13:17:00Z",
         0
        ],
        [
         "ekr2nIex040",
         "@nthuong2566",
         "ghiềnn",
         "2025-07-13T13:16:41Z",
         0
        ]
       ],
       "datasetInfos": [],
       "dbfsResultPath": null,
       "isJsonSchema": true,
       "metadata": {},
       "overflow": false,
       "plotOptions": {
        "customPlotOptions": {},
        "displayType": "table",
        "pivotAggregation": null,
        "pivotColumns": null,
        "xColumns": null,
        "yColumns": null
       },
       "removedWidgets": [],
       "schema": [
        {
         "metadata": "{}",
         "name": "video_id",
         "type": "\"string\""
        },
        {
         "metadata": "{}",
         "name": "user",
         "type": "\"string\""
        },
        {
         "metadata": "{}",
         "name": "text",
         "type": "\"string\""
        },
        {
         "metadata": "{}",
         "name": "published_at",
         "type": "\"string\""
        },
        {
         "metadata": "{}",
         "name": "like_count",
         "type": "\"long\""
        }
       ],
       "type": "table"
      }
     },
     "output_type": "display_data"
    }
   ],
   "source": [
    "df_bronze = spark.read.format(\"delta\").load(bronze_path)\n",
    "df_bronze.display()"
   ]
  },
  {
   "cell_type": "code",
   "execution_count": 0,
   "metadata": {
    "application/vnd.databricks.v1+cell": {
     "cellMetadata": {
      "byteLimit": 2048000,
      "rowLimit": 10000
     },
     "inputWidgets": {},
     "nuid": "ad277e0f-3f0b-4415-9240-d4585b175fbe",
     "showTitle": true,
     "tableResultSettingsMap": {},
     "title": "Cleanup and Enrich Data"
    }
   },
   "outputs": [
    {
     "output_type": "display_data",
     "data": {
      "text/html": [
       "<style scoped>\n",
       "  .table-result-container {\n",
       "    max-height: 300px;\n",
       "    overflow: auto;\n",
       "  }\n",
       "  table, th, td {\n",
       "    border: 1px solid black;\n",
       "    border-collapse: collapse;\n",
       "  }\n",
       "  th, td {\n",
       "    padding: 5px;\n",
       "  }\n",
       "  th {\n",
       "    text-align: left;\n",
       "  }\n",
       "</style><div class='table-result-container'><table class='table-result'><thead style='background-color: white'><tr><th>video_id</th><th>user</th><th>text</th><th>published_at</th><th>like_count</th><th>date</th><th>comment_hour</th></tr></thead><tbody><tr><td>RgKAFK5djSk</td><td>@EvilenDossantos</td><td>\uD83D\uDE2D</td><td>2025-07-13T17:03:55.000Z</td><td>0</td><td>2025-07-13</td><td>17</td></tr><tr><td>RgKAFK5djSk</td><td>@Ice-x4q4n</td><td>See you again Ahmed ❤</td><td>2025-07-13T17:03:02.000Z</td><td>0</td><td>2025-07-13</td><td>17</td></tr><tr><td>RgKAFK5djSk</td><td>@alufasimuzonda6310</td><td>\uD83D\uDE22\uD83D\uDE22\uD83D\uDE22\uD83D\uDE22 this pains who is with me in this song \uD83C\uDFB5 \uD83D\uDE2D \uD83D\uDE29 \uD83D\uDE2B  RIP to all our beloved ones \uD83D\uDC94 \uD83D\uDE22</td><td>2025-07-13T17:02:51.000Z</td><td>0</td><td>2025-07-13</td><td>17</td></tr><tr><td>RgKAFK5djSk</td><td>@Sam-g8t9j</td><td>We miss u paul</td><td>2025-07-13T16:50:29.000Z</td><td>1</td><td>2025-07-13</td><td>16</td></tr><tr><td>RgKAFK5djSk</td><td>@babuvlogs8818</td><td>Anyone in July 2025\uD83D\uDE05</td><td>2025-07-13T16:50:08.000Z</td><td>0</td><td>2025-07-13</td><td>16</td></tr><tr><td>RgKAFK5djSk</td><td>@selenavive4603</td><td>Alguém em 2025?</td><td>2025-07-13T16:48:27.000Z</td><td>0</td><td>2025-07-13</td><td>16</td></tr><tr><td>RgKAFK5djSk</td><td>@hoangtucibidi</td><td>R.I.P Diogo Jota \uD83D\uDD4A️\uD83C\uDDF5\uD83C\uDDF9</td><td>2025-07-13T16:36:15.000Z</td><td>2</td><td>2025-07-13</td><td>16</td></tr><tr><td>RgKAFK5djSk</td><td>@orishampdah1886</td><td>❤</td><td>2025-07-13T16:31:02.000Z</td><td>0</td><td>2025-07-13</td><td>16</td></tr><tr><td>RgKAFK5djSk</td><td>@RivaldoEtienne-h4q8x</td><td>R.i.p jota \uD83D\uDE07</td><td>2025-07-13T16:20:22.000Z</td><td>0</td><td>2025-07-13</td><td>16</td></tr><tr><td>RgKAFK5djSk</td><td>@KevenCosmo</td><td>I love ❤❤❤❤you</td><td>2025-07-13T16:06:58.000Z</td><td>0</td><td>2025-07-13</td><td>16</td></tr><tr><td>RgKAFK5djSk</td><td>@BHN-h6c</td><td>Diogo Jota\uD83D\uDE22\uD83D\uDD4A</td><td>2025-07-13T15:47:17.000Z</td><td>2</td><td>2025-07-13</td><td>15</td></tr><tr><td>RgKAFK5djSk</td><td>@OseaKapaiter</td><td>Jota\uD83E\uDD7A❤\uD83E\uDD0D</td><td>2025-07-13T15:45:23.000Z</td><td>0</td><td>2025-07-13</td><td>15</td></tr><tr><td>RgKAFK5djSk</td><td>@IlohAyang-v8w</td><td>For paul</td><td>2025-07-13T15:41:30.000Z</td><td>0</td><td>2025-07-13</td><td>15</td></tr><tr><td>RgKAFK5djSk</td><td>@wanderson1112morais</td><td>Alguém em 2025</td><td>2025-07-13T15:17:38.000Z</td><td>0</td><td>2025-07-13</td><td>15</td></tr><tr><td>RgKAFK5djSk</td><td>@lifeofshy20</td><td>See you again my best friend \uD83D\uDC10\uD83D\uDD4A️✨\uD83E\uDD40</td><td>2025-07-13T15:17:25.000Z</td><td>0</td><td>2025-07-13</td><td>15</td></tr><tr><td>RgKAFK5djSk</td><td>@NinjaJunior567</td><td>See you again Andre Silva and Diogo Jota\uD83D\uDE2D✝️\uD83C\uDDF5\uD83C\uDDF9</td><td>2025-07-13T15:12:33.000Z</td><td>0</td><td>2025-07-13</td><td>15</td></tr><tr><td>RgKAFK5djSk</td><td>@skyhigh6089</td><td>Let's face it, the song is legendary for the Charlie Puth chorus. The rap is forgettable.</td><td>2025-07-13T15:10:16.000Z</td><td>0</td><td>2025-07-13</td><td>15</td></tr><tr><td>RgKAFK5djSk</td><td>@RhadigerDanoninho</td><td>To conhecendo uma mulher que Deus abençoe eu é ela \uD83E\uDD79</td><td>2025-07-13T15:08:42.000Z</td><td>0</td><td>2025-07-13</td><td>15</td></tr><tr><td>RgKAFK5djSk</td><td>@alisonbayliss735</td><td>Yeah</td><td>2025-07-13T14:59:33.000Z</td><td>0</td><td>2025-07-13</td><td>14</td></tr><tr><td>RgKAFK5djSk</td><td>@RAJA_SHORTS_36</td><td>Hii guys I'm from India \uD83C\uDDEE\uD83C\uDDF3\uD83C\uDDEE\uD83C\uDDF3\uD83C\uDDEE\uD83C\uDDF3\uD83C\uDDEE\uD83C\uDDF3\uD83C\uDDEE\uD83C\uDDF3\uD83C\uDDEE\uD83C\uDDF3\uD83C\uDDEE\uD83C\uDDF3\uD83C\uDDEE\uD83C\uDDF3\uD83C\uDDEE\uD83C\uDDF3\uD83C\uDDEE\uD83C\uDDF3\uD83C\uDDEE\uD83C\uDDF3\uD83C\uDDEE\uD83C\uDDF3\uD83C\uDDEE\uD83C\uDDF3\uD83C\uDDEE\uD83C\uDDF3\uD83C\uDDEE\uD83C\uDDF3\uD83C\uDDEE\uD83C\uDDF3</td><td>2025-07-13T14:53:26.000Z</td><td>0</td><td>2025-07-13</td><td>14</td></tr><tr><td>RgKAFK5djSk</td><td>@AUNGKO-cn2fr</td><td>See you again</td><td>2025-07-13T14:40:41.000Z</td><td>0</td><td>2025-07-13</td><td>14</td></tr><tr><td>RgKAFK5djSk</td><td>@LakainduAnjanalakindu</td><td>❤</td><td>2025-07-13T14:19:01.000Z</td><td>0</td><td>2025-07-13</td><td>14</td></tr><tr><td>RgKAFK5djSk</td><td>@Ashanef</td><td>See you agian dile\uD83D\uDE22</td><td>2025-07-13T14:16:24.000Z</td><td>1</td><td>2025-07-13</td><td>14</td></tr><tr><td>RgKAFK5djSk</td><td>@jatikusumasihombing3152</td><td>Hi guys \n",
       "I am from Indonesian</td><td>2025-07-13T14:06:37.000Z</td><td>0</td><td>2025-07-13</td><td>14</td></tr><tr><td>RgKAFK5djSk</td><td>@danalee2355</td><td>this reminds me of when me and my dad used to drive in the car and play this song all the time memories were now 11 and 39</td><td>2025-07-13T13:55:27.000Z</td><td>0</td><td>2025-07-13</td><td>13</td></tr><tr><td>RgKAFK5djSk</td><td>@PRËMÃÑÃÑDÃ-r6m</td><td>Full support for Wiz Khalifa❤\uD83D\uDE0A</td><td>2025-07-13T13:39:56.000Z</td><td>1</td><td>2025-07-13</td><td>13</td></tr><tr><td>RgKAFK5djSk</td><td>@PRËMÃÑÃÑDÃ-r6m</td><td>Full support for Wiz Kalifa❤</td><td>2025-07-13T13:39:01.000Z</td><td>0</td><td>2025-07-13</td><td>13</td></tr><tr><td>RgKAFK5djSk</td><td>@pfog</td><td>Paul Walker was my ultimate man crush. BJJ brown belt and was a straight gear head. Dude seemed humble and just like a the dude anybody would enjoy kickin’ it. Remember hearing of his passing and it still brings tears to my eyes to this day. 6B views tells makes me realize I’m not the only one that felt this way.</td><td>2025-07-13T13:33:42.000Z</td><td>0</td><td>2025-07-13</td><td>13</td></tr><tr><td>RgKAFK5djSk</td><td>@Keneid2007Masengesho</td><td>\uD83D\uDE2D\uD83D\uDE2D\uD83D\uDE2D\uD83D\uDE2D\uD83D\uDE2D\uD83D\uDE2D\uD83D\uDE2D\uD83D\uDE2D\uD83D\uDE2D\uD83D\uDE2D\uD83D\uDE2D\uD83D\uDE2D\uD83D\uDE2D\uD83D\uDE2D\uD83D\uDE2D\uD83D\uDE2D\uD83D\uDE2D\uD83D\uDE2D\uD83D\uDE2D\uD83D\uDE2D\uD83D\uDE2D\uD83D\uDE2D\uD83D\uDE2D\uD83D\uDE2D\uD83D\uDE2D\uD83D\uDE2D\uD83D\uDE2D\uD83D\uDE2D\uD83D\uDE2D\uD83D\uDE2D\uD83D\uDE2D</td><td>2025-07-13T13:26:59.000Z</td><td>0</td><td>2025-07-13</td><td>13</td></tr><tr><td>RgKAFK5djSk</td><td>@MariaIone-h6o</td><td>Melhor música que tem no mundo ❤❤\uD83D\uDE22\uD83D\uDE22❤</td><td>2025-07-13T13:18:38.000Z</td><td>0</td><td>2025-07-13</td><td>13</td></tr><tr><td>RgKAFK5djSk</td><td>@Tirox._zfr</td><td>0:47 0:51 0:51 0:51 0:52 0:52 0:53 0:53 0:53 0:53 0:55 0:55 0:55 0:55 0:57 0:57 0:58 0:58 0:58 0:58 0:59 0:59 0:59 0:59 0:59 1:00 1:00 1:00 \uD83D\uDE22 Paul</td><td>2025-07-13T13:17:24.000Z</td><td>0</td><td>2025-07-13</td><td>13</td></tr><tr><td>RgKAFK5djSk</td><td>@Rabin_8</td><td>See you again paul walker and diogo jota\uD83D\uDE22❤\n",
       "Love you forever ❤</td><td>2025-07-13T13:16:48.000Z</td><td>0</td><td>2025-07-13</td><td>13</td></tr><tr><td>RgKAFK5djSk</td><td>@Manjeshkumar-i1y</td><td>Love you soug.  Massg</td><td>2025-07-13T13:01:32.000Z</td><td>1</td><td>2025-07-13</td><td>13</td></tr><tr><td>RgKAFK5djSk</td><td>@AlhajiMbah-w7d</td><td>Another super star gone jota \uD83E\uDD7A</td><td>2025-07-13T13:00:28.000Z</td><td>1</td><td>2025-07-13</td><td>13</td></tr><tr><td>RgKAFK5djSk</td><td>@jayeshrore2307</td><td>July 2025 \n",
       "Pls Attendance Here</td><td>2025-07-13T12:54:19.000Z</td><td>0</td><td>2025-07-13</td><td>12</td></tr><tr><td>RgKAFK5djSk</td><td>@johnpaulhermida492</td><td>17 years without paul walker we miss you RIP 1973-2013</td><td>2025-07-13T12:50:57.000Z</td><td>0</td><td>2025-07-13</td><td>12</td></tr><tr><td>RgKAFK5djSk</td><td>@SophieWalker-h6x</td><td>Is be lo bay</td><td>2025-07-13T12:50:24.000Z</td><td>0</td><td>2025-07-13</td><td>12</td></tr><tr><td>RgKAFK5djSk</td><td>@Whisper-7-o4c</td><td>Best song</td><td>2025-07-13T12:46:06.000Z</td><td>1</td><td>2025-07-13</td><td>12</td></tr><tr><td>RgKAFK5djSk</td><td>@MARCOSGomesdocanto</td><td>\uD83D\uDE22\uD83D\uDE22\uD83D\uDE22❤</td><td>2025-07-13T12:42:12.000Z</td><td>0</td><td>2025-07-13</td><td>12</td></tr><tr><td>RgKAFK5djSk</td><td>@LeonardoMucci-s2m</td><td>See you again</td><td>2025-07-13T12:40:06.000Z</td><td>0</td><td>2025-07-13</td><td>12</td></tr><tr><td>RgKAFK5djSk</td><td>@soulmate648</td><td>From heaven ✨️</td><td>2025-07-13T12:36:41.000Z</td><td>0</td><td>2025-07-13</td><td>12</td></tr><tr><td>RgKAFK5djSk</td><td>@芦澤清隆恵</td><td>素晴らしい曲に出会えました\uD83C\uDF40\n",
       "心癒されます❣️\n",
       "ありがとうございます\uD83D\uDE0A\n",
       "3ヶ月前にGlobal  ATOMYと出会いました✨️\n",
       "それからGlobal\uD83C\uDF40に興味を持つようになりました✨️✨️</td><td>2025-07-13T12:32:37.000Z</td><td>0</td><td>2025-07-13</td><td>12</td></tr><tr><td>RgKAFK5djSk</td><td>@Khimlal95</td><td>2025 \uD83D\uDE2E Anyone?</td><td>2025-07-13T12:26:59.000Z</td><td>4</td><td>2025-07-13</td><td>12</td></tr><tr><td>RgKAFK5djSk</td><td>@pacewaras6929</td><td>Rip diogo Jota \uD83D\uDE22</td><td>2025-07-13T12:21:24.000Z</td><td>1</td><td>2025-07-13</td><td>12</td></tr><tr><td>RgKAFK5djSk</td><td>@Roshanrana123-s1t</td><td>Sad song</td><td>2025-07-13T12:21:07.000Z</td><td>0</td><td>2025-07-13</td><td>12</td></tr><tr><td>RgKAFK5djSk</td><td>@pacewaras6929</td><td>13 juli 2025</td><td>2025-07-13T12:20:31.000Z</td><td>0</td><td>2025-07-13</td><td>12</td></tr><tr><td>RgKAFK5djSk</td><td>@Rahulvasavaa</td><td>Kon-kon India \uD83C\uDDEE\uD83C\uDDF3se like Karen \n",
       "❤Dil Ko chhune wala song ❤</td><td>2025-07-13T12:19:20.000Z</td><td>1</td><td>2025-07-13</td><td>12</td></tr><tr><td>RgKAFK5djSk</td><td>@thanikaorawanchaikul4573</td><td>Any one in 2025 ?</td><td>2025-07-13T12:18:48.000Z</td><td>1</td><td>2025-07-13</td><td>12</td></tr><tr><td>RgKAFK5djSk</td><td>@K4YL3B</td><td>Rest in peace Diogo Jota, you will truly never walk alone...\n",
       "\n",
       "We love you my guy, we will tell you all about it when we see you again. <3\n",
       "\n",
       "1997-2025</td><td>2025-07-13T12:06:39.000Z</td><td>0</td><td>2025-07-13</td><td>12</td></tr><tr><td>RgKAFK5djSk</td><td>@Deepshikha-rx5zp</td><td>Diogo jota rip\uD83E\uDD7A</td><td>2025-07-13T11:58:21.000Z</td><td>0</td><td>2025-07-13</td><td>11</td></tr><tr><td>RgKAFK5djSk</td><td>@IbrahimChocoGana</td><td>Rest in piece❤❤❤</td><td>2025-07-13T11:48:05.000Z</td><td>1</td><td>2025-07-13</td><td>11</td></tr><tr><td>RgKAFK5djSk</td><td>@AtlehangPhalane</td><td>I love this song that I'm singing I love it I love it I love it it's just like I can't stop thinking listening to it bye it's just like the best thing that I ever had to because it's just like your members me of my friend who died❤❤❤</td><td>2025-07-13T11:40:50.000Z</td><td>1</td><td>2025-07-13</td><td>11</td></tr><tr><td>RgKAFK5djSk</td><td>@purplebacon-401</td><td>Kobe</td><td>2025-07-13T11:39:04.000Z</td><td>1</td><td>2025-07-13</td><td>11</td></tr><tr><td>RgKAFK5djSk</td><td>@christianoooooo7</td><td>This fukin song still touches my heart ❤️❤️</td><td>2025-07-13T11:32:57.000Z</td><td>0</td><td>2025-07-13</td><td>11</td></tr><tr><td>RgKAFK5djSk</td><td>@youtube_gmz</td><td>3:16 best part \uD83D\uDE0E rip pual walker</td><td>2025-07-13T11:27:17.000Z</td><td>0</td><td>2025-07-13</td><td>11</td></tr><tr><td>RgKAFK5djSk</td><td>@山之口海斗</td><td>これが10年前とは\uD83D\uDE22</td><td>2025-07-13T11:23:03.000Z</td><td>0</td><td>2025-07-13</td><td>11</td></tr><tr><td>RgKAFK5djSk</td><td>@yasinpro9522</td><td>jos</td><td>2025-07-13T11:02:40.000Z</td><td>0</td><td>2025-07-13</td><td>11</td></tr><tr><td>RgKAFK5djSk</td><td>@ZinMyo-n5r</td><td>Sea you again u.z.y.t\uD83D\uDE22</td><td>2025-07-13T10:59:36.000Z</td><td>0</td><td>2025-07-13</td><td>10</td></tr><tr><td>RgKAFK5djSk</td><td>@surenteran1631</td><td>13/725 \uD83D\uDE22</td><td>2025-07-13T10:58:31.000Z</td><td>0</td><td>2025-07-13</td><td>10</td></tr><tr><td>RgKAFK5djSk</td><td>@izzykidyt6394</td><td>who watch this video on 2025?</td><td>2025-07-13T10:55:15.000Z</td><td>3</td><td>2025-07-13</td><td>10</td></tr><tr><td>RgKAFK5djSk</td><td>@PkKumarasiri</td><td>❤❤ Forever Paul Walker  \uD83D\uDD4A</td><td>2025-07-13T10:40:23.000Z</td><td>0</td><td>2025-07-13</td><td>10</td></tr><tr><td>RgKAFK5djSk</td><td>@norbilmaxamed3888</td><td>RIP see you again Diogo jota he based away in before 9 days\uD83D\uDE22</td><td>2025-07-13T10:39:06.000Z</td><td>0</td><td>2025-07-13</td><td>10</td></tr><tr><td>RgKAFK5djSk</td><td>@GauravGc-d9p</td><td>Anyone from Nepal?</td><td>2025-07-13T10:17:33.000Z</td><td>0</td><td>2025-07-13</td><td>10</td></tr><tr><td>RgKAFK5djSk</td><td>@jayshriramjayshriram_99</td><td>jab milenge dobara\uD83D\uDE02</td><td>2025-07-13T10:04:22.000Z</td><td>0</td><td>2025-07-13</td><td>10</td></tr><tr><td>RgKAFK5djSk</td><td>@AnnyHahan</td><td>My old teacher  and my best friend  see you again</td><td>2025-07-13T10:02:02.000Z</td><td>0</td><td>2025-07-13</td><td>10</td></tr><tr><td>RgKAFK5djSk</td><td>@Suparji03-w6t</td><td>I came here to remember Paul Walker, Diogo Jota, and Andre Silva. May they rest in peace. \uD83D\uDE22\uD83E\uDD79</td><td>2025-07-13T09:57:48.000Z</td><td>0</td><td>2025-07-13</td><td>9</td></tr><tr><td>RgKAFK5djSk</td><td>@AdikiCidijua</td><td>See you Again ajano\uD83D\uDE22</td><td>2025-07-13T09:55:52.000Z</td><td>0</td><td>2025-07-13</td><td>9</td></tr><tr><td>RgKAFK5djSk</td><td>@bhagirtom</td><td>anyonye 2025</td><td>2025-07-13T09:54:30.000Z</td><td>1</td><td>2025-07-13</td><td>9</td></tr><tr><td>RgKAFK5djSk</td><td>@GeorgeJovin-y3w</td><td>R.l.P Diogo jota</td><td>2025-07-13T09:52:10.000Z</td><td>0</td><td>2025-07-13</td><td>9</td></tr><tr><td>RgKAFK5djSk</td><td>@Jacobzz14</td><td>R.I.P Diogo Jota we will miss you with this song in mind</td><td>2025-07-13T09:51:09.000Z</td><td>0</td><td>2025-07-13</td><td>9</td></tr><tr><td>RgKAFK5djSk</td><td>@AbuIsidro-ko5sm</td><td>See you again my father and Mother \uD83D\uDE22\uD83C\uDDF2\uD83C\uDDFF</td><td>2025-07-13T09:39:48.000Z</td><td>0</td><td>2025-07-13</td><td>9</td></tr><tr><td>RgKAFK5djSk</td><td>@Antsuli05</td><td>❤\uD83C\uDDEB\uD83C\uDDEE</td><td>2025-07-13T09:38:58.000Z</td><td>0</td><td>2025-07-13</td><td>9</td></tr><tr><td>RgKAFK5djSk</td><td>@Fynn-y8v</td><td>[__€^*>__]</td><td>2025-07-13T09:35:12.000Z</td><td>0</td><td>2025-07-13</td><td>9</td></tr><tr><td>RgKAFK5djSk</td><td>@User9472-l4k</td><td>La familia es primero \uD83E\uDD75\uD83D\uDE0E\uD83D\uDDFF\uD83D\uDD25\uD83D\uDD25\uD83D\uDCAF</td><td>2025-07-13T09:33:27.000Z</td><td>0</td><td>2025-07-13</td><td>9</td></tr><tr><td>RgKAFK5djSk</td><td>@Nidalwas_4</td><td>Not like being rude but is he married to Mia kalifah</td><td>2025-07-13T09:10:22.000Z</td><td>0</td><td>2025-07-13</td><td>9</td></tr><tr><td>RgKAFK5djSk</td><td>@SonawayinouCarmel</td><td>Mes parents repose en paix ☮️ Diego jota \uD83D\uDE22\uD83D\uDE2D\uD83D\uDE2D</td><td>2025-07-13T08:46:59.000Z</td><td>0</td><td>2025-07-13</td><td>8</td></tr><tr><td>RgKAFK5djSk</td><td>@RCRaihan-l2y</td><td>2025... \uD83E\uDD72\uD83E\uDEF6</td><td>2025-07-13T08:45:15.000Z</td><td>0</td><td>2025-07-13</td><td>8</td></tr><tr><td>RgKAFK5djSk</td><td>@dawidq7807</td><td>[*]</td><td>2025-07-13T08:31:30.000Z</td><td>0</td><td>2025-07-13</td><td>8</td></tr><tr><td>RgKAFK5djSk</td><td>@ElaSafitri-t5t</td><td>Anyone in july 2025 ❤</td><td>2025-07-13T08:11:59.000Z</td><td>1</td><td>2025-07-13</td><td>8</td></tr><tr><td>RgKAFK5djSk</td><td>@ajaythakur1785</td><td>Se you again ❤❤❤</td><td>2025-07-13T08:10:26.000Z</td><td>0</td><td>2025-07-13</td><td>8</td></tr><tr><td>RgKAFK5djSk</td><td>@MagmaAka</td><td>Rest in peace Diogo jota\uD83C\uDDF5\uD83C\uDDF9\uD83D\uDD4A</td><td>2025-07-13T07:37:15.000Z</td><td>0</td><td>2025-07-13</td><td>7</td></tr><tr><td>RgKAFK5djSk</td><td>@kajalbaruah2637</td><td>Anyone Here July \uD83D\uDE0C❤️\uD83E\uDDFF✨️</td><td>2025-07-13T06:55:08.000Z</td><td>3</td><td>2025-07-13</td><td>6</td></tr><tr><td>RgKAFK5djSk</td><td>@JoseEduardoZavalaRomero</td><td>Paul And Diogo \uD83C\uDDFA\uD83C\uDDF2\uD83E\uDD1D\uD83C\uDFFB\uD83C\uDDF5\uD83C\uDDF9 Together In Heaven And Always Never Gets Old Before 2026❤️\uD83C\uDF8A\uD83C\uDDF2\uD83C\uDDFD❤️\uD83C\uDF8A\uD83C\uDDFA\uD83C\uDDF2\n",
       "Before The World Cup</td><td>2025-07-13T06:48:18.000Z</td><td>2</td><td>2025-07-13</td><td>6</td></tr><tr><td>RgKAFK5djSk</td><td>@Aik-sy9zo</td><td>2025 Who is listening?\uD83C\uDF89\uD83C\uDF89\uD83C\uDF89</td><td>2025-07-13T06:24:22.000Z</td><td>4</td><td>2025-07-13</td><td>6</td></tr><tr><td>RgKAFK5djSk</td><td>@mahudeleon8806</td><td>Paul</td><td>2025-07-13T06:20:47.000Z</td><td>0</td><td>2025-07-13</td><td>6</td></tr><tr><td>RgKAFK5djSk</td><td>@MayamikoMasangano-g4z</td><td>And diego</td><td>2025-07-13T06:09:39.000Z</td><td>0</td><td>2025-07-13</td><td>6</td></tr><tr><td>RgKAFK5djSk</td><td>@MayamikoMasangano-g4z</td><td>Rip Paul walker</td><td>2025-07-13T06:09:27.000Z</td><td>0</td><td>2025-07-13</td><td>6</td></tr><tr><td>RgKAFK5djSk</td><td>@SarojBc-61690</td><td>Rip dogo jota RIP \uD83D\uDE22⚰⚰\uD83E\uDD7A\uD83E\uDD7A\uD83E\uDD7A\uD83D\uDC94\uD83D\uDC94\uD83D\uDC94\uD83D\uDC94\uD83D\uDC94\uD83D\uDC94\uD83D\uDC94</td><td>2025-07-13T06:08:10.000Z</td><td>0</td><td>2025-07-13</td><td>6</td></tr><tr><td>RgKAFK5djSk</td><td>@Elza-m9x</td><td>i’ll always be here for him no matter where the future has for us\uD83E\uDD79\uD83E\uDD79’23\uD83D\uDC9B\uD83E\uDD0E\uD83D\uDC9B\uD83E\uDD0E\uD83D\uDE4F\uD83D\uDE4F!!</td><td>2025-07-13T06:04:41.000Z</td><td>0</td><td>2025-07-13</td><td>6</td></tr><tr><td>RgKAFK5djSk</td><td>@TanjibTarek-c8y</td><td>Diago jota miss you \uD83D\uDE22\uD83D\uDE22\uD83D\uDE22\uD83C\uDDE7\uD83C\uDDE9</td><td>2025-07-13T05:50:37.000Z</td><td>0</td><td>2025-07-13</td><td>5</td></tr><tr><td>RgKAFK5djSk</td><td>@LuisTorres-t9w</td><td>Hey\uD83D\uDE22</td><td>2025-07-13T05:46:43.000Z</td><td>0</td><td>2025-07-13</td><td>5</td></tr><tr><td>RgKAFK5djSk</td><td>@Mark1986</td><td>Paul \uD83D\uDE4F\uD83D\uDE22</td><td>2025-07-13T05:43:58.000Z</td><td>0</td><td>2025-07-13</td><td>5</td></tr><tr><td>RgKAFK5djSk</td><td>@maduradileesha7058</td><td>2025 any one.</td><td>2025-07-13T05:36:59.000Z</td><td>0</td><td>2025-07-13</td><td>5</td></tr><tr><td>RgKAFK5djSk</td><td>@abir_the_stormBorn33</td><td>Anyone here from 2035? ✨\uD83D\uDDA4</td><td>2025-07-13T05:24:47.000Z</td><td>0</td><td>2025-07-13</td><td>5</td></tr><tr><td>RgKAFK5djSk</td><td>@DaRealAntGotti</td><td>Wiz helps P.Walk live on 4ever!!!\uD83D\uDCAF\uD83D\uDC4D\uD83C\uDFFD\uD83D\uDE4F\uD83C\uDFFC</td><td>2025-07-13T05:18:37.000Z</td><td>1</td><td>2025-07-13</td><td>5</td></tr><tr><td>RgKAFK5djSk</td><td>@lazzyut</td><td>ISOLAAAAAAAADOOOOOS</td><td>2025-07-13T05:01:15.000Z</td><td>0</td><td>2025-07-13</td><td>5</td></tr><tr><td>RgKAFK5djSk</td><td>@ThịĐiềnNguyễn-n3q4n</td><td>Seeyouagain ban</td><td>2025-07-13T04:43:22.000Z</td><td>0</td><td>2025-07-13</td><td>4</td></tr><tr><td>RgKAFK5djSk</td><td>@Jouns_life</td><td>Pour tout ceux partis très tôt \n",
       "On pense à vous\uD83D\uDE4F\uD83C\uDFFD</td><td>2025-07-13T04:41:37.000Z</td><td>0</td><td>2025-07-13</td><td>4</td></tr><tr><td>RgKAFK5djSk</td><td>@Talhaezlen</td><td>\"Even though you're no longer here,\n",
       "a part of you still lives in every quiet moment I feel.\n",
       "I don’t hate you — I just miss you in silence.\"</td><td>2025-07-13T04:15:30.000Z</td><td>0</td><td>2025-07-13</td><td>4</td></tr><tr><td>RgKAFK5djSk</td><td>@azraqeyra2866</td><td>nangis bangettttt</td><td>2025-07-13T03:56:42.000Z</td><td>0</td><td>2025-07-13</td><td>3</td></tr><tr><td>X1Fqn9du7xo</td><td>@fernandobunguele2018</td><td>Moçambique 2025 toco muito essa música na Radio</td><td>2025-07-13T16:39:37.000Z</td><td>0</td><td>2025-07-13</td><td>16</td></tr><tr><td>X1Fqn9du7xo</td><td>@mattsantiago6714</td><td>2025 \uD83E\uDD73</td><td>2025-07-13T09:24:31.000Z</td><td>2</td><td>2025-07-13</td><td>9</td></tr><tr><td>X1Fqn9du7xo</td><td>@SooHaaacked</td><td>Who came from key of awesome parody \uD83D\uDE02\uD83D\uDE02</td><td>2025-07-13T07:44:08.000Z</td><td>2</td><td>2025-07-13</td><td>7</td></tr><tr><td>X1Fqn9du7xo</td><td>@aishaamrenova7351</td><td>\uD83E\uDEF6\uD83E\uDEF6\uD83E\uDEF6 2025</td><td>2025-07-12T20:22:05.000Z</td><td>1</td><td>2025-07-12</td><td>20</td></tr><tr><td>X1Fqn9du7xo</td><td>@anapatterson8301</td><td>❤</td><td>2025-07-12T16:08:59.000Z</td><td>2</td><td>2025-07-12</td><td>16</td></tr><tr><td>X1Fqn9du7xo</td><td>@LordHakier</td><td>He’s solo career sucks but hes a great volalist. He made more cucess in Europe with his pop efforts .. still had some great covers ..</td><td>2025-07-12T08:51:23.000Z</td><td>1</td><td>2025-07-12</td><td>8</td></tr><tr><td>X1Fqn9du7xo</td><td>@HulkHogan-x8l</td><td>\uD83D\uDE0A</td><td>2025-07-12T08:18:23.000Z</td><td>0</td><td>2025-07-12</td><td>8</td></tr><tr><td>X1Fqn9du7xo</td><td>@brittanyc4241</td><td>i love his style now but i loved his emo style back then !!</td><td>2025-07-12T07:49:11.000Z</td><td>1</td><td>2025-07-12</td><td>7</td></tr><tr><td>X1Fqn9du7xo</td><td>@brandymiller4904</td><td>God i am 27 and I have not heard this song i 10 years and yes he is my idol</td><td>2025-07-12T03:03:03.000Z</td><td>1</td><td>2025-07-12</td><td>3</td></tr><tr><td>X1Fqn9du7xo</td><td>@ChristineNewton-u5j</td><td>Love to Ivy</td><td>2025-07-11T16:25:25.000Z</td><td>1</td><td>2025-07-11</td><td>16</td></tr><tr><td>X1Fqn9du7xo</td><td>@ChristineNewton-u5j</td><td>Save everyone's life if we all singing from the same page of Lyrics!</td><td>2025-07-11T16:24:10.000Z</td><td>1</td><td>2025-07-11</td><td>16</td></tr><tr><td>X1Fqn9du7xo</td><td>@ChristineNewton-u5j</td><td>Money is the route of EVERY Evil</td><td>2025-07-11T16:23:23.000Z</td><td>1</td><td>2025-07-11</td><td>16</td></tr><tr><td>X1Fqn9du7xo</td><td>@ChristineNewton-u5j</td><td>Much love to Mitchell even tho I don't approve of most he gets up to.</td><td>2025-07-11T16:22:40.000Z</td><td>1</td><td>2025-07-11</td><td>16</td></tr><tr><td>X1Fqn9du7xo</td><td>@deoncuba2305</td><td>\uD83D\uDE0E\uD83D\uDC492025ADAM LAMBERT IS AWESOME\uD83C\uDF89..HIS VOICE ALWAYS GETS ME PUMPED UP..THIS GUY'S VOICE IS INCREDIBLE JUST BEAUTIFULLY POWERFUL I LOVE THIS SONG\uD83E\uDD0E\uD83C\uDF39\uD83D\uDC4F</td><td>2025-07-11T01:59:58.000Z</td><td>1</td><td>2025-07-11</td><td>1</td></tr><tr><td>X1Fqn9du7xo</td><td>@deoncuba2305</td><td>\uD83D\uDE0E\uD83D\uDC492025ADAM LAMBERT IS AWESOME\uD83C\uDF89..HIS VOICE ALWAYS GETS ME PUMPED UP..THIS GUY'S VOICE IS INCREDIBLE JUST BEAUTIFULLY POWERFUL I LOVE THIS SONG\uD83E\uDD0E\uD83C\uDF39\uD83D\uDC4F</td><td>2025-07-11T01:59:44.000Z</td><td>1</td><td>2025-07-11</td><td>1</td></tr><tr><td>X1Fqn9du7xo</td><td>@RopertPenuela</td><td>I liked this song but he's gay now</td><td>2025-07-10T15:38:17.000Z</td><td>2</td><td>2025-07-10</td><td>15</td></tr><tr><td>X1Fqn9du7xo</td><td>@Skydeeppearls</td><td>First time after long time, 2025 ✌️\uD83D\uDCAF</td><td>2025-07-10T14:34:00.000Z</td><td>1</td><td>2025-07-10</td><td>14</td></tr><tr><td>X1Fqn9du7xo</td><td>@egoist36</td><td>This is a masterpice of 2010's music video.</td><td>2025-07-09T23:22:53.000Z</td><td>1</td><td>2025-07-09</td><td>23</td></tr><tr><td>X1Fqn9du7xo</td><td>@mattcorcoran1397</td><td>The fact this was Pink's song and she gave it to him.. She knew.. \uD83D\uDD25\uD83D\uDD25.. 13..</td><td>2025-07-09T22:43:38.000Z</td><td>3</td><td>2025-07-09</td><td>22</td></tr><tr><td>X1Fqn9du7xo</td><td>@JenniferHollyCole</td><td>Love❤️ this! Great video!\uD83D\uDE0E\uD83D\uDC4D</td><td>2025-07-09T21:51:20.000Z</td><td>1</td><td>2025-07-09</td><td>21</td></tr><tr><td>X1Fqn9du7xo</td><td>@GabrielaBonska-Sosnicka-pn5cx</td><td>❤\uD83E\uDDF8</td><td>2025-07-09T17:18:29.000Z</td><td>1</td><td>2025-07-09</td><td>17</td></tr><tr><td>X1Fqn9du7xo</td><td>@LiaDe-y1o</td><td>Adam is gorgeous</td><td>2025-07-09T16:27:48.000Z</td><td>1</td><td>2025-07-09</td><td>16</td></tr><tr><td>X1Fqn9du7xo</td><td>@lenamusina4386</td><td>No one will touch me anymore until the end of my death!\uD83D\uDC80☠️\uD83D\uDCAF\uD83D\uDCA5\uD83D\uDDA4\uD83D\uDC8BAdam, you understand me!</td><td>2025-07-09T13:44:25.000Z</td><td>2</td><td>2025-07-09</td><td>13</td></tr><tr><td>X1Fqn9du7xo</td><td>@TimBoy-w3e7h</td><td>Mussss</td><td>2025-07-09T02:59:56.000Z</td><td>1</td><td>2025-07-09</td><td>2</td></tr><tr><td>X1Fqn9du7xo</td><td>@FaithMazivanhanga-q2e</td><td>It's now 15 years but this song will always be my favourite❤❤❤</td><td>2025-07-08T17:51:54.000Z</td><td>1</td><td>2025-07-08</td><td>17</td></tr><tr><td>X1Fqn9du7xo</td><td>@QUARTERJACKmusic</td><td>Crazy that P!nk passed on this song..he killed it</td><td>2025-07-08T05:41:48.000Z</td><td>1</td><td>2025-07-08</td><td>5</td></tr><tr><td>X1Fqn9du7xo</td><td>@Seby-d6w</td><td>❤❤❤</td><td>2025-07-07T11:58:46.000Z</td><td>1</td><td>2025-07-07</td><td>11</td></tr><tr><td>X1Fqn9du7xo</td><td>@еленасапожникова-х8р</td><td>Pictures... . Q... .</td><td>2025-07-07T07:48:12.000Z</td><td>1</td><td>2025-07-07</td><td>7</td></tr><tr><td>X1Fqn9du7xo</td><td>@منوعاتيوتيوبرية-س1م</td><td>لينا الامورة \uD83D\uDE22</td><td>2025-07-07T02:28:47.000Z</td><td>1</td><td>2025-07-07</td><td>2</td></tr><tr><td>X1Fqn9du7xo</td><td>@aminasiahmed8455</td><td>This song need to hit the 1Md views \uD83D\uDE22\uD83D\uDE22</td><td>2025-07-07T00:58:47.000Z</td><td>2</td><td>2025-07-07</td><td>0</td></tr><tr><td>X1Fqn9du7xo</td><td>@AnasAbbas-uj6dw</td><td>Aged like fine wine</td><td>2025-07-05T22:15:39.000Z</td><td>1</td><td>2025-07-05</td><td>22</td></tr><tr><td>X1Fqn9du7xo</td><td>@CultureofMusic.-2</td><td>Still2025\uD83D\uDE0D</td><td>2025-07-05T21:17:55.000Z</td><td>1</td><td>2025-07-05</td><td>21</td></tr><tr><td>X1Fqn9du7xo</td><td>@Shel-o4l</td><td>this song forever has a special place in my heart. miss the young Adam and the good old days~\uD83D\uDC99\uD83D\uDDA4</td><td>2025-07-05T14:19:29.000Z</td><td>6</td><td>2025-07-05</td><td>14</td></tr><tr><td>X1Fqn9du7xo</td><td>@BafanaSibolake</td><td>Am working it owt\uD83D\uDE0A</td><td>2025-07-05T10:43:21.000Z</td><td>2</td><td>2025-07-05</td><td>10</td></tr><tr><td>X1Fqn9du7xo</td><td>@gamezie3734</td><td>Tax inspection: Good morning. \n",
       "Adam: Whataya Want from Me?!</td><td>2025-07-05T08:40:05.000Z</td><td>4</td><td>2025-07-05</td><td>8</td></tr><tr><td>X1Fqn9du7xo</td><td>@codilawrence9721</td><td>I wouldn’t even try but I think you could save my liiiiiiiiife \uD83D\uDE29</td><td>2025-07-05T03:35:31.000Z</td><td>3</td><td>2025-07-05</td><td>3</td></tr><tr><td>X1Fqn9du7xo</td><td>@futurenostalgiatv3305</td><td>July 5, 2025 \uD83E\uDD1A</td><td>2025-07-05T02:03:25.000Z</td><td>1</td><td>2025-07-05</td><td>2</td></tr><tr><td>X1Fqn9du7xo</td><td>@SathyaSharvan-eh3gw</td><td>Adam voice ❤</td><td>2025-07-04T17:30:00.000Z</td><td>1</td><td>2025-07-04</td><td>17</td></tr><tr><td>X1Fqn9du7xo</td><td>@purplezen4261</td><td>July 3 2025 -  fireworks!</td><td>2025-07-04T02:37:18.000Z</td><td>2</td><td>2025-07-04</td><td>2</td></tr><tr><td>X1Fqn9du7xo</td><td>@shaniawiggs7171</td><td>❤❤❤❤</td><td>2025-07-03T22:58:40.000Z</td><td>1</td><td>2025-07-03</td><td>22</td></tr><tr><td>X1Fqn9du7xo</td><td>@tumelomolefe3329</td><td>I miss my college days friend Moorosi\uD83D\uDE22</td><td>2025-07-02T13:55:47.000Z</td><td>1</td><td>2025-07-02</td><td>13</td></tr><tr><td>X1Fqn9du7xo</td><td>@Miriam.B.Borges</td><td>Anyone here for this masterpiece?</td><td>2025-07-02T12:20:19.000Z</td><td>3</td><td>2025-07-02</td><td>12</td></tr><tr><td>X1Fqn9du7xo</td><td>@Amy_11163</td><td>Any concerts of this artist in the USA? I wanna go</td><td>2025-07-02T04:38:13.000Z</td><td>2</td><td>2025-07-02</td><td>4</td></tr><tr><td>X1Fqn9du7xo</td><td>@elistanley89</td><td>calming</td><td>2025-07-01T09:03:28.000Z</td><td>1</td><td>2025-07-01</td><td>9</td></tr><tr><td>X1Fqn9du7xo</td><td>@MasequaCollier</td><td>Life</td><td>2025-07-01T04:40:24.000Z</td><td>1</td><td>2025-07-01</td><td>4</td></tr><tr><td>X1Fqn9du7xo</td><td>@madaradefender8008</td><td>Still searching on july 2025 ;))</td><td>2025-07-01T03:37:05.000Z</td><td>1</td><td>2025-07-01</td><td>3</td></tr><tr><td>X1Fqn9du7xo</td><td>@ernestonovele8602</td><td>2025</td><td>2025-06-30T18:45:07.000Z</td><td>1</td><td>2025-06-30</td><td>18</td></tr><tr><td>X1Fqn9du7xo</td><td>@bingbird77</td><td>To Teal Swan, Madonna, and Kristina.  Marines don't like to get pegged.</td><td>2025-06-30T14:29:14.000Z</td><td>1</td><td>2025-06-30</td><td>14</td></tr><tr><td>X1Fqn9du7xo</td><td>@daraesentertainment7346</td><td>99fm favorite jam..</td><td>2025-06-30T13:01:05.000Z</td><td>1</td><td>2025-06-30</td><td>13</td></tr><tr><td>X1Fqn9du7xo</td><td>@XianSparda</td><td>i dont like it tobe sasuke</td><td>2025-06-30T10:59:42.000Z</td><td>1</td><td>2025-06-30</td><td>10</td></tr><tr><td>X1Fqn9du7xo</td><td>@XianSparda</td><td>hello</td><td>2025-06-30T10:59:31.000Z</td><td>1</td><td>2025-06-30</td><td>10</td></tr><tr><td>X1Fqn9du7xo</td><td>@ImanTahaAtallah</td><td>My childhood ❤</td><td>2025-06-29T19:18:10.000Z</td><td>2</td><td>2025-06-29</td><td>19</td></tr><tr><td>X1Fqn9du7xo</td><td>@JumanSamsung</td><td>\uD83D\uDE22\uD83D\uDE22\uD83D\uDE22\uD83D\uDE22\uD83D\uDE22\uD83C\uDF89\uD83C\uDF89\uD83C\uDF89\uD83C\uDF89</td><td>2025-06-29T14:56:09.000Z</td><td>1</td><td>2025-06-29</td><td>14</td></tr><tr><td>X1Fqn9du7xo</td><td>@LilassHd-ev3md</td><td>Stay on the ground</td><td>2025-06-29T14:13:59.000Z</td><td>1</td><td>2025-06-29</td><td>14</td></tr><tr><td>X1Fqn9du7xo</td><td>@juninhosampaio503</td><td>This song brings me such a great inner peace!</td><td>2025-06-29T02:37:38.000Z</td><td>1</td><td>2025-06-29</td><td>2</td></tr><tr><td>X1Fqn9du7xo</td><td>@lifew-oscar</td><td>Still listening, 29th June 2025 ❤</td><td>2025-06-29T01:35:59.000Z</td><td>1</td><td>2025-06-29</td><td>1</td></tr><tr><td>X1Fqn9du7xo</td><td>@blessingchamburuka3269</td><td>I thought Pink sang this song.</td><td>2025-06-29T01:14:35.000Z</td><td>1</td><td>2025-06-29</td><td>1</td></tr><tr><td>X1Fqn9du7xo</td><td>@Michael-p5b6y</td><td>Still 2026</td><td>2025-06-29T00:57:38.000Z</td><td>1</td><td>2025-06-29</td><td>0</td></tr><tr><td>X1Fqn9du7xo</td><td>@kateandersen2221</td><td>This and a wide open desert!</td><td>2025-06-28T22:29:03.000Z</td><td>1</td><td>2025-06-28</td><td>22</td></tr><tr><td>X1Fqn9du7xo</td><td>@edsonnluiss</td><td>150M ✔</td><td>2025-06-28T19:41:26.000Z</td><td>1</td><td>2025-06-28</td><td>19</td></tr><tr><td>X1Fqn9du7xo</td><td>@miganisan</td><td>Nostalgia</td><td>2025-06-28T19:20:03.000Z</td><td>1</td><td>2025-06-28</td><td>19</td></tr><tr><td>X1Fqn9du7xo</td><td>@thesisterhoodhub</td><td>He wants a relationship with you. Every life matters, and you are deeply loved by God. He cares for each of us—from the womb to the tomb. Life is fragile, and we’ve been given free will to choose between right and wrong—choices that impact not only us, but those around us, for better or worse.\n",
       "\n",
       "One day, we will each give an account of our lives—our thoughts, actions, words, and motives. Who can stand before a holy and just God? Jesus came to save us from our sinful nature. He is the way, the truth, and the life. No one comes to the Father except through Him. He alone is the mediator between God and man—and only He can forgive sins.\n",
       "\n",
       "Sin is knowing what’s right and choosing not to do it. It includes things like sexual immorality, idolatry, addiction, drunkenness, lying, hatred, and unforgiveness—anything that separates us from God. But the call to salvation is for everyone, regardless of your past, background, or identity. Jesus invites you to turn from sin and receive His free gift of salvation. It cannot be earned—salvation is by grace alone. Jesus paid the price for our sins on the cross to reconcile us to God.\n",
       "\n",
       "He was crucified—nails through His hands and feet, a crown of thorns on His head—and He died for our sins. But on the third day, He rose from the dead. Jesus is alive! Now is the time to respond. Romans 10:9 says, “If you declare with your mouth, ‘Jesus is Lord,’ and believe in your heart that God raised Him from the dead, you will be saved.” It’s not just saying a prayer that saves—it’s real belief, repentance, and a surrendered heart.\n",
       "\n",
       "Ask God to forgive your sins. Turn from your old life and begin a new one, walking daily with Jesus. Ask the Holy Spirit to guide you. Read the Bible, obey it, and stay close to God in prayer—seeking His wisdom, strength, and direction.\n",
       "\n",
       "Embrace this good news and pray:\n",
       "\n",
       "“Dear God, thank You for loving me. I confess that I have sinned against You. I believe that Jesus, Your Son, died on the cross for my sins and rose from the dead. Please forgive me. I confess that Jesus is my Lord and Savior. Thank You for the gift of eternal life. In Jesus’ name, Amen.”\n",
       "\n",
       "It’s not just a prayer—it’s the surrender of your heart and life to Jesus that brings salvation. Now is the time. Step out of darkness and into His light. He’s waiting with open arms. Receive His love and His gift of eternal life today.</td><td>2025-06-28T19:04:11.000Z</td><td>2</td><td>2025-06-28</td><td>19</td></tr><tr><td>X1Fqn9du7xo</td><td>@Riyu-23</td><td>1:47\"but i think you could save my life\"\n",
       "These lyrics give one meaning in my life</td><td>2025-06-28T17:38:29.000Z</td><td>10</td><td>2025-06-28</td><td>17</td></tr><tr><td>X1Fqn9du7xo</td><td>@AlaynaBell-k2v7l</td><td>wait…. is this song for emos only?</td><td>2025-06-28T04:38:29.000Z</td><td>1</td><td>2025-06-28</td><td>4</td></tr><tr><td>X1Fqn9du7xo</td><td>@skolopendrra08</td><td>Просто Супер!\n",
       "Очень жаль, что сейчас конкурс Евровидение превратился в политику....., а этой песне  реально повезло успеть не коснуться всего этого....</td><td>2025-06-28T01:26:37.000Z</td><td>1</td><td>2025-06-28</td><td>1</td></tr><tr><td>X1Fqn9du7xo</td><td>@shives1866</td><td>WWE fans might know this is the guy that married Alexa Bliss. lucky rascal</td><td>2025-06-27T23:52:18.000Z</td><td>1</td><td>2025-06-27</td><td>23</td></tr><tr><td>X1Fqn9du7xo</td><td>@shives1866</td><td>I sing the chorus to my 5 year old daughter when she starts the dad dad dad. I'll hit her with a \"whata want from me\" but the whole song is so great for us . i just keep trying and hope she doesn't give up on me and she definitely saved my life</td><td>2025-06-27T23:49:57.000Z</td><td>3</td><td>2025-06-27</td><td>23</td></tr><tr><td>X1Fqn9du7xo</td><td>@Jacob_C_Jones</td><td>I just randomly started singing this song at work damnnnn I miss this era\uD83D\uDE29❤️</td><td>2025-06-27T22:22:39.000Z</td><td>2</td><td>2025-06-27</td><td>22</td></tr><tr><td>X1Fqn9du7xo</td><td>@benlloyd3216</td><td>Just GO AWAY!!!!</td><td>2025-06-27T15:06:15.000Z</td><td>1</td><td>2025-06-27</td><td>15</td></tr><tr><td>X1Fqn9du7xo</td><td>@goldenleaf1599</td><td>\uD83D\uDE0D\uD83D\uDE0D\uD83D\uDE0D\uD83D\uDE0D\uD83D\uDE0D\uD83D\uDE0D\uD83D\uDE0D</td><td>2025-06-27T08:29:35.000Z</td><td>2</td><td>2025-06-27</td><td>8</td></tr><tr><td>X1Fqn9du7xo</td><td>@ElenaSorelle</td><td>If you’ve ever felt not enough for someone, this song cuts deep. It’s the sound of trying your hardest, and still losing.</td><td>2025-06-27T07:15:46.000Z</td><td>2</td><td>2025-06-27</td><td>7</td></tr><tr><td>X1Fqn9du7xo</td><td>@lenamusina4386</td><td>A war with Lambert.....we'll fight like dogs!\uD83D\uDE0A❤\uD83D\uDE02</td><td>2025-06-26T12:47:01.000Z</td><td>2</td><td>2025-06-26</td><td>12</td></tr><tr><td>X1Fqn9du7xo</td><td>@ridhoammarharahap5540</td><td>:')\n",
       "\n",
       "Aaaah... The good old Times. :') ❤\uD83D\uDCAF\n",
       "\n",
       "I've lost my right thumb couple years ago..\n",
       "\n",
       "October 13th. 2021. Ahahah...\n",
       "\n",
       "And also lost my beloved aunt, her brother, her younger brother, and also my uncle-in-law... :')\n",
       "\n",
       "Even not long ago, months back this year 2024, i've lost one of my closest older cousin... Due to some traffic accident.. :'(\n",
       "\n",
       "Ahahah... Man.. If only..\n",
       "\n",
       "Aaaah... I really miss the good old times... :') ❤\uD83D\uDCAF</td><td>2025-06-26T05:19:23.000Z</td><td>3</td><td>2025-06-26</td><td>5</td></tr><tr><td>X1Fqn9du7xo</td><td>@awanthi5950</td><td>I came back! After so many years. To find this song! Adam Lambert had always been a favourite of mine</td><td>2025-06-26T00:56:11.000Z</td><td>2</td><td>2025-06-26</td><td>0</td></tr><tr><td>X1Fqn9du7xo</td><td>@Rin-ow3qn</td><td>10 years later and I still know it word for word ❤</td><td>2025-06-26T00:13:11.000Z</td><td>1</td><td>2025-06-26</td><td>0</td></tr><tr><td>X1Fqn9du7xo</td><td>@carollaia</td><td>2025 novamente ❤</td><td>2025-06-25T22:41:16.000Z</td><td>1</td><td>2025-06-25</td><td>22</td></tr><tr><td>X1Fqn9du7xo</td><td>@Anne24499</td><td>Dude is actually fine as fk</td><td>2025-06-24T15:51:36.000Z</td><td>3</td><td>2025-06-24</td><td>15</td></tr><tr><td>X1Fqn9du7xo</td><td>@doubledoubleusmokymirror4d405</td><td>I want nothing from others but the best four themselves</td><td>2025-06-24T15:00:24.000Z</td><td>1</td><td>2025-06-24</td><td>15</td></tr><tr><td>X1Fqn9du7xo</td><td>@farahrachid4603</td><td>2025</td><td>2025-06-24T12:24:26.000Z</td><td>1</td><td>2025-06-24</td><td>12</td></tr><tr><td>X1Fqn9du7xo</td><td>@ballasvideo8431</td><td>Omg, it's my favorite song❤❤❤❤❤❤❤❤❤❤\uD83D\uDE22\uD83D\uDE22\uD83D\uDE22remember  ex</td><td>2025-06-24T11:23:38.000Z</td><td>1</td><td>2025-06-24</td><td>11</td></tr><tr><td>X1Fqn9du7xo</td><td>@charlesvire7517</td><td>\uD83C\uDF39\uD83C\uDF39\uD83C\uDF39</td><td>2025-06-24T09:51:18.000Z</td><td>2</td><td>2025-06-24</td><td>9</td></tr><tr><td>X1Fqn9du7xo</td><td>@cell_blackz</td><td>I wont let u down\uD83C\uDF89\uD83C\uDF89\uD83C\uDF89</td><td>2025-06-23T23:15:57.000Z</td><td>4</td><td>2025-06-23</td><td>23</td></tr><tr><td>X1Fqn9du7xo</td><td>@spookynojutsu</td><td>2025 anyone?</td><td>2025-06-23T22:52:27.000Z</td><td>6</td><td>2025-06-23</td><td>22</td></tr><tr><td>X1Fqn9du7xo</td><td>@kokophyo502</td><td>Come back old Adam\uD83C\uDF89\uD83C\uDF89\uD83C\uDF89</td><td>2025-06-23T21:59:49.000Z</td><td>5</td><td>2025-06-23</td><td>21</td></tr><tr><td>X1Fqn9du7xo</td><td>@Thatbluegirl2003</td><td>My grandma has to be the biggest fan of his that I've ever met and my grandma is currently 82 years old</td><td>2025-06-23T21:49:16.000Z</td><td>1</td><td>2025-06-23</td><td>21</td></tr><tr><td>X1Fqn9du7xo</td><td>@dianapalmeiraa</td><td>2025 \uD83E\uDEF6\uD83C\uDFFB</td><td>2025-06-23T19:20:38.000Z</td><td>2</td><td>2025-06-23</td><td>19</td></tr><tr><td>X1Fqn9du7xo</td><td>@NiceMandarine</td><td>stop! please!  im 27 and im still love him and that song</td><td>2025-06-22T22:31:37.000Z</td><td>2</td><td>2025-06-22</td><td>22</td></tr><tr><td>X1Fqn9du7xo</td><td>@ridasaadaoui2529</td><td>2025 \uD83D\uDE22</td><td>2025-06-22T16:56:14.000Z</td><td>2</td><td>2025-06-22</td><td>16</td></tr><tr><td>X1Fqn9du7xo</td><td>@juliobraz7202</td><td>I was just a teenager when this song first dropped. Now I’m 31, and it still hits me like a freight train.</td><td>2025-06-22T04:51:17.000Z</td><td>6</td><td>2025-06-22</td><td>4</td></tr><tr><td>X1Fqn9du7xo</td><td>@Randy-SupermegacyIvyson</td><td>The Nostalgia\uD83D\uDE22❤ \uD83D\uDD25\uD83D\uDD25\uD83D\uDD25</td><td>2025-06-22T01:51:33.000Z</td><td>1</td><td>2025-06-22</td><td>1</td></tr><tr><td>X1Fqn9du7xo</td><td>@El_Danix_Experiencias</td><td>❤02:19❤</td><td>2025-06-22T00:42:57.000Z</td><td>1</td><td>2025-06-22</td><td>0</td></tr><tr><td>X1Fqn9du7xo</td><td>@isabel_kyr</td><td>Listening 2025❤❤❤❤❤</td><td>2025-06-21T21:21:57.000Z</td><td>3</td><td>2025-06-21</td><td>21</td></tr><tr><td>X1Fqn9du7xo</td><td>@Bejojo25</td><td>19h58\n",
       "Sam21juin25❤</td><td>2025-06-21T18:55:58.000Z</td><td>1</td><td>2025-06-21</td><td>18</td></tr><tr><td>X1Fqn9du7xo</td><td>@KatongoNganduMubanga</td><td>Could listen to this song some 15 years ago</td><td>2025-06-21T14:50:00.000Z</td><td>1</td><td>2025-06-21</td><td>14</td></tr><tr><td>X1Fqn9du7xo</td><td>@zjebanyrekin</td><td><3</td><td>2025-06-21T12:27:06.000Z</td><td>1</td><td>2025-06-21</td><td>12</td></tr><tr><td>X1Fqn9du7xo</td><td>@crazyamericanredhead</td><td>Yup</td><td>2025-06-20T18:52:39.000Z</td><td>1</td><td>2025-06-20</td><td>18</td></tr><tr><td>X1Fqn9du7xo</td><td>@marcusomowole7456</td><td>i want some meth amphetamine \uD83E\uDD73\uD83E\uDD73\uD83E\uDD73 adam! LOL hahahaha</td><td>2025-06-20T17:24:27.000Z</td><td>1</td><td>2025-06-20</td><td>17</td></tr><tr><td>X1Fqn9du7xo</td><td>@dennylen1283</td><td>listen to his every song everyday literally</td><td>2025-06-19T20:13:25.000Z</td><td>1</td><td>2025-06-19</td><td>20</td></tr><tr><td>X1Fqn9du7xo</td><td>@KadenLavallee-i3p</td><td>I swear this guys song bin in my head since i was like 7\n",
       "\"\"Hey what you doing? What do u want? from me\"\"</td><td>2025-06-19T19:50:10.000Z</td><td>4</td><td>2025-06-19</td><td>19</td></tr><tr><td>X1Fqn9du7xo</td><td>@wailin4424</td><td>2025 June</td><td>2025-06-19T19:43:30.000Z</td><td>1</td><td>2025-06-19</td><td>19</td></tr><tr><td>ekr2nIex040</td><td>@bolacha_extreme3461</td><td>Porque eu achava que essa musica tinha mais de 10 anos? Ela deve parecer muito com uma que eu já ouvi e estou me enganando. Não é possível que essa musica foi lançada a 8 meses...</td><td>2025-07-13T17:10:08.000Z</td><td>0</td><td>2025-07-13</td><td>17</td></tr><tr><td>ekr2nIex040</td><td>@DevonMays-b1u</td><td>1:18 Bro looked so happy after</td><td>2025-07-13T17:07:58.000Z</td><td>0</td><td>2025-07-13</td><td>17</td></tr><tr><td>ekr2nIex040</td><td>@rania-l0ve</td><td>1.812B VIEWS\n",
       "16M LIKES\n",
       "18.5M FOLLOWERS\n",
       "KEEP STREAMING HERE AND ON SPOTIFY!!!</td><td>2025-07-13T17:01:08.000Z</td><td>1</td><td>2025-07-13</td><td>17</td></tr><tr><td>ekr2nIex040</td><td>@andresguadalupedelacruzarg577</td><td>Hi❤❤❤❤</td><td>2025-07-13T17:00:46.000Z</td><td>0</td><td>2025-07-13</td><td>17</td></tr><tr><td>ekr2nIex040</td><td>@Amina-h7e6l</td><td>\uD83C\uDFA4\uD83E\uDD70 Si</td><td>2025-07-13T17:00:33.000Z</td><td>0</td><td>2025-07-13</td><td>17</td></tr><tr><td>ekr2nIex040</td><td>@jeyoungpark911</td><td>GANGNAM STYLE THEN \uD83C\uDF89\n",
       "APT NOW \uD83C\uDF89\uD83C\uDF89\uD83C\uDF89</td><td>2025-07-13T16:58:14.000Z</td><td>0</td><td>2025-07-13</td><td>16</td></tr><tr><td>ekr2nIex040</td><td>@RinadAta</td><td>Love you ❤</td><td>2025-07-13T16:50:40.000Z</td><td>1</td><td>2025-07-13</td><td>16</td></tr><tr><td>ekr2nIex040</td><td>@EsmelealemMeheretu</td><td>APT❤❤❤❤❤❤❤\uD83D\uDE0A</td><td>2025-07-13T16:41:57.000Z</td><td>4</td><td>2025-07-13</td><td>16</td></tr><tr><td>ekr2nIex040</td><td>@BALU91a</td><td>This is going to hit 2 Billion in 1 year ,  Crazy \uD83D\uDDA4\uD83D\uDC93</td><td>2025-07-13T16:41:35.000Z</td><td>8</td><td>2025-07-13</td><td>16</td></tr><tr><td>ekr2nIex040</td><td>@grimreaper2606</td><td>She has a beautiful voice ❤</td><td>2025-07-13T16:39:30.000Z</td><td>5</td><td>2025-07-13</td><td>16</td></tr><tr><td>ekr2nIex040</td><td>@SrijitaDas-y5s</td><td>Keep streaming guys, let's make it reach 2 billion!!!</td><td>2025-07-13T16:32:15.000Z</td><td>3</td><td>2025-07-13</td><td>16</td></tr><tr><td>ekr2nIex040</td><td>@skz_B3</td><td>2b omg</td><td>2025-07-13T16:25:32.000Z</td><td>2</td><td>2025-07-13</td><td>16</td></tr><tr><td>ekr2nIex040</td><td>@JENJENJEN-12</td><td>Don't you want me like i want you baby</td><td>2025-07-13T16:21:08.000Z</td><td>3</td><td>2025-07-13</td><td>16</td></tr><tr><td>ekr2nIex040</td><td>@ошдаеӡлзошҟ</td><td>Que feoooo</td><td>2025-07-13T16:19:42.000Z</td><td>0</td><td>2025-07-13</td><td>16</td></tr><tr><td>ekr2nIex040</td><td>@matthewfeagin3609</td><td>FROM FREE BIRDS (2013) THE WALKING DEAD MGM TOM AND JERRY PETER PAN FROM PUSS IN BOOTS (2011) TOY STORY 3 ICE AGE THE MELTDOWN GNOMEO AND JULIET FROM MISS SPIDER (2004) ICE AGE DAWN OF THE DINOSAURS MONSTERS INC END CREDITS FINDING NEMO FROM FREE BIRDS (2013) MEGAMIND MGM TOM AND JERRY FAMILY GUY FROM RIO (2011) CODENAME KIDS NEXT DOOR ICE AGE THE MELTDOWN ICE AGE A MAMMOTH CHRISTMAS KLASKY CSUPO MONSTERS UNIVERSITY MY SLURP JEOPARDY FROM FREE BIRDS (2013) RATATOUILLE MGM TOM AND JERRY GEICO PAWS LITTLE BABY BUM ICE AGE THE MELTDOWN UP THE PEANUTS MOVIE TANGLED MY SLURP THE GOONIES KUNG FU PANDA HOLIDAY SPECIAL ICE AGE THE MELTDOWN MGM TOM AND JERRY MADAGASCAR ESCAPE 2 AFRICA PAWS MONSTERS VS ALIENS ICE AGE THE MELTDOWN CARS FROM ICE AGE COLLISION COURSE (2016) MEET THE ROBINSONS FROM HOW TO TRAIN YOUR DRAGON (2010) SISTER WIVES KUNG FU PANDA 2 TRAILER ICE AGE CONTINENTAL DRIFT MGM TOM AND JERRY TOY STORY HAPPY FEET SLEEPING BEAUTY ICE AGE THE MELTDOWN BRAVE FROM ICE AGE COLLISION COURSE (2016) DC LEAGUE OF SUPER-PETS FROM CARS (2006) DC LEAGUE OF SUPER-PETS GNOMEO AND JULIET DC LEAGUE OF SUPER-PETS FROM SHARK TALE (2004) DC LEAGUE OF SUPER-PETS SESAME STREET DC LEAGUE OF SUPER-PETS MADAGASCAR DC LEAGUE OF SUPER-PETS RIO 2 DC LEAGUE OF SUPER-PETS MONSTERS VS ALIENS DC LEAGUE OF SUPER-PETS CARS DC LEAGUE OF SUPER-PETS MEET THE ROBINSONS DC LEAGUE OF SUPER-PETS SISTER WIVES DC LEAGUE OF SUPER-PETS FROM THE INCREDIBLES (2004) DC LEAGUE OF SUPER-PETS FUZZY DOOR PRODUCTIONS 20TH CENTURY FOX DC LEAGUE OF SUPER-PETS FILM ROMAN STARZ MEDIA 2010 DC LEAGUE OF SUPER-PETS FROM RANGO (2011) DC LEAGUE OF SUPER-PETS FROM SURF UP (2007) DC LEAGUE OF SUPER-PETS FROM PUSS IN BOOTS (2011) DC LEAGUE OF SUPER-PETS DUG SPECIAL MISSION DC LEAGUE OF SUPER-PETS UFM UNIDENTIFIED FLYING MATER DC LEAGUE OF SUPER-PETS FROM KUNG FU PANDA (2008) DC LEAGUE OF SUPER-PETS TOY STORY DC LEAGUE OF SUPER-PETS HEY DUGGEE DC LEAGUE OF SUPER-PETS FROM KUNG FU PANDA (2008) DC LEAGUE OF SUPER-PETS FROM RIO 2 (2014) DC LEAGUE OF SUPER-PETS SESAME STREET DC LEAGUE OF SUPER-PETS MY SLURP DC LEAGUE OF SUPER-PETS HOME DC LEAGUE OF SUPER-PETS DR FRIGHTUNE EEK TURNING RED ARTHUR TURNING RED FROM SURF UP (2007) TURNING RED MONSTERS VS ALIENS HBO TURNING RED FROM SECRETS OF THE FURIOUS FIVE (2008) TURNING RED DORA THE EXPLORER TURNING RED SECRETS OF THE FURIOUS FIVE TURNING RED RIO TURNING RED WARNER BROS ANIMATION TURNING RED THE INCREDIBLES FREEFORM TURNING RED FROM MONSTERS VS ALIENS (2009) TURNING RED THE INCREDIBLES ABC FAMILY TURNING RED SURF UP(2007) END CREDITS. TURNING RED SHARK TALE TURNING RED FROM OPEN SEASON 2 (2008) TURNING RED KUNG FU PANDA 2008 DISNEY XD TURNING RED MY SLURP TURNING RED FROM HOME (2015) TURNING RED THE WONDER PETS TURNING RED EEKSBUSCAMPERS TURNING RED FROM ICE AGE DAWN OF THE DINOSAURS (2009) TURNING RED GNOMEO AND JULIET TURNING RED MY SLURP TURNING RED HAPPY FEET TURNING RED SURF UP TRAILER TURNING RED PAWS TURNING RED FROM OPEN SEASON 2 (2008) TURNING RED COOKIE JAR WGBH TURNING RED CHUGGINGTON TURNING RED FROM THE SPONGEBOB SQUAREPANTS MOVIE (2004) TURNING RED FROM ICE AGE DAWN OF THE DINOSAURS (2009) TURNING RED CHICKEN LITTLE TURNING RED SUNNY BUNNIES BOO TURNING RED FROM FINDING NEMO (2003) TURNING RED MONSTERS INC END CREDITS TURNING RED FRANKLIN THEME SONG TURNING RED</td><td>2025-07-13T16:17:31.000Z</td><td>0</td><td>2025-07-13</td><td>16</td></tr><tr><td>ekr2nIex040</td><td>@RhafIlzidy</td><td>❤❤❤❤\uD83D\uDE0A\uD83D\uDE0A❤❤\uD83D\uDE0A\uD83D\uDE2E</td><td>2025-07-13T16:12:23.000Z</td><td>0</td><td>2025-07-13</td><td>16</td></tr><tr><td>ekr2nIex040</td><td>@matthewfeagin3609</td><td>FROM HOW TO TRAIN YOUR DRAGON (2010) KUNG FU PANDA KUNG FU PANDA 2 TRAILER RIO MGM TOM AND JERRY KUNG FU PANDA 3 HAPPY FEET PIXAR SHORT FILMS ICE AGE THE MELTDOWN THE PRINCESS AND THE FROG FROM ICE AGE COLLISION COURSE (2016) MADAGASCAR FROM CARS (2006) ICE AGE GNOMEO AND JULIET SHREK FOREVER AFTER FROM SHARK TALE (2004) THE INCREDIBLES SESAME STREET MONSTERS INC MADAGASCAR TOY STORY 2 RIO 2 DESPICABLE ME MONSTERS VS ALIENS THE PATRIOT CARS HOW TO TRAIN YOUR DRAGON MEET THE ROBINSONS KUNG FU PANDA 2 SISTER WIVES KUNG FU PANDA HOLIDAY SPECIAL FROM THE INCREDIBLES (2004) DISNEY PREP & LANDING FUZZY DOOR PRODUCTIONS 20TH CENTURY FOX SHARK TALE FILM ROMAN STARZ MEDIA 2010 THE LITTLE MERMAID FROM RANGO (2011) THE INCREDIBLES FROM SURF UP (2007) WALL-E FROM PUSS IN BOOTS (2011) THE WALKING DEAD DUG SPECIAL MISSION PETER PAN UFM UNIDENTIFIED FLYING MATER TOY STORY 3 FROM KUNG FU PANDA (2008) GNOMEO AND JULIET TOY STORY ICE AGE DAWN OF THE DINOSAURS HEY DUGGEE FINDING NEMO FROM KUNG FU PANDA (2008) MEGAMIND FROM RIO 2 (2014) FAMILY GUY SESAME STREET ICE AGE A MAMMOTH CHRISTMAS MY SLURP OVER THE HEDGE HOME MONSTERS UNIVERSITY DR FRIGHTUNE EEK JEOPARDY ARTHUR RATATOUILLE FROM SURF UP (2007) GEICO MONSTERS VS ALIENS HBO LITTLE BABY BUM FROM SECRETS OF THE FURIOUS FIVE (2008) UP DORA THE EXPLORER TANGLED SECRETS OF THE FURIOUS FIVE HOME ON THE RANGE RIO ICE AGE THE MELTDOWN WARNER BROS ANIMATION MADAGASCAR ESCAPE 2 AFRICA THE INCREDIBLES FREEFORM MONSTERS VS ALIENS FROM MONSTERS VS ALIENS (2009) CARS THE INCREDIBLES ABC FAMILY MEET THE ROBINSONS SURF UP(2007) END CREDITS. SISTER WIVES SHARK TALE ICE AGE CONTINENTAL DRIFT FROM OPEN SEASON 2 (2008) TOY STORY KUNG FU PANDA 2008 DISNEY XD GEICO INSURANCE MY SLURP BRAVE FROM HOME (2015) KUNG FU PANDA THE WONDER PETS RIO EEKSBUSCAMPERS KUNG FU PANDA 3 FROM ICE AGE DAWN OF THE DINOSAURS (2009) PIXAR SHORT FILMS GNOMEO AND JULIET THE PRINCESS AND THE FROG MY SLURP MADAGASCAR HAPPY FEET ICE AGE SURF UP TRAILER SHREK FOREVER AFTER PAWS THE INCREDIBLES FROM OPEN SEASON 2 (2008) MONSTERS INC COOKIE JAR WGBH TOY STORY 2 CHUGGINGTON DESPICABLE ME FROM THE SPONGEBOB SQUAREPANTS MOVIE (2004) TOM AND JERRY FROM ICE AGE DAWN OF THE DINOSAURS (2009) HOW TO TRAIN YOUR DRAGON CHICKEN LITTLE KUNG FU PANDA 2 SUNNY BUNNIES BOO AMERICA DAD FROM FINDING NEMO (2003) CARTOON NETWORK HARVEY MONSTERS INC END CREDITS SAVAGE STUDIOS LTD FRANKLIN THEME SONG CARTOON NETWORK DEXTER LABORATORY DR FRIGHTUNE EEK DEEPLE DOO FROM MADAGASCAR ESCAPE 2 AFRICA (2008) UNDERDOG PRODUCTIONS OPENING TO MADAGASCAR 3 EUROPE MOST WANTED 2012 DVD ICE AGE SMALL POTATOES PETER PAN MY SLURP TOY STORY 3 ICE AGE 2 TRAILER GNOMEO AND JULIET DR FRIGHTUNE EEK ICE AGE DAWN OF THE DINOSAURS CARS ENDING FINDING NEMO FREE BIRDS. MEGAMIND FROM RIO  (2011) MERRY MADAGASCAR MY SLURP ICE AGE A MAMMOTH CHRISTMAS THE LION GUARD BESTHE OVER THE HEDGE</td><td>2025-07-13T16:10:46.000Z</td><td>0</td><td>2025-07-13</td><td>16</td></tr><tr><td>ekr2nIex040</td><td>@treasuregama</td><td>❤\uD83C\uDDFB\uD83C\uDDF3\uD83C\uDDFB\uD83C\uDDF3\uD83C\uDDF8\uD83C\uDDFF\uD83C\uDE35\uD83C\uDE39\uD83C\uDE34</td><td>2025-07-13T16:10:20.000Z</td><td>0</td><td>2025-07-13</td><td>16</td></tr><tr><td>ekr2nIex040</td><td>@szotlankima-w9j</td><td>Can't believe it is already 8 months ago i swear my class was singing it yesterday but it was actually 8 months ago\uD83D\uDE2E</td><td>2025-07-13T16:09:41.000Z</td><td>3</td><td>2025-07-13</td><td>16</td></tr><tr><td>ekr2nIex040</td><td>@SamLioren</td><td>Crazzy</td><td>2025-07-13T16:01:04.000Z</td><td>3</td><td>2025-07-13</td><td>16</td></tr><tr><td>ekr2nIex040</td><td>@Bacon_yahya</td><td>Apt+arabe=\uD83C\uDF49</td><td>2025-07-13T15:58:56.000Z</td><td>1</td><td>2025-07-13</td><td>15</td></tr><tr><td>ekr2nIex040</td><td>@ArenSrapyan</td><td>0:54</td><td>2025-07-13T15:57:22.000Z</td><td>0</td><td>2025-07-13</td><td>15</td></tr><tr><td>ekr2nIex040</td><td>@Glseries29</td><td>1.8 billion in 8 months?? Crazyyyyy</td><td>2025-07-13T15:56:41.000Z</td><td>4</td><td>2025-07-13</td><td>15</td></tr><tr><td>ekr2nIex040</td><td>@Mliracle_rl</td><td>다시는 나오지않을 최고의 가수..❤\uD83C\uDF39</td><td>2025-07-13T15:53:49.000Z</td><td>4</td><td>2025-07-13</td><td>15</td></tr><tr><td>ekr2nIex040</td><td>@darkomiloswvljevic7245</td><td>i love this song!definrtly recomend it!!</td><td>2025-07-13T15:52:22.000Z</td><td>3</td><td>2025-07-13</td><td>15</td></tr><tr><td>ekr2nIex040</td><td>@Sadeem-t7k</td><td>1B !!\n",
       "\n",
       "\n",
       "Wowwwww</td><td>2025-07-13T15:52:00.000Z</td><td>1</td><td>2025-07-13</td><td>15</td></tr><tr><td>ekr2nIex040</td><td>@danielaferreira7230</td><td>Me. Gusto\uD83D\uDE0A\uD83D\uDE0A</td><td>2025-07-13T15:45:44.000Z</td><td>0</td><td>2025-07-13</td><td>15</td></tr><tr><td>ekr2nIex040</td><td>@MariaLuiza-is2ro</td><td>Nelson musica  do nundo</td><td>2025-07-13T15:36:16.000Z</td><td>0</td><td>2025-07-13</td><td>15</td></tr><tr><td>ekr2nIex040</td><td>@Seanfam147</td><td>Anyone listening to this in July 2025?</td><td>2025-07-13T15:35:50.000Z</td><td>3</td><td>2025-07-13</td><td>15</td></tr><tr><td>ekr2nIex040</td><td>@DNikesh-t8z</td><td>It's been 8 months but still can't get over this song!!!</td><td>2025-07-13T15:35:21.000Z</td><td>0</td><td>2025-07-13</td><td>15</td></tr><tr><td>ekr2nIex040</td><td>@rubabliyeva1483</td><td>I love BLACK PINK</td><td>2025-07-13T15:33:30.000Z</td><td>0</td><td>2025-07-13</td><td>15</td></tr><tr><td>ekr2nIex040</td><td>@rubabliyeva1483</td><td>I love Rośe❤</td><td>2025-07-13T15:32:52.000Z</td><td>1</td><td>2025-07-13</td><td>15</td></tr><tr><td>ekr2nIex040</td><td>@LEOF-k1s</td><td>❤</td><td>2025-07-13T15:27:50.000Z</td><td>0</td><td>2025-07-13</td><td>15</td></tr><tr><td>ekr2nIex040</td><td>@JosiasClassic</td><td>https://youtube.com/shorts/lmWkskk1Bt8?si=K2IOfQBSgxe4Ow_M</td><td>2025-07-13T15:23:38.000Z</td><td>0</td><td>2025-07-13</td><td>15</td></tr><tr><td>ekr2nIex040</td><td>@СергейБелый-ц8и</td><td>2:52</td><td>2025-07-13T15:22:12.000Z</td><td>1</td><td>2025-07-13</td><td>15</td></tr><tr><td>ekr2nIex040</td><td>@monaliemonalie</td><td>❤❤❤</td><td>2025-07-13T15:20:19.000Z</td><td>1</td><td>2025-07-13</td><td>15</td></tr><tr><td>ekr2nIex040</td><td>@alagesanramanathan4598</td><td>Dude this has perfect middle school couple vibes and i love it</td><td>2025-07-13T15:19:32.000Z</td><td>5</td><td>2025-07-13</td><td>15</td></tr><tr><td>ekr2nIex040</td><td>@JulissaBotendo</td><td>Luik\n",
       "❤❤❤❤❤❤❤❤❤❤❤❤ kus kus</td><td>2025-07-13T15:16:14.000Z</td><td>0</td><td>2025-07-13</td><td>15</td></tr><tr><td>ekr2nIex040</td><td>@prinsi2</td><td>181.....❤❤</td><td>2025-07-13T15:16:06.000Z</td><td>1</td><td>2025-07-13</td><td>15</td></tr><tr><td>ekr2nIex040</td><td>@أيڤࢪين-7</td><td>هذا كتبته الباࢪحة الفجࢪ، لذا توجد اخطأء املائية\uD83E\uDD8B</td><td>2025-07-13T15:12:17.000Z</td><td>1</td><td>2025-07-13</td><td>15</td></tr><tr><td>ekr2nIex040</td><td>@evaxd_fanıolmusumm</td><td>1,8 Mr reaction.. \uD83D\uDE31\uD83D\uDE31</td><td>2025-07-13T15:08:45.000Z</td><td>2</td><td>2025-07-13</td><td>15</td></tr><tr><td>ekr2nIex040</td><td>@IolandaPereira-v9m</td><td>\uD83D\uDE0A\uD83D\uDE0A\uD83D\uDE0A\uD83D\uDE0A\uD83D\uDE0A\uD83D\uDE0A\uD83D\uDE0A\uD83C\uDF89\uD83C\uDF89\uD83C\uDF89\uD83C\uDF89\uD83C\uDF89\uD83C\uDF89\uD83C\uDF89❤❤❤❤❤❤❤</td><td>2025-07-13T15:06:06.000Z</td><td>0</td><td>2025-07-13</td><td>15</td></tr><tr><td>ekr2nIex040</td><td>@shakeelrahmani1806</td><td>Its 2 Billion congratulations \uD83D\uDC4F\uD83C\uDFFB BLINKS</td><td>2025-07-13T15:05:07.000Z</td><td>2</td><td>2025-07-13</td><td>15</td></tr><tr><td>ekr2nIex040</td><td>@RoxanaPerez-hp8xz</td><td>Hi say something if u love apt ❤❤❤</td><td>2025-07-13T15:01:35.000Z</td><td>1</td><td>2025-07-13</td><td>15</td></tr><tr><td>ekr2nIex040</td><td>@KingofLondon261</td><td>Love from Jalalabad \uD83C\uDDE6\uD83C\uDDEB i hope get 2 billion views \uD83C\uDDE6\uD83C\uDDEB\uD83C\uDDF0\uD83C\uDDF7</td><td>2025-07-13T15:01:28.000Z</td><td>2</td><td>2025-07-13</td><td>15</td></tr><tr><td>ekr2nIex040</td><td>@Jump_Deadline</td><td>All you gotta do is just meet me at the</td><td>2025-07-13T14:57:58.000Z</td><td>1</td><td>2025-07-13</td><td>14</td></tr><tr><td>ekr2nIex040</td><td>@blink_army_129</td><td>Let's go 2B??</td><td>2025-07-13T14:50:56.000Z</td><td>0</td><td>2025-07-13</td><td>14</td></tr><tr><td>ekr2nIex040</td><td>@Achmeat</td><td>I’m telling you the real creator of this song — the guy lives in Turkey. @ahmet.yon</td><td>2025-07-13T14:48:19.000Z</td><td>0</td><td>2025-07-13</td><td>14</td></tr><tr><td>ekr2nIex040</td><td>@darshanadevi8297</td><td>She looks like a angel ❤❤❤❤❤❤❤❤❤❤❤❤❤❤❤❤</td><td>2025-07-13T14:48:13.000Z</td><td>0</td><td>2025-07-13</td><td>14</td></tr><tr><td>ekr2nIex040</td><td>@ranjanasingla</td><td>Your every song is perfect ❤</td><td>2025-07-13T14:45:53.000Z</td><td>1</td><td>2025-07-13</td><td>14</td></tr><tr><td>ekr2nIex040</td><td>@mokgethigugu864</td><td>❤❤❤</td><td>2025-07-13T14:43:56.000Z</td><td>0</td><td>2025-07-13</td><td>14</td></tr><tr><td>ekr2nIex040</td><td>@KingofLondon261</td><td>Let's go 2 billion \uD83C\uDDE6\uD83C\uDDEB\uD83C\uDDF0\uD83C\uDDF7</td><td>2025-07-13T14:36:23.000Z</td><td>6</td><td>2025-07-13</td><td>14</td></tr><tr><td>ekr2nIex040</td><td>@DraGlisflores</td><td>Ay loveyu apt❤❤❤❤❤❤\uD83D\uDE0A</td><td>2025-07-13T14:34:20.000Z</td><td>1</td><td>2025-07-13</td><td>14</td></tr><tr><td>ekr2nIex040</td><td>@alianaparkk</td><td>Let's get 2 billion views. \uD83C\uDF80</td><td>2025-07-13T14:33:28.000Z</td><td>3</td><td>2025-07-13</td><td>14</td></tr><tr><td>ekr2nIex040</td><td>@อรัญญาฮาดดา-ห9พ</td><td>สปอร์ตแฟนSPORTFAN</td><td>2025-07-13T14:24:17.000Z</td><td>0</td><td>2025-07-13</td><td>14</td></tr><tr><td>ekr2nIex040</td><td>@Bilkis15</td><td>APT all the way \uD83D\uDE0C✨</td><td>2025-07-13T14:23:12.000Z</td><td>2</td><td>2025-07-13</td><td>14</td></tr><tr><td>ekr2nIex040</td><td>@อรัญญาฮาดดา-ห9พ</td><td>SPORTFAN</td><td>2025-07-13T14:23:08.000Z</td><td>0</td><td>2025-07-13</td><td>14</td></tr><tr><td>ekr2nIex040</td><td>@อรัญญาฮาดดา-ห9พ</td><td>สปอร์ตแฟน</td><td>2025-07-13T14:22:58.000Z</td><td>0</td><td>2025-07-13</td><td>14</td></tr><tr><td>ekr2nIex040</td><td>@อรัญญาฮาดดา-ห9พ</td><td>TAEKWONDO</td><td>2025-07-13T14:21:38.000Z</td><td>0</td><td>2025-07-13</td><td>14</td></tr><tr><td>ekr2nIex040</td><td>@อรัญญาฮาดดา-ห9พ</td><td>BOWLING</td><td>2025-07-13T14:21:30.000Z</td><td>0</td><td>2025-07-13</td><td>14</td></tr><tr><td>ekr2nIex040</td><td>@อรัญญาฮาดดา-ห9พ</td><td>BADMINTON</td><td>2025-07-13T14:21:21.000Z</td><td>0</td><td>2025-07-13</td><td>14</td></tr><tr><td>ekr2nIex040</td><td>@อรัญญาฮาดดา-ห9พ</td><td>SANOOKER</td><td>2025-07-13T14:21:15.000Z</td><td>0</td><td>2025-07-13</td><td>14</td></tr><tr><td>ekr2nIex040</td><td>@อรัญญาฮาดดา-ห9พ</td><td>BASKETBALL</td><td>2025-07-13T14:21:06.000Z</td><td>0</td><td>2025-07-13</td><td>14</td></tr><tr><td>ekr2nIex040</td><td>@อรัญญาฮาดดา-ห9พ</td><td>GYMNASTICS</td><td>2025-07-13T14:20:57.000Z</td><td>0</td><td>2025-07-13</td><td>14</td></tr><tr><td>ekr2nIex040</td><td>@อรัญญาฮาดดา-ห9พ</td><td>FOOTBALL</td><td>2025-07-13T14:20:46.000Z</td><td>0</td><td>2025-07-13</td><td>14</td></tr><tr><td>ekr2nIex040</td><td>@อรัญญาฮาดดา-ห9พ</td><td>SWIMMING</td><td>2025-07-13T14:20:33.000Z</td><td>0</td><td>2025-07-13</td><td>14</td></tr><tr><td>ekr2nIex040</td><td>@อรัญญาฮาดดา-ห9พ</td><td>VOLLEYBALL</td><td>2025-07-13T14:20:06.000Z</td><td>0</td><td>2025-07-13</td><td>14</td></tr><tr><td>ekr2nIex040</td><td>@อรัญญาฮาดดา-ห9พ</td><td>BASKETBALL</td><td>2025-07-13T14:19:53.000Z</td><td>0</td><td>2025-07-13</td><td>14</td></tr><tr><td>ekr2nIex040</td><td>@อรัญญาฮาดดา-ห9พ</td><td>MOTOCROSS</td><td>2025-07-13T14:19:43.000Z</td><td>0</td><td>2025-07-13</td><td>14</td></tr><tr><td>ekr2nIex040</td><td>@อรัญญาฮาดดา-ห9พ</td><td>JETSKI</td><td>2025-07-13T14:19:32.000Z</td><td>0</td><td>2025-07-13</td><td>14</td></tr><tr><td>ekr2nIex040</td><td>@อรัญญาฮาดดา-ห9พ</td><td>TAEKWONDO</td><td>2025-07-13T14:19:24.000Z</td><td>0</td><td>2025-07-13</td><td>14</td></tr><tr><td>ekr2nIex040</td><td>@อรัญญาฮาดดา-ห9พ</td><td>BOXING</td><td>2025-07-13T14:19:18.000Z</td><td>0</td><td>2025-07-13</td><td>14</td></tr><tr><td>ekr2nIex040</td><td>@อรัญญาฮาดดา-ห9พ</td><td>BADMINTON</td><td>2025-07-13T14:19:12.000Z</td><td>0</td><td>2025-07-13</td><td>14</td></tr><tr><td>ekr2nIex040</td><td>@อรัญญาฮาดดา-ห9พ</td><td>SNOOKER</td><td>2025-07-13T14:18:47.000Z</td><td>0</td><td>2025-07-13</td><td>14</td></tr><tr><td>ekr2nIex040</td><td>@อรัญญาฮาดดา-ห9พ</td><td>RACING</td><td>2025-07-13T14:18:03.000Z</td><td>0</td><td>2025-07-13</td><td>14</td></tr><tr><td>ekr2nIex040</td><td>@อรัญญาฮาดดา-ห9พ</td><td>GOLF</td><td>2025-07-13T14:17:55.000Z</td><td>0</td><td>2025-07-13</td><td>14</td></tr><tr><td>ekr2nIex040</td><td>@อรัญญาฮาดดา-ห9พ</td><td>TENNIS</td><td>2025-07-13T14:17:48.000Z</td><td>0</td><td>2025-07-13</td><td>14</td></tr><tr><td>ekr2nIex040</td><td>@อรัญญาฮาดดา-ห9พ</td><td>FOOTBALL</td><td>2025-07-13T14:17:43.000Z</td><td>0</td><td>2025-07-13</td><td>14</td></tr><tr><td>ekr2nIex040</td><td>@อรัญญาฮาดดา-ห9พ</td><td>BIKEBMX</td><td>2025-07-13T14:17:37.000Z</td><td>0</td><td>2025-07-13</td><td>14</td></tr><tr><td>ekr2nIex040</td><td>@อรัญญาฮาดดา-ห9พ</td><td>RACING</td><td>2025-07-13T14:17:30.000Z</td><td>0</td><td>2025-07-13</td><td>14</td></tr><tr><td>ekr2nIex040</td><td>@FreyaEmmerson-q7h</td><td>amazing love this collab</td><td>2025-07-13T14:16:44.000Z</td><td>0</td><td>2025-07-13</td><td>14</td></tr><tr><td>ekr2nIex040</td><td>@AberteMariz</td><td>2B</td><td>2025-07-13T14:16:03.000Z</td><td>0</td><td>2025-07-13</td><td>14</td></tr><tr><td>ekr2nIex040</td><td>@LevysRST</td><td>Brazilian \n",
       "H</td><td>2025-07-13T14:15:04.000Z</td><td>0</td><td>2025-07-13</td><td>14</td></tr><tr><td>ekr2nIex040</td><td>@faisalmalik1147</td><td>Who is here after blackpink come back</td><td>2025-07-13T14:08:24.000Z</td><td>6</td><td>2025-07-13</td><td>14</td></tr><tr><td>ekr2nIex040</td><td>@firsttogojd</td><td>2B</td><td>2025-07-13T14:08:19.000Z</td><td>1</td><td>2025-07-13</td><td>14</td></tr><tr><td>ekr2nIex040</td><td>@firsttogojd</td><td>HIT</td><td>2025-07-13T14:08:10.000Z</td><td>0</td><td>2025-07-13</td><td>14</td></tr><tr><td>ekr2nIex040</td><td>@jojikanovi2688</td><td>THE KISS?  \uD83D\uDE02❤</td><td>2025-07-13T14:00:11.000Z</td><td>2</td><td>2025-07-13</td><td>14</td></tr><tr><td>ekr2nIex040</td><td>@BLACKPİNK2016JLRJ-BP</td><td>2 mr olur mu</td><td>2025-07-13T13:59:23.000Z</td><td>0</td><td>2025-07-13</td><td>13</td></tr><tr><td>ekr2nIex040</td><td>@NomboFF</td><td>Ing</td><td>2025-07-13T13:59:23.000Z</td><td>0</td><td>2025-07-13</td><td>13</td></tr><tr><td>ekr2nIex040</td><td>@wendyangeliacero4275</td><td>2025 anyone? <3</td><td>2025-07-13T13:59:09.000Z</td><td>2</td><td>2025-07-13</td><td>13</td></tr><tr><td>ekr2nIex040</td><td>@potaxio-rd4nu</td><td>APT APT APT!!!!</td><td>2025-07-13T13:44:15.000Z</td><td>1</td><td>2025-07-13</td><td>13</td></tr><tr><td>ekr2nIex040</td><td>@jenniferyaun5076</td><td>⚡⚡⚡⚡⚡⚡⚡⚡⚡⚡⚡⚡⚡⚡⚡⚡⚡⚡ yehey</td><td>2025-07-13T13:44:11.000Z</td><td>0</td><td>2025-07-13</td><td>13</td></tr><tr><td>ekr2nIex040</td><td>@LauraMorgan-p7t</td><td>Apt</td><td>2025-07-13T13:41:04.000Z</td><td>0</td><td>2025-07-13</td><td>13</td></tr><tr><td>ekr2nIex040</td><td>@MdMafoz-j5h</td><td>\uD83C\uDF89 good</td><td>2025-07-13T13:37:50.000Z</td><td>0</td><td>2025-07-13</td><td>13</td></tr><tr><td>ekr2nIex040</td><td>@feruzesanov1939</td><td>Zõr chiqibdib</td><td>2025-07-13T13:36:01.000Z</td><td>0</td><td>2025-07-13</td><td>13</td></tr><tr><td>ekr2nIex040</td><td>@mariaathanasiou4528</td><td>Η</td><td>2025-07-13T13:29:49.000Z</td><td>0</td><td>2025-07-13</td><td>13</td></tr><tr><td>ekr2nIex040</td><td>@MaruimMIR</td><td>\uD83D\uDD90</td><td>2025-07-13T13:22:16.000Z</td><td>1</td><td>2025-07-13</td><td>13</td></tr><tr><td>ekr2nIex040</td><td>@nthuong2566</td><td>nguyên nài khúc nào cũm hay</td><td>2025-07-13T13:17:55.000Z</td><td>0</td><td>2025-07-13</td><td>13</td></tr><tr><td>ekr2nIex040</td><td>@nthuong2566</td><td>vuii</td><td>2025-07-13T13:17:00.000Z</td><td>0</td><td>2025-07-13</td><td>13</td></tr><tr><td>ekr2nIex040</td><td>@nthuong2566</td><td>ghiềnn</td><td>2025-07-13T13:16:41.000Z</td><td>0</td><td>2025-07-13</td><td>13</td></tr></tbody></table></div>"
      ]
     },
     "metadata": {
      "application/vnd.databricks.v1+output": {
       "addedWidgets": {},
       "aggData": [],
       "aggError": "",
       "aggOverflow": false,
       "aggSchema": [],
       "aggSeriesLimitReached": false,
       "aggType": "",
       "arguments": {},
       "columnCustomDisplayInfos": {},
       "data": [
        [
         "RgKAFK5djSk",
         "@EvilenDossantos",
         "\uD83D\uDE2D",
         "2025-07-13T17:03:55.000Z",
         0,
         "2025-07-13",
         17
        ],
        [
         "RgKAFK5djSk",
         "@Ice-x4q4n",
         "See you again Ahmed ❤",
         "2025-07-13T17:03:02.000Z",
         0,
         "2025-07-13",
         17
        ],
        [
         "RgKAFK5djSk",
         "@alufasimuzonda6310",
         "\uD83D\uDE22\uD83D\uDE22\uD83D\uDE22\uD83D\uDE22 this pains who is with me in this song \uD83C\uDFB5 \uD83D\uDE2D \uD83D\uDE29 \uD83D\uDE2B  RIP to all our beloved ones \uD83D\uDC94 \uD83D\uDE22",
         "2025-07-13T17:02:51.000Z",
         0,
         "2025-07-13",
         17
        ],
        [
         "RgKAFK5djSk",
         "@Sam-g8t9j",
         "We miss u paul",
         "2025-07-13T16:50:29.000Z",
         1,
         "2025-07-13",
         16
        ],
        [
         "RgKAFK5djSk",
         "@babuvlogs8818",
         "Anyone in July 2025\uD83D\uDE05",
         "2025-07-13T16:50:08.000Z",
         0,
         "2025-07-13",
         16
        ],
        [
         "RgKAFK5djSk",
         "@selenavive4603",
         "Alguém em 2025?",
         "2025-07-13T16:48:27.000Z",
         0,
         "2025-07-13",
         16
        ],
        [
         "RgKAFK5djSk",
         "@hoangtucibidi",
         "R.I.P Diogo Jota \uD83D\uDD4A️\uD83C\uDDF5\uD83C\uDDF9",
         "2025-07-13T16:36:15.000Z",
         2,
         "2025-07-13",
         16
        ],
        [
         "RgKAFK5djSk",
         "@orishampdah1886",
         "❤",
         "2025-07-13T16:31:02.000Z",
         0,
         "2025-07-13",
         16
        ],
        [
         "RgKAFK5djSk",
         "@RivaldoEtienne-h4q8x",
         "R.i.p jota \uD83D\uDE07",
         "2025-07-13T16:20:22.000Z",
         0,
         "2025-07-13",
         16
        ],
        [
         "RgKAFK5djSk",
         "@KevenCosmo",
         "I love ❤❤❤❤you",
         "2025-07-13T16:06:58.000Z",
         0,
         "2025-07-13",
         16
        ],
        [
         "RgKAFK5djSk",
         "@BHN-h6c",
         "Diogo Jota\uD83D\uDE22\uD83D\uDD4A",
         "2025-07-13T15:47:17.000Z",
         2,
         "2025-07-13",
         15
        ],
        [
         "RgKAFK5djSk",
         "@OseaKapaiter",
         "Jota\uD83E\uDD7A❤\uD83E\uDD0D",
         "2025-07-13T15:45:23.000Z",
         0,
         "2025-07-13",
         15
        ],
        [
         "RgKAFK5djSk",
         "@IlohAyang-v8w",
         "For paul",
         "2025-07-13T15:41:30.000Z",
         0,
         "2025-07-13",
         15
        ],
        [
         "RgKAFK5djSk",
         "@wanderson1112morais",
         "Alguém em 2025",
         "2025-07-13T15:17:38.000Z",
         0,
         "2025-07-13",
         15
        ],
        [
         "RgKAFK5djSk",
         "@lifeofshy20",
         "See you again my best friend \uD83D\uDC10\uD83D\uDD4A️✨\uD83E\uDD40",
         "2025-07-13T15:17:25.000Z",
         0,
         "2025-07-13",
         15
        ],
        [
         "RgKAFK5djSk",
         "@NinjaJunior567",
         "See you again Andre Silva and Diogo Jota\uD83D\uDE2D✝️\uD83C\uDDF5\uD83C\uDDF9",
         "2025-07-13T15:12:33.000Z",
         0,
         "2025-07-13",
         15
        ],
        [
         "RgKAFK5djSk",
         "@skyhigh6089",
         "Let's face it, the song is legendary for the Charlie Puth chorus. The rap is forgettable.",
         "2025-07-13T15:10:16.000Z",
         0,
         "2025-07-13",
         15
        ],
        [
         "RgKAFK5djSk",
         "@RhadigerDanoninho",
         "To conhecendo uma mulher que Deus abençoe eu é ela \uD83E\uDD79",
         "2025-07-13T15:08:42.000Z",
         0,
         "2025-07-13",
         15
        ],
        [
         "RgKAFK5djSk",
         "@alisonbayliss735",
         "Yeah",
         "2025-07-13T14:59:33.000Z",
         0,
         "2025-07-13",
         14
        ],
        [
         "RgKAFK5djSk",
         "@RAJA_SHORTS_36",
         "Hii guys I'm from India \uD83C\uDDEE\uD83C\uDDF3\uD83C\uDDEE\uD83C\uDDF3\uD83C\uDDEE\uD83C\uDDF3\uD83C\uDDEE\uD83C\uDDF3\uD83C\uDDEE\uD83C\uDDF3\uD83C\uDDEE\uD83C\uDDF3\uD83C\uDDEE\uD83C\uDDF3\uD83C\uDDEE\uD83C\uDDF3\uD83C\uDDEE\uD83C\uDDF3\uD83C\uDDEE\uD83C\uDDF3\uD83C\uDDEE\uD83C\uDDF3\uD83C\uDDEE\uD83C\uDDF3\uD83C\uDDEE\uD83C\uDDF3\uD83C\uDDEE\uD83C\uDDF3\uD83C\uDDEE\uD83C\uDDF3\uD83C\uDDEE\uD83C\uDDF3",
         "2025-07-13T14:53:26.000Z",
         0,
         "2025-07-13",
         14
        ],
        [
         "RgKAFK5djSk",
         "@AUNGKO-cn2fr",
         "See you again",
         "2025-07-13T14:40:41.000Z",
         0,
         "2025-07-13",
         14
        ],
        [
         "RgKAFK5djSk",
         "@LakainduAnjanalakindu",
         "❤",
         "2025-07-13T14:19:01.000Z",
         0,
         "2025-07-13",
         14
        ],
        [
         "RgKAFK5djSk",
         "@Ashanef",
         "See you agian dile\uD83D\uDE22",
         "2025-07-13T14:16:24.000Z",
         1,
         "2025-07-13",
         14
        ],
        [
         "RgKAFK5djSk",
         "@jatikusumasihombing3152",
         "Hi guys \nI am from Indonesian",
         "2025-07-13T14:06:37.000Z",
         0,
         "2025-07-13",
         14
        ],
        [
         "RgKAFK5djSk",
         "@danalee2355",
         "this reminds me of when me and my dad used to drive in the car and play this song all the time memories were now 11 and 39",
         "2025-07-13T13:55:27.000Z",
         0,
         "2025-07-13",
         13
        ],
        [
         "RgKAFK5djSk",
         "@PRËMÃÑÃÑDÃ-r6m",
         "Full support for Wiz Khalifa❤\uD83D\uDE0A",
         "2025-07-13T13:39:56.000Z",
         1,
         "2025-07-13",
         13
        ],
        [
         "RgKAFK5djSk",
         "@PRËMÃÑÃÑDÃ-r6m",
         "Full support for Wiz Kalifa❤",
         "2025-07-13T13:39:01.000Z",
         0,
         "2025-07-13",
         13
        ],
        [
         "RgKAFK5djSk",
         "@pfog",
         "Paul Walker was my ultimate man crush. BJJ brown belt and was a straight gear head. Dude seemed humble and just like a the dude anybody would enjoy kickin’ it. Remember hearing of his passing and it still brings tears to my eyes to this day. 6B views tells makes me realize I’m not the only one that felt this way.",
         "2025-07-13T13:33:42.000Z",
         0,
         "2025-07-13",
         13
        ],
        [
         "RgKAFK5djSk",
         "@Keneid2007Masengesho",
         "\uD83D\uDE2D\uD83D\uDE2D\uD83D\uDE2D\uD83D\uDE2D\uD83D\uDE2D\uD83D\uDE2D\uD83D\uDE2D\uD83D\uDE2D\uD83D\uDE2D\uD83D\uDE2D\uD83D\uDE2D\uD83D\uDE2D\uD83D\uDE2D\uD83D\uDE2D\uD83D\uDE2D\uD83D\uDE2D\uD83D\uDE2D\uD83D\uDE2D\uD83D\uDE2D\uD83D\uDE2D\uD83D\uDE2D\uD83D\uDE2D\uD83D\uDE2D\uD83D\uDE2D\uD83D\uDE2D\uD83D\uDE2D\uD83D\uDE2D\uD83D\uDE2D\uD83D\uDE2D\uD83D\uDE2D\uD83D\uDE2D",
         "2025-07-13T13:26:59.000Z",
         0,
         "2025-07-13",
         13
        ],
        [
         "RgKAFK5djSk",
         "@MariaIone-h6o",
         "Melhor música que tem no mundo ❤❤\uD83D\uDE22\uD83D\uDE22❤",
         "2025-07-13T13:18:38.000Z",
         0,
         "2025-07-13",
         13
        ],
        [
         "RgKAFK5djSk",
         "@Tirox._zfr",
         "0:47 0:51 0:51 0:51 0:52 0:52 0:53 0:53 0:53 0:53 0:55 0:55 0:55 0:55 0:57 0:57 0:58 0:58 0:58 0:58 0:59 0:59 0:59 0:59 0:59 1:00 1:00 1:00 \uD83D\uDE22 Paul",
         "2025-07-13T13:17:24.000Z",
         0,
         "2025-07-13",
         13
        ],
        [
         "RgKAFK5djSk",
         "@Rabin_8",
         "See you again paul walker and diogo jota\uD83D\uDE22❤\nLove you forever ❤",
         "2025-07-13T13:16:48.000Z",
         0,
         "2025-07-13",
         13
        ],
        [
         "RgKAFK5djSk",
         "@Manjeshkumar-i1y",
         "Love you soug.  Massg",
         "2025-07-13T13:01:32.000Z",
         1,
         "2025-07-13",
         13
        ],
        [
         "RgKAFK5djSk",
         "@AlhajiMbah-w7d",
         "Another super star gone jota \uD83E\uDD7A",
         "2025-07-13T13:00:28.000Z",
         1,
         "2025-07-13",
         13
        ],
        [
         "RgKAFK5djSk",
         "@jayeshrore2307",
         "July 2025 \nPls Attendance Here",
         "2025-07-13T12:54:19.000Z",
         0,
         "2025-07-13",
         12
        ],
        [
         "RgKAFK5djSk",
         "@johnpaulhermida492",
         "17 years without paul walker we miss you RIP 1973-2013",
         "2025-07-13T12:50:57.000Z",
         0,
         "2025-07-13",
         12
        ],
        [
         "RgKAFK5djSk",
         "@SophieWalker-h6x",
         "Is be lo bay",
         "2025-07-13T12:50:24.000Z",
         0,
         "2025-07-13",
         12
        ],
        [
         "RgKAFK5djSk",
         "@Whisper-7-o4c",
         "Best song",
         "2025-07-13T12:46:06.000Z",
         1,
         "2025-07-13",
         12
        ],
        [
         "RgKAFK5djSk",
         "@MARCOSGomesdocanto",
         "\uD83D\uDE22\uD83D\uDE22\uD83D\uDE22❤",
         "2025-07-13T12:42:12.000Z",
         0,
         "2025-07-13",
         12
        ],
        [
         "RgKAFK5djSk",
         "@LeonardoMucci-s2m",
         "See you again",
         "2025-07-13T12:40:06.000Z",
         0,
         "2025-07-13",
         12
        ],
        [
         "RgKAFK5djSk",
         "@soulmate648",
         "From heaven ✨️",
         "2025-07-13T12:36:41.000Z",
         0,
         "2025-07-13",
         12
        ],
        [
         "RgKAFK5djSk",
         "@芦澤清隆恵",
         "素晴らしい曲に出会えました\uD83C\uDF40\n心癒されます❣️\nありがとうございます\uD83D\uDE0A\n3ヶ月前にGlobal  ATOMYと出会いました✨️\nそれからGlobal\uD83C\uDF40に興味を持つようになりました✨️✨️",
         "2025-07-13T12:32:37.000Z",
         0,
         "2025-07-13",
         12
        ],
        [
         "RgKAFK5djSk",
         "@Khimlal95",
         "2025 \uD83D\uDE2E Anyone?",
         "2025-07-13T12:26:59.000Z",
         4,
         "2025-07-13",
         12
        ],
        [
         "RgKAFK5djSk",
         "@pacewaras6929",
         "Rip diogo Jota \uD83D\uDE22",
         "2025-07-13T12:21:24.000Z",
         1,
         "2025-07-13",
         12
        ],
        [
         "RgKAFK5djSk",
         "@Roshanrana123-s1t",
         "Sad song",
         "2025-07-13T12:21:07.000Z",
         0,
         "2025-07-13",
         12
        ],
        [
         "RgKAFK5djSk",
         "@pacewaras6929",
         "13 juli 2025",
         "2025-07-13T12:20:31.000Z",
         0,
         "2025-07-13",
         12
        ],
        [
         "RgKAFK5djSk",
         "@Rahulvasavaa",
         "Kon-kon India \uD83C\uDDEE\uD83C\uDDF3se like Karen \n❤Dil Ko chhune wala song ❤",
         "2025-07-13T12:19:20.000Z",
         1,
         "2025-07-13",
         12
        ],
        [
         "RgKAFK5djSk",
         "@thanikaorawanchaikul4573",
         "Any one in 2025 ?",
         "2025-07-13T12:18:48.000Z",
         1,
         "2025-07-13",
         12
        ],
        [
         "RgKAFK5djSk",
         "@K4YL3B",
         "Rest in peace Diogo Jota, you will truly never walk alone...\n\nWe love you my guy, we will tell you all about it when we see you again. <3\n\n1997-2025",
         "2025-07-13T12:06:39.000Z",
         0,
         "2025-07-13",
         12
        ],
        [
         "RgKAFK5djSk",
         "@Deepshikha-rx5zp",
         "Diogo jota rip\uD83E\uDD7A",
         "2025-07-13T11:58:21.000Z",
         0,
         "2025-07-13",
         11
        ],
        [
         "RgKAFK5djSk",
         "@IbrahimChocoGana",
         "Rest in piece❤❤❤",
         "2025-07-13T11:48:05.000Z",
         1,
         "2025-07-13",
         11
        ],
        [
         "RgKAFK5djSk",
         "@AtlehangPhalane",
         "I love this song that I'm singing I love it I love it I love it it's just like I can't stop thinking listening to it bye it's just like the best thing that I ever had to because it's just like your members me of my friend who died❤❤❤",
         "2025-07-13T11:40:50.000Z",
         1,
         "2025-07-13",
         11
        ],
        [
         "RgKAFK5djSk",
         "@purplebacon-401",
         "Kobe",
         "2025-07-13T11:39:04.000Z",
         1,
         "2025-07-13",
         11
        ],
        [
         "RgKAFK5djSk",
         "@christianoooooo7",
         "This fukin song still touches my heart ❤️❤️",
         "2025-07-13T11:32:57.000Z",
         0,
         "2025-07-13",
         11
        ],
        [
         "RgKAFK5djSk",
         "@youtube_gmz",
         "3:16 best part \uD83D\uDE0E rip pual walker",
         "2025-07-13T11:27:17.000Z",
         0,
         "2025-07-13",
         11
        ],
        [
         "RgKAFK5djSk",
         "@山之口海斗",
         "これが10年前とは\uD83D\uDE22",
         "2025-07-13T11:23:03.000Z",
         0,
         "2025-07-13",
         11
        ],
        [
         "RgKAFK5djSk",
         "@yasinpro9522",
         "jos",
         "2025-07-13T11:02:40.000Z",
         0,
         "2025-07-13",
         11
        ],
        [
         "RgKAFK5djSk",
         "@ZinMyo-n5r",
         "Sea you again u.z.y.t\uD83D\uDE22",
         "2025-07-13T10:59:36.000Z",
         0,
         "2025-07-13",
         10
        ],
        [
         "RgKAFK5djSk",
         "@surenteran1631",
         "13/725 \uD83D\uDE22",
         "2025-07-13T10:58:31.000Z",
         0,
         "2025-07-13",
         10
        ],
        [
         "RgKAFK5djSk",
         "@izzykidyt6394",
         "who watch this video on 2025?",
         "2025-07-13T10:55:15.000Z",
         3,
         "2025-07-13",
         10
        ],
        [
         "RgKAFK5djSk",
         "@PkKumarasiri",
         "❤❤ Forever Paul Walker  \uD83D\uDD4A",
         "2025-07-13T10:40:23.000Z",
         0,
         "2025-07-13",
         10
        ],
        [
         "RgKAFK5djSk",
         "@norbilmaxamed3888",
         "RIP see you again Diogo jota he based away in before 9 days\uD83D\uDE22",
         "2025-07-13T10:39:06.000Z",
         0,
         "2025-07-13",
         10
        ],
        [
         "RgKAFK5djSk",
         "@GauravGc-d9p",
         "Anyone from Nepal?",
         "2025-07-13T10:17:33.000Z",
         0,
         "2025-07-13",
         10
        ],
        [
         "RgKAFK5djSk",
         "@jayshriramjayshriram_99",
         "jab milenge dobara\uD83D\uDE02",
         "2025-07-13T10:04:22.000Z",
         0,
         "2025-07-13",
         10
        ],
        [
         "RgKAFK5djSk",
         "@AnnyHahan",
         "My old teacher  and my best friend  see you again",
         "2025-07-13T10:02:02.000Z",
         0,
         "2025-07-13",
         10
        ],
        [
         "RgKAFK5djSk",
         "@Suparji03-w6t",
         "I came here to remember Paul Walker, Diogo Jota, and Andre Silva. May they rest in peace. \uD83D\uDE22\uD83E\uDD79",
         "2025-07-13T09:57:48.000Z",
         0,
         "2025-07-13",
         9
        ],
        [
         "RgKAFK5djSk",
         "@AdikiCidijua",
         "See you Again ajano\uD83D\uDE22",
         "2025-07-13T09:55:52.000Z",
         0,
         "2025-07-13",
         9
        ],
        [
         "RgKAFK5djSk",
         "@bhagirtom",
         "anyonye 2025",
         "2025-07-13T09:54:30.000Z",
         1,
         "2025-07-13",
         9
        ],
        [
         "RgKAFK5djSk",
         "@GeorgeJovin-y3w",
         "R.l.P Diogo jota",
         "2025-07-13T09:52:10.000Z",
         0,
         "2025-07-13",
         9
        ],
        [
         "RgKAFK5djSk",
         "@Jacobzz14",
         "R.I.P Diogo Jota we will miss you with this song in mind",
         "2025-07-13T09:51:09.000Z",
         0,
         "2025-07-13",
         9
        ],
        [
         "RgKAFK5djSk",
         "@AbuIsidro-ko5sm",
         "See you again my father and Mother \uD83D\uDE22\uD83C\uDDF2\uD83C\uDDFF",
         "2025-07-13T09:39:48.000Z",
         0,
         "2025-07-13",
         9
        ],
        [
         "RgKAFK5djSk",
         "@Antsuli05",
         "❤\uD83C\uDDEB\uD83C\uDDEE",
         "2025-07-13T09:38:58.000Z",
         0,
         "2025-07-13",
         9
        ],
        [
         "RgKAFK5djSk",
         "@Fynn-y8v",
         "[__€^*>__]",
         "2025-07-13T09:35:12.000Z",
         0,
         "2025-07-13",
         9
        ],
        [
         "RgKAFK5djSk",
         "@User9472-l4k",
         "La familia es primero \uD83E\uDD75\uD83D\uDE0E\uD83D\uDDFF\uD83D\uDD25\uD83D\uDD25\uD83D\uDCAF",
         "2025-07-13T09:33:27.000Z",
         0,
         "2025-07-13",
         9
        ],
        [
         "RgKAFK5djSk",
         "@Nidalwas_4",
         "Not like being rude but is he married to Mia kalifah",
         "2025-07-13T09:10:22.000Z",
         0,
         "2025-07-13",
         9
        ],
        [
         "RgKAFK5djSk",
         "@SonawayinouCarmel",
         "Mes parents repose en paix ☮️ Diego jota \uD83D\uDE22\uD83D\uDE2D\uD83D\uDE2D",
         "2025-07-13T08:46:59.000Z",
         0,
         "2025-07-13",
         8
        ],
        [
         "RgKAFK5djSk",
         "@RCRaihan-l2y",
         "2025... \uD83E\uDD72\uD83E\uDEF6",
         "2025-07-13T08:45:15.000Z",
         0,
         "2025-07-13",
         8
        ],
        [
         "RgKAFK5djSk",
         "@dawidq7807",
         "[*]",
         "2025-07-13T08:31:30.000Z",
         0,
         "2025-07-13",
         8
        ],
        [
         "RgKAFK5djSk",
         "@ElaSafitri-t5t",
         "Anyone in july 2025 ❤",
         "2025-07-13T08:11:59.000Z",
         1,
         "2025-07-13",
         8
        ],
        [
         "RgKAFK5djSk",
         "@ajaythakur1785",
         "Se you again ❤❤❤",
         "2025-07-13T08:10:26.000Z",
         0,
         "2025-07-13",
         8
        ],
        [
         "RgKAFK5djSk",
         "@MagmaAka",
         "Rest in peace Diogo jota\uD83C\uDDF5\uD83C\uDDF9\uD83D\uDD4A",
         "2025-07-13T07:37:15.000Z",
         0,
         "2025-07-13",
         7
        ],
        [
         "RgKAFK5djSk",
         "@kajalbaruah2637",
         "Anyone Here July \uD83D\uDE0C❤️\uD83E\uDDFF✨️",
         "2025-07-13T06:55:08.000Z",
         3,
         "2025-07-13",
         6
        ],
        [
         "RgKAFK5djSk",
         "@JoseEduardoZavalaRomero",
         "Paul And Diogo \uD83C\uDDFA\uD83C\uDDF2\uD83E\uDD1D\uD83C\uDFFB\uD83C\uDDF5\uD83C\uDDF9 Together In Heaven And Always Never Gets Old Before 2026❤️\uD83C\uDF8A\uD83C\uDDF2\uD83C\uDDFD❤️\uD83C\uDF8A\uD83C\uDDFA\uD83C\uDDF2\nBefore The World Cup",
         "2025-07-13T06:48:18.000Z",
         2,
         "2025-07-13",
         6
        ],
        [
         "RgKAFK5djSk",
         "@Aik-sy9zo",
         "2025 Who is listening?\uD83C\uDF89\uD83C\uDF89\uD83C\uDF89",
         "2025-07-13T06:24:22.000Z",
         4,
         "2025-07-13",
         6
        ],
        [
         "RgKAFK5djSk",
         "@mahudeleon8806",
         "Paul",
         "2025-07-13T06:20:47.000Z",
         0,
         "2025-07-13",
         6
        ],
        [
         "RgKAFK5djSk",
         "@MayamikoMasangano-g4z",
         "And diego",
         "2025-07-13T06:09:39.000Z",
         0,
         "2025-07-13",
         6
        ],
        [
         "RgKAFK5djSk",
         "@MayamikoMasangano-g4z",
         "Rip Paul walker",
         "2025-07-13T06:09:27.000Z",
         0,
         "2025-07-13",
         6
        ],
        [
         "RgKAFK5djSk",
         "@SarojBc-61690",
         "Rip dogo jota RIP \uD83D\uDE22⚰⚰\uD83E\uDD7A\uD83E\uDD7A\uD83E\uDD7A\uD83D\uDC94\uD83D\uDC94\uD83D\uDC94\uD83D\uDC94\uD83D\uDC94\uD83D\uDC94\uD83D\uDC94",
         "2025-07-13T06:08:10.000Z",
         0,
         "2025-07-13",
         6
        ],
        [
         "RgKAFK5djSk",
         "@Elza-m9x",
         "i’ll always be here for him no matter where the future has for us\uD83E\uDD79\uD83E\uDD79’23\uD83D\uDC9B\uD83E\uDD0E\uD83D\uDC9B\uD83E\uDD0E\uD83D\uDE4F\uD83D\uDE4F!!",
         "2025-07-13T06:04:41.000Z",
         0,
         "2025-07-13",
         6
        ],
        [
         "RgKAFK5djSk",
         "@TanjibTarek-c8y",
         "Diago jota miss you \uD83D\uDE22\uD83D\uDE22\uD83D\uDE22\uD83C\uDDE7\uD83C\uDDE9",
         "2025-07-13T05:50:37.000Z",
         0,
         "2025-07-13",
         5
        ],
        [
         "RgKAFK5djSk",
         "@LuisTorres-t9w",
         "Hey\uD83D\uDE22",
         "2025-07-13T05:46:43.000Z",
         0,
         "2025-07-13",
         5
        ],
        [
         "RgKAFK5djSk",
         "@Mark1986",
         "Paul \uD83D\uDE4F\uD83D\uDE22",
         "2025-07-13T05:43:58.000Z",
         0,
         "2025-07-13",
         5
        ],
        [
         "RgKAFK5djSk",
         "@maduradileesha7058",
         "2025 any one.",
         "2025-07-13T05:36:59.000Z",
         0,
         "2025-07-13",
         5
        ],
        [
         "RgKAFK5djSk",
         "@abir_the_stormBorn33",
         "Anyone here from 2035? ✨\uD83D\uDDA4",
         "2025-07-13T05:24:47.000Z",
         0,
         "2025-07-13",
         5
        ],
        [
         "RgKAFK5djSk",
         "@DaRealAntGotti",
         "Wiz helps P.Walk live on 4ever!!!\uD83D\uDCAF\uD83D\uDC4D\uD83C\uDFFD\uD83D\uDE4F\uD83C\uDFFC",
         "2025-07-13T05:18:37.000Z",
         1,
         "2025-07-13",
         5
        ],
        [
         "RgKAFK5djSk",
         "@lazzyut",
         "ISOLAAAAAAAADOOOOOS",
         "2025-07-13T05:01:15.000Z",
         0,
         "2025-07-13",
         5
        ],
        [
         "RgKAFK5djSk",
         "@ThịĐiềnNguyễn-n3q4n",
         "Seeyouagain ban",
         "2025-07-13T04:43:22.000Z",
         0,
         "2025-07-13",
         4
        ],
        [
         "RgKAFK5djSk",
         "@Jouns_life",
         "Pour tout ceux partis très tôt \nOn pense à vous\uD83D\uDE4F\uD83C\uDFFD",
         "2025-07-13T04:41:37.000Z",
         0,
         "2025-07-13",
         4
        ],
        [
         "RgKAFK5djSk",
         "@Talhaezlen",
         "\"Even though you're no longer here,\na part of you still lives in every quiet moment I feel.\nI don’t hate you — I just miss you in silence.\"",
         "2025-07-13T04:15:30.000Z",
         0,
         "2025-07-13",
         4
        ],
        [
         "RgKAFK5djSk",
         "@azraqeyra2866",
         "nangis bangettttt",
         "2025-07-13T03:56:42.000Z",
         0,
         "2025-07-13",
         3
        ],
        [
         "X1Fqn9du7xo",
         "@fernandobunguele2018",
         "Moçambique 2025 toco muito essa música na Radio",
         "2025-07-13T16:39:37.000Z",
         0,
         "2025-07-13",
         16
        ],
        [
         "X1Fqn9du7xo",
         "@mattsantiago6714",
         "2025 \uD83E\uDD73",
         "2025-07-13T09:24:31.000Z",
         2,
         "2025-07-13",
         9
        ],
        [
         "X1Fqn9du7xo",
         "@SooHaaacked",
         "Who came from key of awesome parody \uD83D\uDE02\uD83D\uDE02",
         "2025-07-13T07:44:08.000Z",
         2,
         "2025-07-13",
         7
        ],
        [
         "X1Fqn9du7xo",
         "@aishaamrenova7351",
         "\uD83E\uDEF6\uD83E\uDEF6\uD83E\uDEF6 2025",
         "2025-07-12T20:22:05.000Z",
         1,
         "2025-07-12",
         20
        ],
        [
         "X1Fqn9du7xo",
         "@anapatterson8301",
         "❤",
         "2025-07-12T16:08:59.000Z",
         2,
         "2025-07-12",
         16
        ],
        [
         "X1Fqn9du7xo",
         "@LordHakier",
         "He’s solo career sucks but hes a great volalist. He made more cucess in Europe with his pop efforts .. still had some great covers ..",
         "2025-07-12T08:51:23.000Z",
         1,
         "2025-07-12",
         8
        ],
        [
         "X1Fqn9du7xo",
         "@HulkHogan-x8l",
         "\uD83D\uDE0A",
         "2025-07-12T08:18:23.000Z",
         0,
         "2025-07-12",
         8
        ],
        [
         "X1Fqn9du7xo",
         "@brittanyc4241",
         "i love his style now but i loved his emo style back then !!",
         "2025-07-12T07:49:11.000Z",
         1,
         "2025-07-12",
         7
        ],
        [
         "X1Fqn9du7xo",
         "@brandymiller4904",
         "God i am 27 and I have not heard this song i 10 years and yes he is my idol",
         "2025-07-12T03:03:03.000Z",
         1,
         "2025-07-12",
         3
        ],
        [
         "X1Fqn9du7xo",
         "@ChristineNewton-u5j",
         "Love to Ivy",
         "2025-07-11T16:25:25.000Z",
         1,
         "2025-07-11",
         16
        ],
        [
         "X1Fqn9du7xo",
         "@ChristineNewton-u5j",
         "Save everyone's life if we all singing from the same page of Lyrics!",
         "2025-07-11T16:24:10.000Z",
         1,
         "2025-07-11",
         16
        ],
        [
         "X1Fqn9du7xo",
         "@ChristineNewton-u5j",
         "Money is the route of EVERY Evil",
         "2025-07-11T16:23:23.000Z",
         1,
         "2025-07-11",
         16
        ],
        [
         "X1Fqn9du7xo",
         "@ChristineNewton-u5j",
         "Much love to Mitchell even tho I don't approve of most he gets up to.",
         "2025-07-11T16:22:40.000Z",
         1,
         "2025-07-11",
         16
        ],
        [
         "X1Fqn9du7xo",
         "@deoncuba2305",
         "\uD83D\uDE0E\uD83D\uDC492025ADAM LAMBERT IS AWESOME\uD83C\uDF89..HIS VOICE ALWAYS GETS ME PUMPED UP..THIS GUY'S VOICE IS INCREDIBLE JUST BEAUTIFULLY POWERFUL I LOVE THIS SONG\uD83E\uDD0E\uD83C\uDF39\uD83D\uDC4F",
         "2025-07-11T01:59:58.000Z",
         1,
         "2025-07-11",
         1
        ],
        [
         "X1Fqn9du7xo",
         "@deoncuba2305",
         "\uD83D\uDE0E\uD83D\uDC492025ADAM LAMBERT IS AWESOME\uD83C\uDF89..HIS VOICE ALWAYS GETS ME PUMPED UP..THIS GUY'S VOICE IS INCREDIBLE JUST BEAUTIFULLY POWERFUL I LOVE THIS SONG\uD83E\uDD0E\uD83C\uDF39\uD83D\uDC4F",
         "2025-07-11T01:59:44.000Z",
         1,
         "2025-07-11",
         1
        ],
        [
         "X1Fqn9du7xo",
         "@RopertPenuela",
         "I liked this song but he's gay now",
         "2025-07-10T15:38:17.000Z",
         2,
         "2025-07-10",
         15
        ],
        [
         "X1Fqn9du7xo",
         "@Skydeeppearls",
         "First time after long time, 2025 ✌️\uD83D\uDCAF",
         "2025-07-10T14:34:00.000Z",
         1,
         "2025-07-10",
         14
        ],
        [
         "X1Fqn9du7xo",
         "@egoist36",
         "This is a masterpice of 2010's music video.",
         "2025-07-09T23:22:53.000Z",
         1,
         "2025-07-09",
         23
        ],
        [
         "X1Fqn9du7xo",
         "@mattcorcoran1397",
         "The fact this was Pink's song and she gave it to him.. She knew.. \uD83D\uDD25\uD83D\uDD25.. 13..",
         "2025-07-09T22:43:38.000Z",
         3,
         "2025-07-09",
         22
        ],
        [
         "X1Fqn9du7xo",
         "@JenniferHollyCole",
         "Love❤️ this! Great video!\uD83D\uDE0E\uD83D\uDC4D",
         "2025-07-09T21:51:20.000Z",
         1,
         "2025-07-09",
         21
        ],
        [
         "X1Fqn9du7xo",
         "@GabrielaBonska-Sosnicka-pn5cx",
         "❤\uD83E\uDDF8",
         "2025-07-09T17:18:29.000Z",
         1,
         "2025-07-09",
         17
        ],
        [
         "X1Fqn9du7xo",
         "@LiaDe-y1o",
         "Adam is gorgeous",
         "2025-07-09T16:27:48.000Z",
         1,
         "2025-07-09",
         16
        ],
        [
         "X1Fqn9du7xo",
         "@lenamusina4386",
         "No one will touch me anymore until the end of my death!\uD83D\uDC80☠️\uD83D\uDCAF\uD83D\uDCA5\uD83D\uDDA4\uD83D\uDC8BAdam, you understand me!",
         "2025-07-09T13:44:25.000Z",
         2,
         "2025-07-09",
         13
        ],
        [
         "X1Fqn9du7xo",
         "@TimBoy-w3e7h",
         "Mussss",
         "2025-07-09T02:59:56.000Z",
         1,
         "2025-07-09",
         2
        ],
        [
         "X1Fqn9du7xo",
         "@FaithMazivanhanga-q2e",
         "It's now 15 years but this song will always be my favourite❤❤❤",
         "2025-07-08T17:51:54.000Z",
         1,
         "2025-07-08",
         17
        ],
        [
         "X1Fqn9du7xo",
         "@QUARTERJACKmusic",
         "Crazy that P!nk passed on this song..he killed it",
         "2025-07-08T05:41:48.000Z",
         1,
         "2025-07-08",
         5
        ],
        [
         "X1Fqn9du7xo",
         "@Seby-d6w",
         "❤❤❤",
         "2025-07-07T11:58:46.000Z",
         1,
         "2025-07-07",
         11
        ],
        [
         "X1Fqn9du7xo",
         "@еленасапожникова-х8р",
         "Pictures... . Q... .",
         "2025-07-07T07:48:12.000Z",
         1,
         "2025-07-07",
         7
        ],
        [
         "X1Fqn9du7xo",
         "@منوعاتيوتيوبرية-س1م",
         "لينا الامورة \uD83D\uDE22",
         "2025-07-07T02:28:47.000Z",
         1,
         "2025-07-07",
         2
        ],
        [
         "X1Fqn9du7xo",
         "@aminasiahmed8455",
         "This song need to hit the 1Md views \uD83D\uDE22\uD83D\uDE22",
         "2025-07-07T00:58:47.000Z",
         2,
         "2025-07-07",
         0
        ],
        [
         "X1Fqn9du7xo",
         "@AnasAbbas-uj6dw",
         "Aged like fine wine",
         "2025-07-05T22:15:39.000Z",
         1,
         "2025-07-05",
         22
        ],
        [
         "X1Fqn9du7xo",
         "@CultureofMusic.-2",
         "Still2025\uD83D\uDE0D",
         "2025-07-05T21:17:55.000Z",
         1,
         "2025-07-05",
         21
        ],
        [
         "X1Fqn9du7xo",
         "@Shel-o4l",
         "this song forever has a special place in my heart. miss the young Adam and the good old days~\uD83D\uDC99\uD83D\uDDA4",
         "2025-07-05T14:19:29.000Z",
         6,
         "2025-07-05",
         14
        ],
        [
         "X1Fqn9du7xo",
         "@BafanaSibolake",
         "Am working it owt\uD83D\uDE0A",
         "2025-07-05T10:43:21.000Z",
         2,
         "2025-07-05",
         10
        ],
        [
         "X1Fqn9du7xo",
         "@gamezie3734",
         "Tax inspection: Good morning. \nAdam: Whataya Want from Me?!",
         "2025-07-05T08:40:05.000Z",
         4,
         "2025-07-05",
         8
        ],
        [
         "X1Fqn9du7xo",
         "@codilawrence9721",
         "I wouldn’t even try but I think you could save my liiiiiiiiife \uD83D\uDE29",
         "2025-07-05T03:35:31.000Z",
         3,
         "2025-07-05",
         3
        ],
        [
         "X1Fqn9du7xo",
         "@futurenostalgiatv3305",
         "July 5, 2025 \uD83E\uDD1A",
         "2025-07-05T02:03:25.000Z",
         1,
         "2025-07-05",
         2
        ],
        [
         "X1Fqn9du7xo",
         "@SathyaSharvan-eh3gw",
         "Adam voice ❤",
         "2025-07-04T17:30:00.000Z",
         1,
         "2025-07-04",
         17
        ],
        [
         "X1Fqn9du7xo",
         "@purplezen4261",
         "July 3 2025 -  fireworks!",
         "2025-07-04T02:37:18.000Z",
         2,
         "2025-07-04",
         2
        ],
        [
         "X1Fqn9du7xo",
         "@shaniawiggs7171",
         "❤❤❤❤",
         "2025-07-03T22:58:40.000Z",
         1,
         "2025-07-03",
         22
        ],
        [
         "X1Fqn9du7xo",
         "@tumelomolefe3329",
         "I miss my college days friend Moorosi\uD83D\uDE22",
         "2025-07-02T13:55:47.000Z",
         1,
         "2025-07-02",
         13
        ],
        [
         "X1Fqn9du7xo",
         "@Miriam.B.Borges",
         "Anyone here for this masterpiece?",
         "2025-07-02T12:20:19.000Z",
         3,
         "2025-07-02",
         12
        ],
        [
         "X1Fqn9du7xo",
         "@Amy_11163",
         "Any concerts of this artist in the USA? I wanna go",
         "2025-07-02T04:38:13.000Z",
         2,
         "2025-07-02",
         4
        ],
        [
         "X1Fqn9du7xo",
         "@elistanley89",
         "calming",
         "2025-07-01T09:03:28.000Z",
         1,
         "2025-07-01",
         9
        ],
        [
         "X1Fqn9du7xo",
         "@MasequaCollier",
         "Life",
         "2025-07-01T04:40:24.000Z",
         1,
         "2025-07-01",
         4
        ],
        [
         "X1Fqn9du7xo",
         "@madaradefender8008",
         "Still searching on july 2025 ;))",
         "2025-07-01T03:37:05.000Z",
         1,
         "2025-07-01",
         3
        ],
        [
         "X1Fqn9du7xo",
         "@ernestonovele8602",
         "2025",
         "2025-06-30T18:45:07.000Z",
         1,
         "2025-06-30",
         18
        ],
        [
         "X1Fqn9du7xo",
         "@bingbird77",
         "To Teal Swan, Madonna, and Kristina.  Marines don't like to get pegged.",
         "2025-06-30T14:29:14.000Z",
         1,
         "2025-06-30",
         14
        ],
        [
         "X1Fqn9du7xo",
         "@daraesentertainment7346",
         "99fm favorite jam..",
         "2025-06-30T13:01:05.000Z",
         1,
         "2025-06-30",
         13
        ],
        [
         "X1Fqn9du7xo",
         "@XianSparda",
         "i dont like it tobe sasuke",
         "2025-06-30T10:59:42.000Z",
         1,
         "2025-06-30",
         10
        ],
        [
         "X1Fqn9du7xo",
         "@XianSparda",
         "hello",
         "2025-06-30T10:59:31.000Z",
         1,
         "2025-06-30",
         10
        ],
        [
         "X1Fqn9du7xo",
         "@ImanTahaAtallah",
         "My childhood ❤",
         "2025-06-29T19:18:10.000Z",
         2,
         "2025-06-29",
         19
        ],
        [
         "X1Fqn9du7xo",
         "@JumanSamsung",
         "\uD83D\uDE22\uD83D\uDE22\uD83D\uDE22\uD83D\uDE22\uD83D\uDE22\uD83C\uDF89\uD83C\uDF89\uD83C\uDF89\uD83C\uDF89",
         "2025-06-29T14:56:09.000Z",
         1,
         "2025-06-29",
         14
        ],
        [
         "X1Fqn9du7xo",
         "@LilassHd-ev3md",
         "Stay on the ground",
         "2025-06-29T14:13:59.000Z",
         1,
         "2025-06-29",
         14
        ],
        [
         "X1Fqn9du7xo",
         "@juninhosampaio503",
         "This song brings me such a great inner peace!",
         "2025-06-29T02:37:38.000Z",
         1,
         "2025-06-29",
         2
        ],
        [
         "X1Fqn9du7xo",
         "@lifew-oscar",
         "Still listening, 29th June 2025 ❤",
         "2025-06-29T01:35:59.000Z",
         1,
         "2025-06-29",
         1
        ],
        [
         "X1Fqn9du7xo",
         "@blessingchamburuka3269",
         "I thought Pink sang this song.",
         "2025-06-29T01:14:35.000Z",
         1,
         "2025-06-29",
         1
        ],
        [
         "X1Fqn9du7xo",
         "@Michael-p5b6y",
         "Still 2026",
         "2025-06-29T00:57:38.000Z",
         1,
         "2025-06-29",
         0
        ],
        [
         "X1Fqn9du7xo",
         "@kateandersen2221",
         "This and a wide open desert!",
         "2025-06-28T22:29:03.000Z",
         1,
         "2025-06-28",
         22
        ],
        [
         "X1Fqn9du7xo",
         "@edsonnluiss",
         "150M ✔",
         "2025-06-28T19:41:26.000Z",
         1,
         "2025-06-28",
         19
        ],
        [
         "X1Fqn9du7xo",
         "@miganisan",
         "Nostalgia",
         "2025-06-28T19:20:03.000Z",
         1,
         "2025-06-28",
         19
        ],
        [
         "X1Fqn9du7xo",
         "@thesisterhoodhub",
         "He wants a relationship with you. Every life matters, and you are deeply loved by God. He cares for each of us—from the womb to the tomb. Life is fragile, and we’ve been given free will to choose between right and wrong—choices that impact not only us, but those around us, for better or worse.\n\nOne day, we will each give an account of our lives—our thoughts, actions, words, and motives. Who can stand before a holy and just God? Jesus came to save us from our sinful nature. He is the way, the truth, and the life. No one comes to the Father except through Him. He alone is the mediator between God and man—and only He can forgive sins.\n\nSin is knowing what’s right and choosing not to do it. It includes things like sexual immorality, idolatry, addiction, drunkenness, lying, hatred, and unforgiveness—anything that separates us from God. But the call to salvation is for everyone, regardless of your past, background, or identity. Jesus invites you to turn from sin and receive His free gift of salvation. It cannot be earned—salvation is by grace alone. Jesus paid the price for our sins on the cross to reconcile us to God.\n\nHe was crucified—nails through His hands and feet, a crown of thorns on His head—and He died for our sins. But on the third day, He rose from the dead. Jesus is alive! Now is the time to respond. Romans 10:9 says, “If you declare with your mouth, ‘Jesus is Lord,’ and believe in your heart that God raised Him from the dead, you will be saved.” It’s not just saying a prayer that saves—it’s real belief, repentance, and a surrendered heart.\n\nAsk God to forgive your sins. Turn from your old life and begin a new one, walking daily with Jesus. Ask the Holy Spirit to guide you. Read the Bible, obey it, and stay close to God in prayer—seeking His wisdom, strength, and direction.\n\nEmbrace this good news and pray:\n\n“Dear God, thank You for loving me. I confess that I have sinned against You. I believe that Jesus, Your Son, died on the cross for my sins and rose from the dead. Please forgive me. I confess that Jesus is my Lord and Savior. Thank You for the gift of eternal life. In Jesus’ name, Amen.”\n\nIt’s not just a prayer—it’s the surrender of your heart and life to Jesus that brings salvation. Now is the time. Step out of darkness and into His light. He’s waiting with open arms. Receive His love and His gift of eternal life today.",
         "2025-06-28T19:04:11.000Z",
         2,
         "2025-06-28",
         19
        ],
        [
         "X1Fqn9du7xo",
         "@Riyu-23",
         "1:47\"but i think you could save my life\"\nThese lyrics give one meaning in my life",
         "2025-06-28T17:38:29.000Z",
         10,
         "2025-06-28",
         17
        ],
        [
         "X1Fqn9du7xo",
         "@AlaynaBell-k2v7l",
         "wait…. is this song for emos only?",
         "2025-06-28T04:38:29.000Z",
         1,
         "2025-06-28",
         4
        ],
        [
         "X1Fqn9du7xo",
         "@skolopendrra08",
         "Просто Супер!\nОчень жаль, что сейчас конкурс Евровидение превратился в политику....., а этой песне  реально повезло успеть не коснуться всего этого....",
         "2025-06-28T01:26:37.000Z",
         1,
         "2025-06-28",
         1
        ],
        [
         "X1Fqn9du7xo",
         "@shives1866",
         "WWE fans might know this is the guy that married Alexa Bliss. lucky rascal",
         "2025-06-27T23:52:18.000Z",
         1,
         "2025-06-27",
         23
        ],
        [
         "X1Fqn9du7xo",
         "@shives1866",
         "I sing the chorus to my 5 year old daughter when she starts the dad dad dad. I'll hit her with a \"whata want from me\" but the whole song is so great for us . i just keep trying and hope she doesn't give up on me and she definitely saved my life",
         "2025-06-27T23:49:57.000Z",
         3,
         "2025-06-27",
         23
        ],
        [
         "X1Fqn9du7xo",
         "@Jacob_C_Jones",
         "I just randomly started singing this song at work damnnnn I miss this era\uD83D\uDE29❤️",
         "2025-06-27T22:22:39.000Z",
         2,
         "2025-06-27",
         22
        ],
        [
         "X1Fqn9du7xo",
         "@benlloyd3216",
         "Just GO AWAY!!!!",
         "2025-06-27T15:06:15.000Z",
         1,
         "2025-06-27",
         15
        ],
        [
         "X1Fqn9du7xo",
         "@goldenleaf1599",
         "\uD83D\uDE0D\uD83D\uDE0D\uD83D\uDE0D\uD83D\uDE0D\uD83D\uDE0D\uD83D\uDE0D\uD83D\uDE0D",
         "2025-06-27T08:29:35.000Z",
         2,
         "2025-06-27",
         8
        ],
        [
         "X1Fqn9du7xo",
         "@ElenaSorelle",
         "If you’ve ever felt not enough for someone, this song cuts deep. It’s the sound of trying your hardest, and still losing.",
         "2025-06-27T07:15:46.000Z",
         2,
         "2025-06-27",
         7
        ],
        [
         "X1Fqn9du7xo",
         "@lenamusina4386",
         "A war with Lambert.....we'll fight like dogs!\uD83D\uDE0A❤\uD83D\uDE02",
         "2025-06-26T12:47:01.000Z",
         2,
         "2025-06-26",
         12
        ],
        [
         "X1Fqn9du7xo",
         "@ridhoammarharahap5540",
         ":')\n\nAaaah... The good old Times. :') ❤\uD83D\uDCAF\n\nI've lost my right thumb couple years ago..\n\nOctober 13th. 2021. Ahahah...\n\nAnd also lost my beloved aunt, her brother, her younger brother, and also my uncle-in-law... :')\n\nEven not long ago, months back this year 2024, i've lost one of my closest older cousin... Due to some traffic accident.. :'(\n\nAhahah... Man.. If only..\n\nAaaah... I really miss the good old times... :') ❤\uD83D\uDCAF",
         "2025-06-26T05:19:23.000Z",
         3,
         "2025-06-26",
         5
        ],
        [
         "X1Fqn9du7xo",
         "@awanthi5950",
         "I came back! After so many years. To find this song! Adam Lambert had always been a favourite of mine",
         "2025-06-26T00:56:11.000Z",
         2,
         "2025-06-26",
         0
        ],
        [
         "X1Fqn9du7xo",
         "@Rin-ow3qn",
         "10 years later and I still know it word for word ❤",
         "2025-06-26T00:13:11.000Z",
         1,
         "2025-06-26",
         0
        ],
        [
         "X1Fqn9du7xo",
         "@carollaia",
         "2025 novamente ❤",
         "2025-06-25T22:41:16.000Z",
         1,
         "2025-06-25",
         22
        ],
        [
         "X1Fqn9du7xo",
         "@Anne24499",
         "Dude is actually fine as fk",
         "2025-06-24T15:51:36.000Z",
         3,
         "2025-06-24",
         15
        ],
        [
         "X1Fqn9du7xo",
         "@doubledoubleusmokymirror4d405",
         "I want nothing from others but the best four themselves",
         "2025-06-24T15:00:24.000Z",
         1,
         "2025-06-24",
         15
        ],
        [
         "X1Fqn9du7xo",
         "@farahrachid4603",
         "2025",
         "2025-06-24T12:24:26.000Z",
         1,
         "2025-06-24",
         12
        ],
        [
         "X1Fqn9du7xo",
         "@ballasvideo8431",
         "Omg, it's my favorite song❤❤❤❤❤❤❤❤❤❤\uD83D\uDE22\uD83D\uDE22\uD83D\uDE22remember  ex",
         "2025-06-24T11:23:38.000Z",
         1,
         "2025-06-24",
         11
        ],
        [
         "X1Fqn9du7xo",
         "@charlesvire7517",
         "\uD83C\uDF39\uD83C\uDF39\uD83C\uDF39",
         "2025-06-24T09:51:18.000Z",
         2,
         "2025-06-24",
         9
        ],
        [
         "X1Fqn9du7xo",
         "@cell_blackz",
         "I wont let u down\uD83C\uDF89\uD83C\uDF89\uD83C\uDF89",
         "2025-06-23T23:15:57.000Z",
         4,
         "2025-06-23",
         23
        ],
        [
         "X1Fqn9du7xo",
         "@spookynojutsu",
         "2025 anyone?",
         "2025-06-23T22:52:27.000Z",
         6,
         "2025-06-23",
         22
        ],
        [
         "X1Fqn9du7xo",
         "@kokophyo502",
         "Come back old Adam\uD83C\uDF89\uD83C\uDF89\uD83C\uDF89",
         "2025-06-23T21:59:49.000Z",
         5,
         "2025-06-23",
         21
        ],
        [
         "X1Fqn9du7xo",
         "@Thatbluegirl2003",
         "My grandma has to be the biggest fan of his that I've ever met and my grandma is currently 82 years old",
         "2025-06-23T21:49:16.000Z",
         1,
         "2025-06-23",
         21
        ],
        [
         "X1Fqn9du7xo",
         "@dianapalmeiraa",
         "2025 \uD83E\uDEF6\uD83C\uDFFB",
         "2025-06-23T19:20:38.000Z",
         2,
         "2025-06-23",
         19
        ],
        [
         "X1Fqn9du7xo",
         "@NiceMandarine",
         "stop! please!  im 27 and im still love him and that song",
         "2025-06-22T22:31:37.000Z",
         2,
         "2025-06-22",
         22
        ],
        [
         "X1Fqn9du7xo",
         "@ridasaadaoui2529",
         "2025 \uD83D\uDE22",
         "2025-06-22T16:56:14.000Z",
         2,
         "2025-06-22",
         16
        ],
        [
         "X1Fqn9du7xo",
         "@juliobraz7202",
         "I was just a teenager when this song first dropped. Now I’m 31, and it still hits me like a freight train.",
         "2025-06-22T04:51:17.000Z",
         6,
         "2025-06-22",
         4
        ],
        [
         "X1Fqn9du7xo",
         "@Randy-SupermegacyIvyson",
         "The Nostalgia\uD83D\uDE22❤ \uD83D\uDD25\uD83D\uDD25\uD83D\uDD25",
         "2025-06-22T01:51:33.000Z",
         1,
         "2025-06-22",
         1
        ],
        [
         "X1Fqn9du7xo",
         "@El_Danix_Experiencias",
         "❤02:19❤",
         "2025-06-22T00:42:57.000Z",
         1,
         "2025-06-22",
         0
        ],
        [
         "X1Fqn9du7xo",
         "@isabel_kyr",
         "Listening 2025❤❤❤❤❤",
         "2025-06-21T21:21:57.000Z",
         3,
         "2025-06-21",
         21
        ],
        [
         "X1Fqn9du7xo",
         "@Bejojo25",
         "19h58\nSam21juin25❤",
         "2025-06-21T18:55:58.000Z",
         1,
         "2025-06-21",
         18
        ],
        [
         "X1Fqn9du7xo",
         "@KatongoNganduMubanga",
         "Could listen to this song some 15 years ago",
         "2025-06-21T14:50:00.000Z",
         1,
         "2025-06-21",
         14
        ],
        [
         "X1Fqn9du7xo",
         "@zjebanyrekin",
         "<3",
         "2025-06-21T12:27:06.000Z",
         1,
         "2025-06-21",
         12
        ],
        [
         "X1Fqn9du7xo",
         "@crazyamericanredhead",
         "Yup",
         "2025-06-20T18:52:39.000Z",
         1,
         "2025-06-20",
         18
        ],
        [
         "X1Fqn9du7xo",
         "@marcusomowole7456",
         "i want some meth amphetamine \uD83E\uDD73\uD83E\uDD73\uD83E\uDD73 adam! LOL hahahaha",
         "2025-06-20T17:24:27.000Z",
         1,
         "2025-06-20",
         17
        ],
        [
         "X1Fqn9du7xo",
         "@dennylen1283",
         "listen to his every song everyday literally",
         "2025-06-19T20:13:25.000Z",
         1,
         "2025-06-19",
         20
        ],
        [
         "X1Fqn9du7xo",
         "@KadenLavallee-i3p",
         "I swear this guys song bin in my head since i was like 7\n\"\"Hey what you doing? What do u want? from me\"\"",
         "2025-06-19T19:50:10.000Z",
         4,
         "2025-06-19",
         19
        ],
        [
         "X1Fqn9du7xo",
         "@wailin4424",
         "2025 June",
         "2025-06-19T19:43:30.000Z",
         1,
         "2025-06-19",
         19
        ],
        [
         "ekr2nIex040",
         "@bolacha_extreme3461",
         "Porque eu achava que essa musica tinha mais de 10 anos? Ela deve parecer muito com uma que eu já ouvi e estou me enganando. Não é possível que essa musica foi lançada a 8 meses...",
         "2025-07-13T17:10:08.000Z",
         0,
         "2025-07-13",
         17
        ],
        [
         "ekr2nIex040",
         "@DevonMays-b1u",
         "1:18 Bro looked so happy after",
         "2025-07-13T17:07:58.000Z",
         0,
         "2025-07-13",
         17
        ],
        [
         "ekr2nIex040",
         "@rania-l0ve",
         "1.812B VIEWS\n16M LIKES\n18.5M FOLLOWERS\nKEEP STREAMING HERE AND ON SPOTIFY!!!",
         "2025-07-13T17:01:08.000Z",
         1,
         "2025-07-13",
         17
        ],
        [
         "ekr2nIex040",
         "@andresguadalupedelacruzarg577",
         "Hi❤❤❤❤",
         "2025-07-13T17:00:46.000Z",
         0,
         "2025-07-13",
         17
        ],
        [
         "ekr2nIex040",
         "@Amina-h7e6l",
         "\uD83C\uDFA4\uD83E\uDD70 Si",
         "2025-07-13T17:00:33.000Z",
         0,
         "2025-07-13",
         17
        ],
        [
         "ekr2nIex040",
         "@jeyoungpark911",
         "GANGNAM STYLE THEN \uD83C\uDF89\nAPT NOW \uD83C\uDF89\uD83C\uDF89\uD83C\uDF89",
         "2025-07-13T16:58:14.000Z",
         0,
         "2025-07-13",
         16
        ],
        [
         "ekr2nIex040",
         "@RinadAta",
         "Love you ❤",
         "2025-07-13T16:50:40.000Z",
         1,
         "2025-07-13",
         16
        ],
        [
         "ekr2nIex040",
         "@EsmelealemMeheretu",
         "APT❤❤❤❤❤❤❤\uD83D\uDE0A",
         "2025-07-13T16:41:57.000Z",
         4,
         "2025-07-13",
         16
        ],
        [
         "ekr2nIex040",
         "@BALU91a",
         "This is going to hit 2 Billion in 1 year ,  Crazy \uD83D\uDDA4\uD83D\uDC93",
         "2025-07-13T16:41:35.000Z",
         8,
         "2025-07-13",
         16
        ],
        [
         "ekr2nIex040",
         "@grimreaper2606",
         "She has a beautiful voice ❤",
         "2025-07-13T16:39:30.000Z",
         5,
         "2025-07-13",
         16
        ],
        [
         "ekr2nIex040",
         "@SrijitaDas-y5s",
         "Keep streaming guys, let's make it reach 2 billion!!!",
         "2025-07-13T16:32:15.000Z",
         3,
         "2025-07-13",
         16
        ],
        [
         "ekr2nIex040",
         "@skz_B3",
         "2b omg",
         "2025-07-13T16:25:32.000Z",
         2,
         "2025-07-13",
         16
        ],
        [
         "ekr2nIex040",
         "@JENJENJEN-12",
         "Don't you want me like i want you baby",
         "2025-07-13T16:21:08.000Z",
         3,
         "2025-07-13",
         16
        ],
        [
         "ekr2nIex040",
         "@ошдаеӡлзошҟ",
         "Que feoooo",
         "2025-07-13T16:19:42.000Z",
         0,
         "2025-07-13",
         16
        ],
        [
         "ekr2nIex040",
         "@matthewfeagin3609",
         "FROM FREE BIRDS (2013) THE WALKING DEAD MGM TOM AND JERRY PETER PAN FROM PUSS IN BOOTS (2011) TOY STORY 3 ICE AGE THE MELTDOWN GNOMEO AND JULIET FROM MISS SPIDER (2004) ICE AGE DAWN OF THE DINOSAURS MONSTERS INC END CREDITS FINDING NEMO FROM FREE BIRDS (2013) MEGAMIND MGM TOM AND JERRY FAMILY GUY FROM RIO (2011) CODENAME KIDS NEXT DOOR ICE AGE THE MELTDOWN ICE AGE A MAMMOTH CHRISTMAS KLASKY CSUPO MONSTERS UNIVERSITY MY SLURP JEOPARDY FROM FREE BIRDS (2013) RATATOUILLE MGM TOM AND JERRY GEICO PAWS LITTLE BABY BUM ICE AGE THE MELTDOWN UP THE PEANUTS MOVIE TANGLED MY SLURP THE GOONIES KUNG FU PANDA HOLIDAY SPECIAL ICE AGE THE MELTDOWN MGM TOM AND JERRY MADAGASCAR ESCAPE 2 AFRICA PAWS MONSTERS VS ALIENS ICE AGE THE MELTDOWN CARS FROM ICE AGE COLLISION COURSE (2016) MEET THE ROBINSONS FROM HOW TO TRAIN YOUR DRAGON (2010) SISTER WIVES KUNG FU PANDA 2 TRAILER ICE AGE CONTINENTAL DRIFT MGM TOM AND JERRY TOY STORY HAPPY FEET SLEEPING BEAUTY ICE AGE THE MELTDOWN BRAVE FROM ICE AGE COLLISION COURSE (2016) DC LEAGUE OF SUPER-PETS FROM CARS (2006) DC LEAGUE OF SUPER-PETS GNOMEO AND JULIET DC LEAGUE OF SUPER-PETS FROM SHARK TALE (2004) DC LEAGUE OF SUPER-PETS SESAME STREET DC LEAGUE OF SUPER-PETS MADAGASCAR DC LEAGUE OF SUPER-PETS RIO 2 DC LEAGUE OF SUPER-PETS MONSTERS VS ALIENS DC LEAGUE OF SUPER-PETS CARS DC LEAGUE OF SUPER-PETS MEET THE ROBINSONS DC LEAGUE OF SUPER-PETS SISTER WIVES DC LEAGUE OF SUPER-PETS FROM THE INCREDIBLES (2004) DC LEAGUE OF SUPER-PETS FUZZY DOOR PRODUCTIONS 20TH CENTURY FOX DC LEAGUE OF SUPER-PETS FILM ROMAN STARZ MEDIA 2010 DC LEAGUE OF SUPER-PETS FROM RANGO (2011) DC LEAGUE OF SUPER-PETS FROM SURF UP (2007) DC LEAGUE OF SUPER-PETS FROM PUSS IN BOOTS (2011) DC LEAGUE OF SUPER-PETS DUG SPECIAL MISSION DC LEAGUE OF SUPER-PETS UFM UNIDENTIFIED FLYING MATER DC LEAGUE OF SUPER-PETS FROM KUNG FU PANDA (2008) DC LEAGUE OF SUPER-PETS TOY STORY DC LEAGUE OF SUPER-PETS HEY DUGGEE DC LEAGUE OF SUPER-PETS FROM KUNG FU PANDA (2008) DC LEAGUE OF SUPER-PETS FROM RIO 2 (2014) DC LEAGUE OF SUPER-PETS SESAME STREET DC LEAGUE OF SUPER-PETS MY SLURP DC LEAGUE OF SUPER-PETS HOME DC LEAGUE OF SUPER-PETS DR FRIGHTUNE EEK TURNING RED ARTHUR TURNING RED FROM SURF UP (2007) TURNING RED MONSTERS VS ALIENS HBO TURNING RED FROM SECRETS OF THE FURIOUS FIVE (2008) TURNING RED DORA THE EXPLORER TURNING RED SECRETS OF THE FURIOUS FIVE TURNING RED RIO TURNING RED WARNER BROS ANIMATION TURNING RED THE INCREDIBLES FREEFORM TURNING RED FROM MONSTERS VS ALIENS (2009) TURNING RED THE INCREDIBLES ABC FAMILY TURNING RED SURF UP(2007) END CREDITS. TURNING RED SHARK TALE TURNING RED FROM OPEN SEASON 2 (2008) TURNING RED KUNG FU PANDA 2008 DISNEY XD TURNING RED MY SLURP TURNING RED FROM HOME (2015) TURNING RED THE WONDER PETS TURNING RED EEKSBUSCAMPERS TURNING RED FROM ICE AGE DAWN OF THE DINOSAURS (2009) TURNING RED GNOMEO AND JULIET TURNING RED MY SLURP TURNING RED HAPPY FEET TURNING RED SURF UP TRAILER TURNING RED PAWS TURNING RED FROM OPEN SEASON 2 (2008) TURNING RED COOKIE JAR WGBH TURNING RED CHUGGINGTON TURNING RED FROM THE SPONGEBOB SQUAREPANTS MOVIE (2004) TURNING RED FROM ICE AGE DAWN OF THE DINOSAURS (2009) TURNING RED CHICKEN LITTLE TURNING RED SUNNY BUNNIES BOO TURNING RED FROM FINDING NEMO (2003) TURNING RED MONSTERS INC END CREDITS TURNING RED FRANKLIN THEME SONG TURNING RED",
         "2025-07-13T16:17:31.000Z",
         0,
         "2025-07-13",
         16
        ],
        [
         "ekr2nIex040",
         "@RhafIlzidy",
         "❤❤❤❤\uD83D\uDE0A\uD83D\uDE0A❤❤\uD83D\uDE0A\uD83D\uDE2E",
         "2025-07-13T16:12:23.000Z",
         0,
         "2025-07-13",
         16
        ],
        [
         "ekr2nIex040",
         "@matthewfeagin3609",
         "FROM HOW TO TRAIN YOUR DRAGON (2010) KUNG FU PANDA KUNG FU PANDA 2 TRAILER RIO MGM TOM AND JERRY KUNG FU PANDA 3 HAPPY FEET PIXAR SHORT FILMS ICE AGE THE MELTDOWN THE PRINCESS AND THE FROG FROM ICE AGE COLLISION COURSE (2016) MADAGASCAR FROM CARS (2006) ICE AGE GNOMEO AND JULIET SHREK FOREVER AFTER FROM SHARK TALE (2004) THE INCREDIBLES SESAME STREET MONSTERS INC MADAGASCAR TOY STORY 2 RIO 2 DESPICABLE ME MONSTERS VS ALIENS THE PATRIOT CARS HOW TO TRAIN YOUR DRAGON MEET THE ROBINSONS KUNG FU PANDA 2 SISTER WIVES KUNG FU PANDA HOLIDAY SPECIAL FROM THE INCREDIBLES (2004) DISNEY PREP & LANDING FUZZY DOOR PRODUCTIONS 20TH CENTURY FOX SHARK TALE FILM ROMAN STARZ MEDIA 2010 THE LITTLE MERMAID FROM RANGO (2011) THE INCREDIBLES FROM SURF UP (2007) WALL-E FROM PUSS IN BOOTS (2011) THE WALKING DEAD DUG SPECIAL MISSION PETER PAN UFM UNIDENTIFIED FLYING MATER TOY STORY 3 FROM KUNG FU PANDA (2008) GNOMEO AND JULIET TOY STORY ICE AGE DAWN OF THE DINOSAURS HEY DUGGEE FINDING NEMO FROM KUNG FU PANDA (2008) MEGAMIND FROM RIO 2 (2014) FAMILY GUY SESAME STREET ICE AGE A MAMMOTH CHRISTMAS MY SLURP OVER THE HEDGE HOME MONSTERS UNIVERSITY DR FRIGHTUNE EEK JEOPARDY ARTHUR RATATOUILLE FROM SURF UP (2007) GEICO MONSTERS VS ALIENS HBO LITTLE BABY BUM FROM SECRETS OF THE FURIOUS FIVE (2008) UP DORA THE EXPLORER TANGLED SECRETS OF THE FURIOUS FIVE HOME ON THE RANGE RIO ICE AGE THE MELTDOWN WARNER BROS ANIMATION MADAGASCAR ESCAPE 2 AFRICA THE INCREDIBLES FREEFORM MONSTERS VS ALIENS FROM MONSTERS VS ALIENS (2009) CARS THE INCREDIBLES ABC FAMILY MEET THE ROBINSONS SURF UP(2007) END CREDITS. SISTER WIVES SHARK TALE ICE AGE CONTINENTAL DRIFT FROM OPEN SEASON 2 (2008) TOY STORY KUNG FU PANDA 2008 DISNEY XD GEICO INSURANCE MY SLURP BRAVE FROM HOME (2015) KUNG FU PANDA THE WONDER PETS RIO EEKSBUSCAMPERS KUNG FU PANDA 3 FROM ICE AGE DAWN OF THE DINOSAURS (2009) PIXAR SHORT FILMS GNOMEO AND JULIET THE PRINCESS AND THE FROG MY SLURP MADAGASCAR HAPPY FEET ICE AGE SURF UP TRAILER SHREK FOREVER AFTER PAWS THE INCREDIBLES FROM OPEN SEASON 2 (2008) MONSTERS INC COOKIE JAR WGBH TOY STORY 2 CHUGGINGTON DESPICABLE ME FROM THE SPONGEBOB SQUAREPANTS MOVIE (2004) TOM AND JERRY FROM ICE AGE DAWN OF THE DINOSAURS (2009) HOW TO TRAIN YOUR DRAGON CHICKEN LITTLE KUNG FU PANDA 2 SUNNY BUNNIES BOO AMERICA DAD FROM FINDING NEMO (2003) CARTOON NETWORK HARVEY MONSTERS INC END CREDITS SAVAGE STUDIOS LTD FRANKLIN THEME SONG CARTOON NETWORK DEXTER LABORATORY DR FRIGHTUNE EEK DEEPLE DOO FROM MADAGASCAR ESCAPE 2 AFRICA (2008) UNDERDOG PRODUCTIONS OPENING TO MADAGASCAR 3 EUROPE MOST WANTED 2012 DVD ICE AGE SMALL POTATOES PETER PAN MY SLURP TOY STORY 3 ICE AGE 2 TRAILER GNOMEO AND JULIET DR FRIGHTUNE EEK ICE AGE DAWN OF THE DINOSAURS CARS ENDING FINDING NEMO FREE BIRDS. MEGAMIND FROM RIO  (2011) MERRY MADAGASCAR MY SLURP ICE AGE A MAMMOTH CHRISTMAS THE LION GUARD BESTHE OVER THE HEDGE",
         "2025-07-13T16:10:46.000Z",
         0,
         "2025-07-13",
         16
        ],
        [
         "ekr2nIex040",
         "@treasuregama",
         "❤\uD83C\uDDFB\uD83C\uDDF3\uD83C\uDDFB\uD83C\uDDF3\uD83C\uDDF8\uD83C\uDDFF\uD83C\uDE35\uD83C\uDE39\uD83C\uDE34",
         "2025-07-13T16:10:20.000Z",
         0,
         "2025-07-13",
         16
        ],
        [
         "ekr2nIex040",
         "@szotlankima-w9j",
         "Can't believe it is already 8 months ago i swear my class was singing it yesterday but it was actually 8 months ago\uD83D\uDE2E",
         "2025-07-13T16:09:41.000Z",
         3,
         "2025-07-13",
         16
        ],
        [
         "ekr2nIex040",
         "@SamLioren",
         "Crazzy",
         "2025-07-13T16:01:04.000Z",
         3,
         "2025-07-13",
         16
        ],
        [
         "ekr2nIex040",
         "@Bacon_yahya",
         "Apt+arabe=\uD83C\uDF49",
         "2025-07-13T15:58:56.000Z",
         1,
         "2025-07-13",
         15
        ],
        [
         "ekr2nIex040",
         "@ArenSrapyan",
         "0:54",
         "2025-07-13T15:57:22.000Z",
         0,
         "2025-07-13",
         15
        ],
        [
         "ekr2nIex040",
         "@Glseries29",
         "1.8 billion in 8 months?? Crazyyyyy",
         "2025-07-13T15:56:41.000Z",
         4,
         "2025-07-13",
         15
        ],
        [
         "ekr2nIex040",
         "@Mliracle_rl",
         "다시는 나오지않을 최고의 가수..❤\uD83C\uDF39",
         "2025-07-13T15:53:49.000Z",
         4,
         "2025-07-13",
         15
        ],
        [
         "ekr2nIex040",
         "@darkomiloswvljevic7245",
         "i love this song!definrtly recomend it!!",
         "2025-07-13T15:52:22.000Z",
         3,
         "2025-07-13",
         15
        ],
        [
         "ekr2nIex040",
         "@Sadeem-t7k",
         "1B !!\n\n\nWowwwww",
         "2025-07-13T15:52:00.000Z",
         1,
         "2025-07-13",
         15
        ],
        [
         "ekr2nIex040",
         "@danielaferreira7230",
         "Me. Gusto\uD83D\uDE0A\uD83D\uDE0A",
         "2025-07-13T15:45:44.000Z",
         0,
         "2025-07-13",
         15
        ],
        [
         "ekr2nIex040",
         "@MariaLuiza-is2ro",
         "Nelson musica  do nundo",
         "2025-07-13T15:36:16.000Z",
         0,
         "2025-07-13",
         15
        ],
        [
         "ekr2nIex040",
         "@Seanfam147",
         "Anyone listening to this in July 2025?",
         "2025-07-13T15:35:50.000Z",
         3,
         "2025-07-13",
         15
        ],
        [
         "ekr2nIex040",
         "@DNikesh-t8z",
         "It's been 8 months but still can't get over this song!!!",
         "2025-07-13T15:35:21.000Z",
         0,
         "2025-07-13",
         15
        ],
        [
         "ekr2nIex040",
         "@rubabliyeva1483",
         "I love BLACK PINK",
         "2025-07-13T15:33:30.000Z",
         0,
         "2025-07-13",
         15
        ],
        [
         "ekr2nIex040",
         "@rubabliyeva1483",
         "I love Rośe❤",
         "2025-07-13T15:32:52.000Z",
         1,
         "2025-07-13",
         15
        ],
        [
         "ekr2nIex040",
         "@LEOF-k1s",
         "❤",
         "2025-07-13T15:27:50.000Z",
         0,
         "2025-07-13",
         15
        ],
        [
         "ekr2nIex040",
         "@JosiasClassic",
         "https://youtube.com/shorts/lmWkskk1Bt8?si=K2IOfQBSgxe4Ow_M",
         "2025-07-13T15:23:38.000Z",
         0,
         "2025-07-13",
         15
        ],
        [
         "ekr2nIex040",
         "@СергейБелый-ц8и",
         "2:52",
         "2025-07-13T15:22:12.000Z",
         1,
         "2025-07-13",
         15
        ],
        [
         "ekr2nIex040",
         "@monaliemonalie",
         "❤❤❤",
         "2025-07-13T15:20:19.000Z",
         1,
         "2025-07-13",
         15
        ],
        [
         "ekr2nIex040",
         "@alagesanramanathan4598",
         "Dude this has perfect middle school couple vibes and i love it",
         "2025-07-13T15:19:32.000Z",
         5,
         "2025-07-13",
         15
        ],
        [
         "ekr2nIex040",
         "@JulissaBotendo",
         "Luik\n❤❤❤❤❤❤❤❤❤❤❤❤ kus kus",
         "2025-07-13T15:16:14.000Z",
         0,
         "2025-07-13",
         15
        ],
        [
         "ekr2nIex040",
         "@prinsi2",
         "181.....❤❤",
         "2025-07-13T15:16:06.000Z",
         1,
         "2025-07-13",
         15
        ],
        [
         "ekr2nIex040",
         "@أيڤࢪين-7",
         "هذا كتبته الباࢪحة الفجࢪ، لذا توجد اخطأء املائية\uD83E\uDD8B",
         "2025-07-13T15:12:17.000Z",
         1,
         "2025-07-13",
         15
        ],
        [
         "ekr2nIex040",
         "@evaxd_fanıolmusumm",
         "1,8 Mr reaction.. \uD83D\uDE31\uD83D\uDE31",
         "2025-07-13T15:08:45.000Z",
         2,
         "2025-07-13",
         15
        ],
        [
         "ekr2nIex040",
         "@IolandaPereira-v9m",
         "\uD83D\uDE0A\uD83D\uDE0A\uD83D\uDE0A\uD83D\uDE0A\uD83D\uDE0A\uD83D\uDE0A\uD83D\uDE0A\uD83C\uDF89\uD83C\uDF89\uD83C\uDF89\uD83C\uDF89\uD83C\uDF89\uD83C\uDF89\uD83C\uDF89❤❤❤❤❤❤❤",
         "2025-07-13T15:06:06.000Z",
         0,
         "2025-07-13",
         15
        ],
        [
         "ekr2nIex040",
         "@shakeelrahmani1806",
         "Its 2 Billion congratulations \uD83D\uDC4F\uD83C\uDFFB BLINKS",
         "2025-07-13T15:05:07.000Z",
         2,
         "2025-07-13",
         15
        ],
        [
         "ekr2nIex040",
         "@RoxanaPerez-hp8xz",
         "Hi say something if u love apt ❤❤❤",
         "2025-07-13T15:01:35.000Z",
         1,
         "2025-07-13",
         15
        ],
        [
         "ekr2nIex040",
         "@KingofLondon261",
         "Love from Jalalabad \uD83C\uDDE6\uD83C\uDDEB i hope get 2 billion views \uD83C\uDDE6\uD83C\uDDEB\uD83C\uDDF0\uD83C\uDDF7",
         "2025-07-13T15:01:28.000Z",
         2,
         "2025-07-13",
         15
        ],
        [
         "ekr2nIex040",
         "@Jump_Deadline",
         "All you gotta do is just meet me at the",
         "2025-07-13T14:57:58.000Z",
         1,
         "2025-07-13",
         14
        ],
        [
         "ekr2nIex040",
         "@blink_army_129",
         "Let's go 2B??",
         "2025-07-13T14:50:56.000Z",
         0,
         "2025-07-13",
         14
        ],
        [
         "ekr2nIex040",
         "@Achmeat",
         "I’m telling you the real creator of this song — the guy lives in Turkey. @ahmet.yon",
         "2025-07-13T14:48:19.000Z",
         0,
         "2025-07-13",
         14
        ],
        [
         "ekr2nIex040",
         "@darshanadevi8297",
         "She looks like a angel ❤❤❤❤❤❤❤❤❤❤❤❤❤❤❤❤",
         "2025-07-13T14:48:13.000Z",
         0,
         "2025-07-13",
         14
        ],
        [
         "ekr2nIex040",
         "@ranjanasingla",
         "Your every song is perfect ❤",
         "2025-07-13T14:45:53.000Z",
         1,
         "2025-07-13",
         14
        ],
        [
         "ekr2nIex040",
         "@mokgethigugu864",
         "❤❤❤",
         "2025-07-13T14:43:56.000Z",
         0,
         "2025-07-13",
         14
        ],
        [
         "ekr2nIex040",
         "@KingofLondon261",
         "Let's go 2 billion \uD83C\uDDE6\uD83C\uDDEB\uD83C\uDDF0\uD83C\uDDF7",
         "2025-07-13T14:36:23.000Z",
         6,
         "2025-07-13",
         14
        ],
        [
         "ekr2nIex040",
         "@DraGlisflores",
         "Ay loveyu apt❤❤❤❤❤❤\uD83D\uDE0A",
         "2025-07-13T14:34:20.000Z",
         1,
         "2025-07-13",
         14
        ],
        [
         "ekr2nIex040",
         "@alianaparkk",
         "Let's get 2 billion views. \uD83C\uDF80",
         "2025-07-13T14:33:28.000Z",
         3,
         "2025-07-13",
         14
        ],
        [
         "ekr2nIex040",
         "@อรัญญาฮาดดา-ห9พ",
         "สปอร์ตแฟนSPORTFAN",
         "2025-07-13T14:24:17.000Z",
         0,
         "2025-07-13",
         14
        ],
        [
         "ekr2nIex040",
         "@Bilkis15",
         "APT all the way \uD83D\uDE0C✨",
         "2025-07-13T14:23:12.000Z",
         2,
         "2025-07-13",
         14
        ],
        [
         "ekr2nIex040",
         "@อรัญญาฮาดดา-ห9พ",
         "SPORTFAN",
         "2025-07-13T14:23:08.000Z",
         0,
         "2025-07-13",
         14
        ],
        [
         "ekr2nIex040",
         "@อรัญญาฮาดดา-ห9พ",
         "สปอร์ตแฟน",
         "2025-07-13T14:22:58.000Z",
         0,
         "2025-07-13",
         14
        ],
        [
         "ekr2nIex040",
         "@อรัญญาฮาดดา-ห9พ",
         "TAEKWONDO",
         "2025-07-13T14:21:38.000Z",
         0,
         "2025-07-13",
         14
        ],
        [
         "ekr2nIex040",
         "@อรัญญาฮาดดา-ห9พ",
         "BOWLING",
         "2025-07-13T14:21:30.000Z",
         0,
         "2025-07-13",
         14
        ],
        [
         "ekr2nIex040",
         "@อรัญญาฮาดดา-ห9พ",
         "BADMINTON",
         "2025-07-13T14:21:21.000Z",
         0,
         "2025-07-13",
         14
        ],
        [
         "ekr2nIex040",
         "@อรัญญาฮาดดา-ห9พ",
         "SANOOKER",
         "2025-07-13T14:21:15.000Z",
         0,
         "2025-07-13",
         14
        ],
        [
         "ekr2nIex040",
         "@อรัญญาฮาดดา-ห9พ",
         "BASKETBALL",
         "2025-07-13T14:21:06.000Z",
         0,
         "2025-07-13",
         14
        ],
        [
         "ekr2nIex040",
         "@อรัญญาฮาดดา-ห9พ",
         "GYMNASTICS",
         "2025-07-13T14:20:57.000Z",
         0,
         "2025-07-13",
         14
        ],
        [
         "ekr2nIex040",
         "@อรัญญาฮาดดา-ห9พ",
         "FOOTBALL",
         "2025-07-13T14:20:46.000Z",
         0,
         "2025-07-13",
         14
        ],
        [
         "ekr2nIex040",
         "@อรัญญาฮาดดา-ห9พ",
         "SWIMMING",
         "2025-07-13T14:20:33.000Z",
         0,
         "2025-07-13",
         14
        ],
        [
         "ekr2nIex040",
         "@อรัญญาฮาดดา-ห9พ",
         "VOLLEYBALL",
         "2025-07-13T14:20:06.000Z",
         0,
         "2025-07-13",
         14
        ],
        [
         "ekr2nIex040",
         "@อรัญญาฮาดดา-ห9พ",
         "BASKETBALL",
         "2025-07-13T14:19:53.000Z",
         0,
         "2025-07-13",
         14
        ],
        [
         "ekr2nIex040",
         "@อรัญญาฮาดดา-ห9พ",
         "MOTOCROSS",
         "2025-07-13T14:19:43.000Z",
         0,
         "2025-07-13",
         14
        ],
        [
         "ekr2nIex040",
         "@อรัญญาฮาดดา-ห9พ",
         "JETSKI",
         "2025-07-13T14:19:32.000Z",
         0,
         "2025-07-13",
         14
        ],
        [
         "ekr2nIex040",
         "@อรัญญาฮาดดา-ห9พ",
         "TAEKWONDO",
         "2025-07-13T14:19:24.000Z",
         0,
         "2025-07-13",
         14
        ],
        [
         "ekr2nIex040",
         "@อรัญญาฮาดดา-ห9พ",
         "BOXING",
         "2025-07-13T14:19:18.000Z",
         0,
         "2025-07-13",
         14
        ],
        [
         "ekr2nIex040",
         "@อรัญญาฮาดดา-ห9พ",
         "BADMINTON",
         "2025-07-13T14:19:12.000Z",
         0,
         "2025-07-13",
         14
        ],
        [
         "ekr2nIex040",
         "@อรัญญาฮาดดา-ห9พ",
         "SNOOKER",
         "2025-07-13T14:18:47.000Z",
         0,
         "2025-07-13",
         14
        ],
        [
         "ekr2nIex040",
         "@อรัญญาฮาดดา-ห9พ",
         "RACING",
         "2025-07-13T14:18:03.000Z",
         0,
         "2025-07-13",
         14
        ],
        [
         "ekr2nIex040",
         "@อรัญญาฮาดดา-ห9พ",
         "GOLF",
         "2025-07-13T14:17:55.000Z",
         0,
         "2025-07-13",
         14
        ],
        [
         "ekr2nIex040",
         "@อรัญญาฮาดดา-ห9พ",
         "TENNIS",
         "2025-07-13T14:17:48.000Z",
         0,
         "2025-07-13",
         14
        ],
        [
         "ekr2nIex040",
         "@อรัญญาฮาดดา-ห9พ",
         "FOOTBALL",
         "2025-07-13T14:17:43.000Z",
         0,
         "2025-07-13",
         14
        ],
        [
         "ekr2nIex040",
         "@อรัญญาฮาดดา-ห9พ",
         "BIKEBMX",
         "2025-07-13T14:17:37.000Z",
         0,
         "2025-07-13",
         14
        ],
        [
         "ekr2nIex040",
         "@อรัญญาฮาดดา-ห9พ",
         "RACING",
         "2025-07-13T14:17:30.000Z",
         0,
         "2025-07-13",
         14
        ],
        [
         "ekr2nIex040",
         "@FreyaEmmerson-q7h",
         "amazing love this collab",
         "2025-07-13T14:16:44.000Z",
         0,
         "2025-07-13",
         14
        ],
        [
         "ekr2nIex040",
         "@AberteMariz",
         "2B",
         "2025-07-13T14:16:03.000Z",
         0,
         "2025-07-13",
         14
        ],
        [
         "ekr2nIex040",
         "@LevysRST",
         "Brazilian \nH",
         "2025-07-13T14:15:04.000Z",
         0,
         "2025-07-13",
         14
        ],
        [
         "ekr2nIex040",
         "@faisalmalik1147",
         "Who is here after blackpink come back",
         "2025-07-13T14:08:24.000Z",
         6,
         "2025-07-13",
         14
        ],
        [
         "ekr2nIex040",
         "@firsttogojd",
         "2B",
         "2025-07-13T14:08:19.000Z",
         1,
         "2025-07-13",
         14
        ],
        [
         "ekr2nIex040",
         "@firsttogojd",
         "HIT",
         "2025-07-13T14:08:10.000Z",
         0,
         "2025-07-13",
         14
        ],
        [
         "ekr2nIex040",
         "@jojikanovi2688",
         "THE KISS?  \uD83D\uDE02❤",
         "2025-07-13T14:00:11.000Z",
         2,
         "2025-07-13",
         14
        ],
        [
         "ekr2nIex040",
         "@BLACKPİNK2016JLRJ-BP",
         "2 mr olur mu",
         "2025-07-13T13:59:23.000Z",
         0,
         "2025-07-13",
         13
        ],
        [
         "ekr2nIex040",
         "@NomboFF",
         "Ing",
         "2025-07-13T13:59:23.000Z",
         0,
         "2025-07-13",
         13
        ],
        [
         "ekr2nIex040",
         "@wendyangeliacero4275",
         "2025 anyone? <3",
         "2025-07-13T13:59:09.000Z",
         2,
         "2025-07-13",
         13
        ],
        [
         "ekr2nIex040",
         "@potaxio-rd4nu",
         "APT APT APT!!!!",
         "2025-07-13T13:44:15.000Z",
         1,
         "2025-07-13",
         13
        ],
        [
         "ekr2nIex040",
         "@jenniferyaun5076",
         "⚡⚡⚡⚡⚡⚡⚡⚡⚡⚡⚡⚡⚡⚡⚡⚡⚡⚡ yehey",
         "2025-07-13T13:44:11.000Z",
         0,
         "2025-07-13",
         13
        ],
        [
         "ekr2nIex040",
         "@LauraMorgan-p7t",
         "Apt",
         "2025-07-13T13:41:04.000Z",
         0,
         "2025-07-13",
         13
        ],
        [
         "ekr2nIex040",
         "@MdMafoz-j5h",
         "\uD83C\uDF89 good",
         "2025-07-13T13:37:50.000Z",
         0,
         "2025-07-13",
         13
        ],
        [
         "ekr2nIex040",
         "@feruzesanov1939",
         "Zõr chiqibdib",
         "2025-07-13T13:36:01.000Z",
         0,
         "2025-07-13",
         13
        ],
        [
         "ekr2nIex040",
         "@mariaathanasiou4528",
         "Η",
         "2025-07-13T13:29:49.000Z",
         0,
         "2025-07-13",
         13
        ],
        [
         "ekr2nIex040",
         "@MaruimMIR",
         "\uD83D\uDD90",
         "2025-07-13T13:22:16.000Z",
         1,
         "2025-07-13",
         13
        ],
        [
         "ekr2nIex040",
         "@nthuong2566",
         "nguyên nài khúc nào cũm hay",
         "2025-07-13T13:17:55.000Z",
         0,
         "2025-07-13",
         13
        ],
        [
         "ekr2nIex040",
         "@nthuong2566",
         "vuii",
         "2025-07-13T13:17:00.000Z",
         0,
         "2025-07-13",
         13
        ],
        [
         "ekr2nIex040",
         "@nthuong2566",
         "ghiềnn",
         "2025-07-13T13:16:41.000Z",
         0,
         "2025-07-13",
         13
        ]
       ],
       "datasetInfos": [],
       "dbfsResultPath": null,
       "isJsonSchema": true,
       "metadata": {},
       "overflow": false,
       "plotOptions": {
        "customPlotOptions": {},
        "displayType": "table",
        "pivotAggregation": null,
        "pivotColumns": null,
        "xColumns": null,
        "yColumns": null
       },
       "removedWidgets": [],
       "schema": [
        {
         "metadata": "{}",
         "name": "video_id",
         "type": "\"string\""
        },
        {
         "metadata": "{}",
         "name": "user",
         "type": "\"string\""
        },
        {
         "metadata": "{}",
         "name": "text",
         "type": "\"string\""
        },
        {
         "metadata": "{}",
         "name": "published_at",
         "type": "\"timestamp\""
        },
        {
         "metadata": "{}",
         "name": "like_count",
         "type": "\"long\""
        },
        {
         "metadata": "{}",
         "name": "date",
         "type": "\"date\""
        },
        {
         "metadata": "{}",
         "name": "comment_hour",
         "type": "\"integer\""
        }
       ],
       "type": "table"
      }
     },
     "output_type": "display_data"
    }
   ],
   "source": [
    "from pyspark.sql.functions import to_date, hour, trim, when, col\n",
    "\n",
    "df_silver = df_bronze\\\n",
    "    .withColumn(\"published_at\", to_timestamp(col(\"published_at\")))\\\n",
    "    .withColumn(\"date\", to_date(col(\"published_at\")))\\\n",
    "    .withColumn(\"comment_hour\", hour(col(\"published_at\")))\\\n",
    "    .withColumn(\"user\", trim(col(\"user\")))\\\n",
    "    .withColumn(\"text\", trim(col(\"text\")))\n",
    "    \n",
    "\n",
    "\n",
    "df_silver.display()"
   ]
  },
  {
   "cell_type": "code",
   "execution_count": 0,
   "metadata": {
    "application/vnd.databricks.v1+cell": {
     "cellMetadata": {
      "byteLimit": 2048000,
      "rowLimit": 10000
     },
     "inputWidgets": {},
     "nuid": "90b30fa7-e681-468b-84fa-62207e12401d",
     "showTitle": true,
     "tableResultSettingsMap": {},
     "title": "write to silver"
    }
   },
   "outputs": [
    {
     "output_type": "stream",
     "name": "stdout",
     "output_type": "stream",
     "text": [
      "Silver Layer written to Blob\n"
     ]
    }
   ],
   "source": [
    "df_silver.write.mode(\"overwrite\").format(\"delta\").save(silver_path)\n",
    "print(\"Silver Layer written to Blob\")"
   ]
  },
  {
   "cell_type": "code",
   "execution_count": 0,
   "metadata": {
    "application/vnd.databricks.v1+cell": {
     "cellMetadata": {
      "byteLimit": 2048000,
      "rowLimit": 10000
     },
     "inputWidgets": {},
     "nuid": "a0e4a2b2-0e9b-4d41-b900-222ca946d4f4",
     "showTitle": false,
     "tableResultSettingsMap": {},
     "title": ""
    }
   },
   "outputs": [],
   "source": []
  }
 ],
 "metadata": {
  "application/vnd.databricks.v1+notebook": {
   "computePreferences": null,
   "dashboards": [],
   "environmentMetadata": {
    "base_environment": "",
    "environment_version": "2"
   },
   "inputWidgetPreferences": null,
   "language": "python",
   "notebookMetadata": {
    "pythonIndentUnit": 4
   },
   "notebookName": "bronze to silver",
   "widgets": {}
  },
  "language_info": {
   "name": "python"
  }
 },
 "nbformat": 4,
 "nbformat_minor": 0
}